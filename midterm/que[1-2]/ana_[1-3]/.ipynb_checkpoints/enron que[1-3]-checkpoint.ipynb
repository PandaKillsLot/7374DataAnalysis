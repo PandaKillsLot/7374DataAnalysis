{
 "cells": [
  {
   "cell_type": "markdown",
   "metadata": {},
   "source": [
    "# Enron Questions \n",
    "- The number folders and emails that each employee had ? What's thier name in pair to thier email address? \n",
    "- Who did the chief officer contact the most ? Are their mail in the data set ? W \n",
    "- What did CEO and his employee talk about the most ?"
   ]
  },
  {
   "cell_type": "markdown",
   "metadata": {},
   "source": [
    "# Analysis I \n",
    "- What's every employee's email address ?\n",
    "- How many folders and email does each user has ?"
   ]
  },
  {
   "cell_type": "code",
   "execution_count": 37,
   "metadata": {
    "collapsed": true
   },
   "outputs": [],
   "source": [
    "import glob\n",
    "import operator\n",
    "import os "
   ]
  },
  {
   "cell_type": "code",
   "execution_count": 38,
   "metadata": {
    "collapsed": false
   },
   "outputs": [],
   "source": [
    "#use glob command to find all doc \n",
    "path = \"~/midterm/data/enron/maildir\"\n",
    "# glob command does not take '~' charactor\n",
    "mainPath=  \"/home/pandakillalot/midterm/data/enron/maildir\"\n",
    "mailDir = glob.glob(mainPath + \"/*\")"
   ]
  },
  {
   "cell_type": "code",
   "execution_count": 39,
   "metadata": {
    "collapsed": false
   },
   "outputs": [
    {
     "name": "stdout",
     "output_type": "stream",
     "text": [
      "There is  150 employees in the data set\n"
     ]
    }
   ],
   "source": [
    "print(\"There is \",len(mailDir),\"employees in the data set\")"
   ]
  },
  {
   "cell_type": "code",
   "execution_count": 40,
   "metadata": {
    "collapsed": false
   },
   "outputs": [],
   "source": [
    "#mailDir"
   ]
  },
  {
   "cell_type": "code",
   "execution_count": 41,
   "metadata": {
    "collapsed": false
   },
   "outputs": [],
   "source": [
    "#mailDir[1].split(\"/\")[-1]"
   ]
  },
  {
   "cell_type": "code",
   "execution_count": 42,
   "metadata": {
    "collapsed": false
   },
   "outputs": [],
   "source": [
    "# open the email into an array of world\n",
    "def emailR (emailpath):\n",
    "    myfile = open(emailpath, encoding='utf-8', errors=\"ignore\")\n",
    "    arr=[]\n",
    "    for lines in myfile.readlines():\n",
    "        lines = lines.replace(\"\\n\",\" \")\n",
    "        lines = lines.replace(\",\",\" \")\n",
    "        lines = lines.split(\" \")\n",
    "        for words in lines:\n",
    "            word = words.split(\" \")\n",
    "            for cell in word:\n",
    "                arr.append(cell)\n",
    "    return arr"
   ]
  },
  {
   "cell_type": "code",
   "execution_count": 43,
   "metadata": {
    "collapsed": true
   },
   "outputs": [],
   "source": [
    "#given an array, find mail address\n",
    "def docLocate(arr):\n",
    "    for x in range(0, len(arr) ):\n",
    "        if arr[x] == \"From:\": \n",
    "            return (arr[x + 1])"
   ]
  },
  {
   "cell_type": "code",
   "execution_count": 44,
   "metadata": {
    "collapsed": false
   },
   "outputs": [],
   "source": [
    "#sort the dic\n",
    "def sortDic(dic):\n",
    "    w = list(sorted(dic.items(), key=operator.itemgetter(1), reverse=True))\n",
    "    return dic"
   ]
  },
  {
   "cell_type": "code",
   "execution_count": 45,
   "metadata": {
    "collapsed": false
   },
   "outputs": [],
   "source": [
    "# find the employee name & mail address \n",
    "def nameMail (userpathString):\n",
    "    # dicUser = {\"email address\" :'USERNAME'} \n",
    "    dicUser = { }\n",
    "    addressList ={ }\n",
    "    \n",
    "    name = userpathString.split(\"/\")[-1]\n",
    "    folderList = glob.glob(userpathString + \"/*\")\n",
    "    for x in folderList:\n",
    "        # search for email address in all \"sent\" mail boxs\n",
    "        if \"sent\" in x:\n",
    "            docList = glob.glob(x + \"/*\")\n",
    "            # search every email in the box\n",
    "            for y in docList:\n",
    "                #read email -> arr\n",
    "                # find the mail and return it \n",
    "                # z is an array\n",
    "                #\n",
    "                w = emailR(y)\n",
    "                z = docLocate(w)\n",
    "\n",
    "                if z in addressList :\n",
    "                    addressList[z] = addressList.get(z,-1) + 1\n",
    "                else :\n",
    "                    addressList[z] = 1\n",
    "\n",
    "    final =  sortDic(addressList)\n",
    "    \n",
    "    #print(list(final.keys())[0])\n",
    "    if (len(list(final.keys())) == 0):\n",
    "        dicUser = {\"unknown\":{\"username\": name}}\n",
    "    else :\n",
    "        dicUser = {list(final.keys())[0]:{\"username\": name}}\n",
    "    return dicUser              "
   ]
  },
  {
   "cell_type": "code",
   "execution_count": 46,
   "metadata": {
    "collapsed": false
   },
   "outputs": [],
   "source": [
    "# count the number of folders\n",
    "def mailInfo (userfilepath):\n",
    "    folderNumber = 0;\n",
    "    mailNUmber = 0;\n",
    "    dic = {\"folderNumber\": 0, \"mailNumber\" : 0}\n",
    "    L = glob.glob(userfilepath + \"/*\")       \n",
    "           \n",
    "    for x in L:\n",
    "        mailNUmber = mailNUmber + mailCounting(x)\n",
    "           \n",
    "    dic[\"folderNumber\"] = len(L)\n",
    "    dic[\"mailNumber\"] = mailNUmber\n",
    "        \n",
    "    return dic"
   ]
  },
  {
   "cell_type": "code",
   "execution_count": 47,
   "metadata": {
    "collapsed": false
   },
   "outputs": [],
   "source": [
    "# count the number of emails\n",
    "def mailCounting (usermailfolderpath):\n",
    "    total = 0\n",
    "    for x in glob.glob(usermailfolderpath + \"/*\"):\n",
    "        total = total + len(glob.glob(usermailfolderpath + \"/*\"))\n",
    "    return total"
   ]
  },
  {
   "cell_type": "code",
   "execution_count": null,
   "metadata": {
    "collapsed": false
   },
   "outputs": [
    {
     "data": {
      "text/plain": [
       "{'phillip.allen@enron.com': {'username': 'allen-p'}}"
      ]
     },
     "execution_count": 48,
     "metadata": {},
     "output_type": "execute_result"
    }
   ],
   "source": [
    "#test\n",
    "nameMail(\"/home/pandakillalot/midterm/data/enron/maildir/allen-p\")"
   ]
  },
  {
   "cell_type": "code",
   "execution_count": null,
   "metadata": {
    "collapsed": false,
    "scrolled": true
   },
   "outputs": [],
   "source": [
    "#process the enron data\n",
    "#allEmployee ={mailAddress :{\"username\": name,'folderNumber': 10, 'mailNumber': 1498450},mailAddress:{\"username\": name}}\n",
    "allEmployee = {}\n",
    "for x in mailDir :\n",
    "    #find name and address\n",
    "    #paths are like  '/home/pandakillalot/midterm/data/enron/maildir/salisbury-h',\n",
    "    #singleNmae = mailAddress :{\"username\": name}\n",
    "    singleName = nameMail(x)\n",
    "    #singleNUmber = {'folderNumber': 10, 'mailNumber': 1498450}\n",
    "    singleNUmber = mailInfo(x)\n",
    "    \n",
    "    email = list(singleName.keys())[0]\n",
    "    name = list(singleName.values())[0]\n",
    "    \n",
    "    dic = dict( name, **singleNUmber)\n",
    "    allEmployee[email] = dic  "
   ]
  },
  {
   "cell_type": "code",
   "execution_count": null,
   "metadata": {
    "collapsed": false
   },
   "outputs": [],
   "source": [
    "print(len(allEmployee))"
   ]
  },
  {
   "cell_type": "code",
   "execution_count": 38,
   "metadata": {
    "collapsed": false
   },
   "outputs": [],
   "source": [
    "# write the key-pair as a json file\n",
    "import json\n",
    "with open('userInfo.json','w')as f:\n",
    "    json.dump(allEmployee, f)\n",
    "P = json.load(open('userInfo.json'))"
   ]
  },
  {
   "cell_type": "code",
   "execution_count": 40,
   "metadata": {
    "collapsed": false
   },
   "outputs": [
    {
     "name": "stdout",
     "output_type": "stream",
     "text": [
      "147\n",
      "This a slice of the userinfomation we got so far\n",
      "james.derrick@enron.com {'username': 'derrick-j', 'folderNumber': 12, 'mailNumber': 580442}\n",
      "kevin.ruscitti@enron.com {'username': 'ruscitti-k', 'folderNumber': 35, 'mailNumber': 352039}\n",
      "d..thomas@enron.com {'username': 'thomas-p', 'folderNumber': 6, 'mailNumber': 671309}\n",
      "elizabeth.sager@enron.com {'username': 'sager-e', 'folderNumber': 13, 'mailNumber': 6085943}\n",
      "holden.salisbury@enron.com {'username': 'salisbury-h', 'folderNumber': 5, 'mailNumber': 1447826}\n",
      "dutch.quigley@enron.com {'username': 'quigley-d', 'folderNumber': 15, 'mailNumber': 456298}\n",
      "joe.quenet@enron.com {'username': 'quenet-j', 'folderNumber': 8, 'mailNumber': 34037}\n",
      "chris.dorland@enron.com {'username': 'dorland-c', 'folderNumber': 11, 'mailNumber': 853605}\n",
      "lindy.donoho@enron.com {'username': 'donoho-l', 'folderNumber': 5, 'mailNumber': 100491}\n"
     ]
    }
   ],
   "source": [
    "key = list(P.keys())\n",
    "val = list(P.values())\n",
    "print(len(key))\n",
    "print(\"This a slice of the userinfomation we got so far\")\n",
    "for x in range(1,10):\n",
    "    print(key[x],val[x])"
   ]
  },
  {
   "cell_type": "markdown",
   "metadata": {
    "collapsed": true
   },
   "source": [
    "# Analysis I I\n",
    "- Is the CEO or CFO among the file ?\n",
    "- If so, who did they contact ? Are they amoung the employee samples here? \n",
    "（第二问就简单找一下这个ceo然后用写好的简化他全部邮件，找下top3， 去top3 里分别找出邮件）\n",
    "（第三问就统计一下高频的词汇，再分下日期，看下前后的高频词是不是一样）"
   ]
  },
  {
   "cell_type": "markdown",
   "metadata": {
    "collapsed": true
   },
   "source": [
    "Given the related article \"http://www.investopedia.com/updates/enron-scandal-summary/\", I found three supreme leaders that might be responsible for the scandal, whose name is \"Andrew Fastow\",the CFO,\"Jeffrey Skilling\",the CEO, and \"arthur anderson\", the accountant.\n",
    "However, only the CEO's email folder was founded in the data. So I chose to dig on his email \n",
    "This step is to find who did him contact the most."
   ]
  },
  {
   "cell_type": "code",
   "execution_count": 10,
   "metadata": {
    "collapsed": true
   },
   "outputs": [],
   "source": [
    "# use email module to deal with emails\n",
    "from email.parser import Parser"
   ]
  },
  {
   "cell_type": "code",
   "execution_count": 87,
   "metadata": {
    "collapsed": false
   },
   "outputs": [],
   "source": [
    "#given an email file,find the email address it contains\n",
    "def findMail(email):\n",
    "    L = []\n",
    "    with open(email, 'r',errors=\"ignore\") as fp:\n",
    "        data=fp.read()\n",
    "    emaildata = Parser().parsestr(data)\n",
    "    if emaildata[\"From\"]is not None:\n",
    "        L.append(emaildata[\"From\"])\n",
    "    if emaildata[\"To\"]is not None:\n",
    "        L.append(emaildata[\"To\"])\n",
    "    return L"
   ]
  },
  {
   "cell_type": "code",
   "execution_count": 88,
   "metadata": {
    "collapsed": false
   },
   "outputs": [
    {
     "data": {
      "text/plain": [
       "['outlook-migration-team@enron.com']"
      ]
     },
     "execution_count": 88,
     "metadata": {},
     "output_type": "execute_result"
    }
   ],
   "source": [
    "#test\n",
    "findMail(\"/home/pandakillalot/midterm/data/enron/maildir/allen-p/contacts/1.\")"
   ]
  },
  {
   "cell_type": "code",
   "execution_count": 91,
   "metadata": {
    "collapsed": false
   },
   "outputs": [],
   "source": [
    "# given a file dir, find all addresses in it\n",
    "def findAllCointactor(userFolder):\n",
    "    contactorDic = []\n",
    "    allFolder = glob.glob(userFolder + \"/*\")# first level :sent mail,inbox.....\n",
    "    for z in allFolder:\n",
    "        flolderList = glob.glob(z + \"/*\")# second level :mostly txt\n",
    "        for x in flolderList:\n",
    "            if os.path.isdir(x):\n",
    "                docList = glob.glob(x + \"/*\")\n",
    "                #with open (x, encoding='utf-8', errors=\"ignore\") as file_content:\n",
    "                for y in docList:\n",
    "                    w = findMail(y)\n",
    "                    contactorDic = contactorDic + w   \n",
    "            else:\n",
    "                w = findMail(x)\n",
    "                contactorDic = contactorDic + w  \n",
    "                \n",
    "    return contactorDic"
   ]
  },
  {
   "cell_type": "code",
   "execution_count": 109,
   "metadata": {
    "collapsed": false
   },
   "outputs": [],
   "source": [
    "P = findAllCointactor(\"/home/pandakillalot/midterm/data/enron/maildir/skilling-j\")"
   ]
  },
  {
   "cell_type": "code",
   "execution_count": 110,
   "metadata": {
    "collapsed": false
   },
   "outputs": [
    {
     "name": "stdout",
     "output_type": "stream",
     "text": [
      "['sherri.sera@enron.com', 'tpclosson@aol.com', 'katherine.brown@enron.com', 'cindy.stark@enron.com', 'sherri.sera@enron.com']\n"
     ]
    }
   ],
   "source": [
    "# some of the address I got\n",
    "print(P[0:5])"
   ]
  },
  {
   "cell_type": "code",
   "execution_count": 32,
   "metadata": {
    "collapsed": true
   },
   "outputs": [],
   "source": [
    "from nltk import FreqDist"
   ]
  },
  {
   "cell_type": "code",
   "execution_count": 113,
   "metadata": {
    "collapsed": false
   },
   "outputs": [
    {
     "data": {
      "text/plain": [
       "[('jeff.skilling@enron.com', 1226),\n",
       " ('sherri.sera@enron.com', 685),\n",
       " ('markskilling@hotmail.com', 213),\n",
       " ('smu-betas@yahoogroups.com', 166),\n",
       " ('joannie.williamson@enron.com', 157),\n",
       " ('40enron@enron.com', 141),\n",
       " ('fredinvt@juno.com', 105),\n",
       " ('jskilli@enron.com', 90),\n",
       " ('amelia.alder@enron.com', 84),\n",
       " ('no.address@enron.com', 77),\n",
       " ('svarga@kudlow.com', 72),\n",
       " ('tomskilljr@aol.com', 61),\n",
       " ('sherri.reinartz@enron.com', 57),\n",
       " ('lisa.connolly@enron.com', 55),\n",
       " ('dottie@kerr-solutions.com', 53),\n",
       " ('katherine.brown@enron.com', 46),\n",
       " ('kenneth.thibodeaux@enron.com', 41),\n",
       " ('all.worldwide@enron.com', 41),\n",
       " ('jeff.skilling@enron.com, etblaw@aol.com, gbsmith@smith-graham.com, \\n\\trcampos@eldoradocorp.com, shirley.h.tapscott@uth.tmc.edu',\n",
       "  41),\n",
       " ('enron.announcements@enron.com', 41),\n",
       " ('stephanie.strong@enron.com', 38),\n",
       " ('eharris@insightpartners.com', 37),\n",
       " ('leonardo.pacheco@enron.com', 37),\n",
       " ('boethia@hotmail.com', 36),\n",
       " ('kskilling@ehshouston.org', 35),\n",
       " ('tskilling@tribune.com', 35),\n",
       " ('david.morris@lehman.com', 34),\n",
       " ('kenneth.lay@enron.com, jeff.skilling@enron.com', 32),\n",
       " ('chuck.paul@a-closer-look.com', 31),\n",
       " ('smu-betas@egroups.com', 31),\n",
       " ('stanmarek@marekbros.com', 29),\n",
       " ('simone.la@enron.com', 27),\n",
       " ('david.delainey@enron.com', 26),\n",
       " ('karen.denne@enron.com', 25),\n",
       " ('nkelley@tqcap.com', 24),\n",
       " ('larimore@enron.com, jordan.larimore@lehman.com', 24),\n",
       " ('kevinscott@onlinemailbox.net', 23),\n",
       " ('jay.fitzgerald@enron.com', 23),\n",
       " ('billy.lemmons@enron.com', 23),\n",
       " ('btowbin@unterberg.com', 22),\n",
       " ('amadariaga@bankinter.es, amsaez@bankinter.es, aleon@bankinter.es, \\n\\tbkrv@bankinter.es, buriartev@bankinter.es, cencinas@bankinter.es, \\n\\tclastrag@bankinter.es, eaguado@bankinter.es, egciahi@bankinter.es, \\n\\teurquijo@bankinter.es, falfaro@bankinter.es, fjrivero@bankinter.es, \\n\\tfra@bankinter.es, gblanc@bankinter.es, jbcollado@bankinter.es, \\n\\tjbollain@bankinter.es, jflopez@bankinter.es, jperalgu@bankinter.es, \\n\\tjrivas@bankinter.es, llazaro@bankinter.es, mjnez@bankinter.es, \\n\\tmjvilla@bankinter.es, mlalonso@bankinter.es, mmverdu@bankinter.es, \\n\\tpdiego@bankinter.es, pmmtnezs@bankinter.es, stapia@bankinter.es, \\n\\tzhtowbin@bankinter.es',\n",
       "  22),\n",
       " ('kcompton@kpcb.com', 21),\n",
       " ('administrator@houstontech.org', 21),\n",
       " ('hosman@eskridge.net', 21),\n",
       " ('kevin.hannon@enron.com', 20),\n",
       " ('knethercutt@houstontech.org', 20),\n",
       " ('jdent@mmcable.com', 20),\n",
       " ('all.houston@enron.com', 19),\n",
       " ('jeffrey.shankman@enron.com', 19),\n",
       " ('charlene.jackson@enron.com', 18)]"
      ]
     },
     "execution_count": 113,
     "metadata": {},
     "output_type": "execute_result"
    }
   ],
   "source": [
    "# use the FreqDist module to count frequnecy\n",
    "fd = FreqDist(P)\n",
    "    #print('Number of NAME in L:\\n>>', fd.N())   \n",
    "    #print('Unique NAME in l:\\n>>', fd.B())\n",
    "word_list = []\n",
    "for word in fd.keys():\n",
    "    word_list.append((word, fd[word]))\n",
    "sorted_list = sorted(word_list, key=lambda t:t[1], reverse=True)\n",
    "sorted_list[0:50]"
   ]
  },
  {
   "cell_type": "markdown",
   "metadata": {
    "collapsed": true
   },
   "source": [
    "# Analysis III \n",
    "- Since CEO always takes their words carefully, I try to dig some words related to scandal from emails of his most frequent contacors.  This time, I picked the second one from the frequent contactor list,whoes name is DD"
   ]
  },
  {
   "cell_type": "code",
   "execution_count": 115,
   "metadata": {
    "collapsed": false
   },
   "outputs": [],
   "source": [
    "import json\n",
    "P = json.load(open('userInfo.json'))"
   ]
  },
  {
   "cell_type": "code",
   "execution_count": 133,
   "metadata": {
    "collapsed": false
   },
   "outputs": [],
   "source": [
    "# use the dic got from the first question to find the username\n",
    "def findContactorInDIc(sorted_list,P):\n",
    "    L = []\n",
    "    for x in sorted_list:\n",
    "        if P.get(x[0],\"not in\") != \"not in\":\n",
    "            dic = {}\n",
    "            dic[x[0]] = P.get(x[0])[\"username\"]\n",
    "            L.append(dic)\n",
    "    return L"
   ]
  },
  {
   "cell_type": "code",
   "execution_count": 11,
   "metadata": {
    "collapsed": false
   },
   "outputs": [],
   "source": [
    "import string\n",
    "punc = set(string.punctuation)"
   ]
  },
  {
   "cell_type": "code",
   "execution_count": 12,
   "metadata": {
    "collapsed": false
   },
   "outputs": [],
   "source": [
    "from nltk.corpus import stopwords\n",
    "stop = set(stopwords.words('english'))"
   ]
  },
  {
   "cell_type": "code",
   "execution_count": 16,
   "metadata": {
    "collapsed": true
   },
   "outputs": [],
   "source": [
    "# read contents of an email into single word\n",
    "def getSingleContent(email):\n",
    "    L = []\n",
    "    arr = []\n",
    "    with open(email, 'r',errors=\"ignore\") as fp:\n",
    "        data=fp.read()\n",
    "    emaildata = Parser().parsestr(data)\n",
    "    s = emaildata.get_payload()\n",
    "    s = s.replace(\"\\n\",\" \")\n",
    "    s = s.replace(\",\",\" \")\n",
    "    s = s.split(\" \")\n",
    "    for words in s:\n",
    "        word = words.split(\" \")\n",
    "        for cell in word:\n",
    "            arr.append(cell)\n",
    "    #remove punctuations and stopwords\n",
    "    for x in arr:\n",
    "        if x not in punc and x not in stop:\n",
    "            L.append(x.lower())\n",
    "    return L"
   ]
  },
  {
   "cell_type": "code",
   "execution_count": 25,
   "metadata": {
    "collapsed": true
   },
   "outputs": [],
   "source": [
    "# read all emails\n",
    "def readAllEmail(userFolder):\n",
    "    wordList = []\n",
    "    allFolder = glob.glob(userFolder + \"/*\")# first level :sent mail,inbox.....\n",
    "    for z in allFolder:\n",
    "        flolderList = glob.glob(z + \"/*\")# second level :mostly txt\n",
    "        for x in flolderList:\n",
    "            if os.path.isdir(x):\n",
    "                docList = glob.glob(x + \"/*\")\n",
    "                #with open (x, encoding='utf-8', errors=\"ignore\") as file_content:\n",
    "                for y in docList:\n",
    "                    w = getSingleContent(y)\n",
    "                    wordList = wordList + w   \n",
    "            else:\n",
    "                w = getSingleContent(x)\n",
    "                wordList = wordList + w  \n",
    "                \n",
    "    return wordList"
   ]
  },
  {
   "cell_type": "code",
   "execution_count": 142,
   "metadata": {
    "collapsed": false
   },
   "outputs": [
    {
     "name": "stdout",
     "output_type": "stream",
     "text": [
      "Those contactor in the dic: email + username (foldername): \n",
      "\n"
     ]
    },
    {
     "data": {
      "text/plain": [
       "[{'sherri.sera@enron.com': 'skilling-j'},\n",
       " {'david.delainey@enron.com': 'delainey-d'},\n",
       " {'jeffrey.shankman@enron.com': 'shankman-j'},\n",
       " {'steven.kean@enron.com': 'kean-s'},\n",
       " {'rosalee.fleming@enron.com': 'lay-k'},\n",
       " {'cindy.stark@enron.com': 'horton-s'},\n",
       " {'mike.mcconnell@enron.com': 'mcconnell-m'},\n",
       " {'rod.hayslett@enron.com': 'hayslett-r'},\n",
       " {'vince.kaminski@enron.com': 'kaminski-v'},\n",
       " {'rick.buy@enron.com': 'buy-r'},\n",
       " {'richard.shapiro@enron.com': 'shapiro-r'},\n",
       " {'sally.beck@enron.com': 'beck-s'},\n",
       " {'james.derrick@enron.com': 'derrick-j'},\n",
       " {'andy.zipper@enron.com': 'zipper-a'},\n",
       " {'john.lavorato@enron.com': 'lavorato-j'},\n",
       " {'jeff.dasovich@enron.com': 'dasovich-j'}]"
      ]
     },
     "execution_count": 142,
     "metadata": {},
     "output_type": "execute_result"
    }
   ],
   "source": [
    "# compare the two list we got to see who is in the data set\n",
    "L = findContactorInDIc(sorted_list,P)\n",
    "# a glance of the name\n",
    "print(\"Those contactor in the dic: email + username (foldername): \\n\")\n",
    "L"
   ]
  },
  {
   "cell_type": "code",
   "execution_count": 20,
   "metadata": {
    "collapsed": false
   },
   "outputs": [
    {
     "data": {
      "text/plain": [
       "['loan', 'servicing-jessica', 'weeber', '800-393-5626', 'jweeber@spbank.com']"
      ]
     },
     "execution_count": 20,
     "metadata": {},
     "output_type": "execute_result"
    }
   ],
   "source": [
    "#test /home/pandakillalot/midterm/data/enron/maildir/allen-p/all_documents\n",
    "c = getSingleContent(\"/home/pandakillalot/midterm/data/enron/maildir/allen-p/contacts/1.\")\n",
    "c "
   ]
  },
  {
   "cell_type": "code",
   "execution_count": 28,
   "metadata": {
    "collapsed": false
   },
   "outputs": [],
   "source": [
    "wordsDD = readAllEmail(\"/home/pandakillalot/midterm/data/enron/maildir/delainey-d\")"
   ]
  },
  {
   "cell_type": "code",
   "execution_count": 30,
   "metadata": {
    "collapsed": false
   },
   "outputs": [
    {
     "data": {
      "text/plain": [
       "729971"
      ]
     },
     "execution_count": 30,
     "metadata": {},
     "output_type": "execute_result"
    }
   ],
   "source": [
    "len(wordsDD)"
   ]
  },
  {
   "cell_type": "code",
   "execution_count": 33,
   "metadata": {
    "collapsed": false
   },
   "outputs": [
    {
     "data": {
      "text/plain": [
       "[('', 199861),\n",
       " ('i', 8474),\n",
       " ('david', 5993),\n",
       " ('w', 5173),\n",
       " ('pm', 4474),\n",
       " ('to:', 3534),\n",
       " ('subject:', 3518),\n",
       " ('cc:', 3473),\n",
       " ('delainey', 3332),\n",
       " ('would', 3218),\n",
       " ('regards', 3088),\n",
       " ('forwarded', 3016),\n",
       " ('---------------------------', 2923),\n",
       " ('----------------------', 2913),\n",
       " ('the', 2689),\n",
       " ('am', 2479),\n",
       " ('please', 2433),\n",
       " ('enron', 2342),\n",
       " ('delainey/hou/ect', 2315),\n",
       " ('\\t', 1903),\n",
       " ('delainey/hou/ect@ect', 1879),\n",
       " ('john', 1777),\n",
       " ('=20', 1740),\n",
       " ('ena', 1677),\n",
       " ('dave', 1504),\n",
       " ('power', 1465),\n",
       " ('business', 1438),\n",
       " ('we', 1411),\n",
       " ('mark', 1380),\n",
       " ('like', 1355),\n",
       " ('meeting', 1317),\n",
       " ('get', 1245),\n",
       " ('need', 1243),\n",
       " ('thanks', 1231),\n",
       " ('this', 1229),\n",
       " ('gas', 1226),\n",
       " ('know', 1146),\n",
       " ('time', 1135),\n",
       " ('market', 1128),\n",
       " ('deal', 1127),\n",
       " ('j', 1072),\n",
       " ('if', 1043),\n",
       " ('2000', 1030),\n",
       " ('team', 1016),\n",
       " ('new', 987),\n",
       " ('us', 969),\n",
       " ('may', 961),\n",
       " ('kay', 936),\n",
       " ('one', 934),\n",
       " ('energy', 909)]"
      ]
     },
     "execution_count": 33,
     "metadata": {},
     "output_type": "execute_result"
    }
   ],
   "source": [
    "# find the frequency of the words\n",
    "fd = FreqDist(wordsDD)\n",
    "    #print('Number of NAME in L:\\n>>', fd.N())   \n",
    "    #print('Unique NAME in l:\\n>>', fd.B())\n",
    "word_list = []\n",
    "for word in fd.keys():\n",
    "    word_list.append((word, fd[word]))\n",
    "sorted_list = sorted(word_list, key=lambda t:t[1], reverse=True)\n",
    "sorted_list[0:50]"
   ]
  },
  {
   "cell_type": "markdown",
   "metadata": {},
   "source": [
    "# Test cases"
   ]
  },
  {
   "cell_type": "code",
   "execution_count": null,
   "metadata": {
    "collapsed": true
   },
   "outputs": [],
   "source": [
    "# open the email into an array of world\n",
    "def emailR (emailpath):\n",
    "    myfile = open(emailpath,'r')\n",
    "    arr=[]\n",
    "    for lines in myfile.readlines():\n",
    "        lines = lines.replace(\"\\n\",\" \")\n",
    "        lines = lines.replace(\",\",\" \")\n",
    "        lines = lines.split(\" \")\n",
    "        for words in lines:\n",
    "            word = words.split(\" \")\n",
    "            for cell in word:\n",
    "                arr.append(cell)\n",
    "    return arr"
   ]
  },
  {
   "cell_type": "code",
   "execution_count": 66,
   "metadata": {
    "collapsed": true
   },
   "outputs": [],
   "source": [
    "#given an array, find mail address\n",
    "def docLocate(arr):\n",
    "    for x in range(0, len(arr) ):\n",
    "        if arr[x] == \"From:\": \n",
    "            return (arr[x + 1])"
   ]
  },
  {
   "cell_type": "code",
   "execution_count": 67,
   "metadata": {
    "collapsed": false
   },
   "outputs": [
    {
     "data": {
      "text/plain": [
       "'outlook-migration-team@enron.com'"
      ]
     },
     "execution_count": 67,
     "metadata": {},
     "output_type": "execute_result"
    }
   ],
   "source": [
    "arr = emailR(\"/home/pandakillalot/midterm/data/enron/maildir/allen-p/contacts/1.\")\n",
    "arr\n",
    "docLocate(arr)"
   ]
  },
  {
   "cell_type": "code",
   "execution_count": 14,
   "metadata": {
    "collapsed": false
   },
   "outputs": [
    {
     "data": {
      "text/plain": [
       "{'folderNumber': 10, 'mailNumber': 1498450}"
      ]
     },
     "execution_count": 14,
     "metadata": {},
     "output_type": "execute_result"
    }
   ],
   "source": [
    "#test\n",
    "test = mailInfo(\"/home/pandakillalot/midterm/data/enron/maildir/*\" + \"allen-p\")\n",
    "test"
   ]
  },
  {
   "cell_type": "code",
   "execution_count": null,
   "metadata": {
    "collapsed": true
   },
   "outputs": [],
   "source": []
  },
  {
   "cell_type": "code",
   "execution_count": 60,
   "metadata": {
    "collapsed": true
   },
   "outputs": [],
   "source": [
    "import os\n",
    "import re\n",
    "def validateEmail(arrlist):\n",
    "    L = []\n",
    "    for x in arrlist:\n",
    "        if len(x) > 7:\n",
    "            if re.match(\"^.+\\\\@(\\\\[?)[a-zA-Z0-9\\\\-\\\\.]+\\\\.([a-zA-Z]{2,3}|[0-9]{1,3})(\\\\]?)$\", x) :\n",
    "               L.append(x)\n",
    "    return L"
   ]
  },
  {
   "cell_type": "code",
   "execution_count": 29,
   "metadata": {
    "collapsed": false
   },
   "outputs": [
    {
     "name": "stdout",
     "output_type": "stream",
     "text": [
      "None\n"
     ]
    },
    {
     "data": {
      "text/plain": [
       "<_io.TextIOWrapper name='/home/pandakillalot/midterm/data/enron/maildir/allen-p/contacts/1.' mode='r' encoding='UTF-8'>"
      ]
     },
     "execution_count": 29,
     "metadata": {},
     "output_type": "execute_result"
    }
   ],
   "source": [
    "dir = \"/home/pandakillalot/midterm/data/enron/maildir/allen-p/contacts/1.\"\n",
    "file =  \"/home/pandakillalot/midterm/data/enron/maildir/222\"\n",
    "\n",
    "mail = open(dir,\"r\", errors='ignore')\n",
    "em = email.message_from_string(mail.read())\n",
    "print(em.get('to'))\n"
   ]
  },
  {
   "cell_type": "code",
   "execution_count": null,
   "metadata": {
    "collapsed": true
   },
   "outputs": [],
   "source": []
  },
  {
   "cell_type": "code",
   "execution_count": 20,
   "metadata": {
    "collapsed": true
   },
   "outputs": [],
   "source": [
    "import email\n",
    "import os"
   ]
  },
  {
   "cell_type": "code",
   "execution_count": 147,
   "metadata": {
    "collapsed": false
   },
   "outputs": [],
   "source": [
    "\n",
    "#想做人际分析但是人名分析不出，太多邮箱。改成和多少人有一个稳定的来往，定在3次以上"
   ]
  },
  {
   "cell_type": "code",
   "execution_count": 41,
   "metadata": {
    "collapsed": true
   },
   "outputs": [],
   "source": [
    "import re\n",
    "def validateEmail(email):\n",
    "\n",
    "    if len(email) > 7:\n",
    "        if re.match(\"^.+\\\\@(\\\\[?)[a-zA-Z0-9\\\\-\\\\.]+\\\\.([a-zA-Z]{2,3}|[0-9]{1,3})(\\\\]?)$\", email) :\n",
    "            print(email)\n",
    "            return email\n",
    "        else:\n",
    "            return \"None\""
   ]
  },
  {
   "cell_type": "code",
   "execution_count": 15,
   "metadata": {
    "collapsed": false
   },
   "outputs": [
    {
     "name": "stdout",
     "output_type": "stream",
     "text": [
      "1.11913372.-2@multexinvestornetwork.com\n",
      "pallen@enron.com\n",
      "mailto:investor.help@multex.com\n"
     ]
    }
   ],
   "source": [
    "for x in arr:\n",
    "    validateEmail(x)\n",
    "    "
   ]
  },
  {
   "cell_type": "code",
   "execution_count": 160,
   "metadata": {
    "collapsed": false
   },
   "outputs": [
    {
     "name": "stdout",
     "output_type": "stream",
     "text": [
      "0\n",
      "1\n",
      "2\n",
      "3\n",
      "4\n",
      "5\n",
      "6\n",
      "7\n",
      "8\n",
      "9\n",
      "10\n",
      "11\n",
      "12\n",
      "13\n",
      "??\n",
      "1.11913372.-2@multexinvestornetwork.com\n",
      "14\n",
      "15\n",
      "16\n",
      "$$$\n",
      "pallen@enron.com\n"
     ]
    }
   ],
   "source": [
    "for x in range(0, len(arr) ):\n",
    "    print(x)\n",
    "    if arr[x] == \"From:\": \n",
    "        print(\"??\")\n",
    "        print(arr[x + 1])\n",
    "    if arr[x] == \"To:\":\n",
    "        print (\"$$$\")\n",
    "        print(arr[x + 1])\n",
    "        break\n",
    "   "
   ]
  },
  {
   "cell_type": "code",
   "execution_count": 146,
   "metadata": {
    "collapsed": false
   },
   "outputs": [
    {
     "ename": "SyntaxError",
     "evalue": "unexpected EOF while parsing (<ipython-input-146-4629dea16721>, line 1)",
     "output_type": "error",
     "traceback": [
      "\u001b[0;36m  File \u001b[0;32m\"<ipython-input-146-4629dea16721>\"\u001b[0;36m, line \u001b[0;32m1\u001b[0m\n\u001b[0;31m    def network():\u001b[0m\n\u001b[0m                  ^\u001b[0m\n\u001b[0;31mSyntaxError\u001b[0m\u001b[0;31m:\u001b[0m unexpected EOF while parsing\n"
     ]
    }
   ],
   "source": [
    "def network():"
   ]
  },
  {
   "cell_type": "code",
   "execution_count": 36,
   "metadata": {
    "collapsed": false
   },
   "outputs": [
    {
     "name": "stdout",
     "output_type": "stream",
     "text": [
      "/home/pandakillalot/midterm/data/enron/maildir/skilling-j/sent is not\n",
      "/home/pandakillalot/midterm/data/enron/maildir/skilling-j/deleted_items is not\n",
      "/home/pandakillalot/midterm/data/enron/maildir/skilling-j/sent_items is not\n",
      "/home/pandakillalot/midterm/data/enron/maildir/skilling-j/inbox is not\n",
      "/home/pandakillalot/midterm/data/enron/maildir/skilling-j/contacts is not\n",
      "/home/pandakillalot/midterm/data/enron/maildir/skilling-j/notes_inbox is not\n",
      "/home/pandakillalot/midterm/data/enron/maildir/skilling-j/mark is not\n",
      "/home/pandakillalot/midterm/data/enron/maildir/skilling-j/calendar is not\n",
      "/home/pandakillalot/midterm/data/enron/maildir/skilling-j/discussion_threads is not\n",
      "/home/pandakillalot/midterm/data/enron/maildir/skilling-j/all_documents is not\n",
      "/home/pandakillalot/midterm/data/enron/maildir/skilling-j/_sent_mail is not\n"
     ]
    }
   ],
   "source": [
    "m = glob.glob(\"/home/pandakillalot/midterm/data/enron/maildir/skilling-j/*\")\n",
    "for x in m :\n",
    "    if x is dir:\n",
    "        print (x,\"is dir\")\n",
    "    else:\n",
    "        print(x, \"is not\")"
   ]
  },
  {
   "cell_type": "code",
   "execution_count": 38,
   "metadata": {
    "collapsed": false
   },
   "outputs": [
    {
     "data": {
      "text/plain": [
       "True"
      ]
     },
     "execution_count": 38,
     "metadata": {},
     "output_type": "execute_result"
    }
   ],
   "source": [
    "import os  \n",
    "os.path.isdir(\"/home/pandakillalot/midterm/data/enron/maildir/skilling-j\") "
   ]
  },
  {
   "cell_type": "code",
   "execution_count": 46,
   "metadata": {
    "collapsed": false
   },
   "outputs": [
    {
     "data": {
      "text/plain": [
       "[None, None, None, 7, None, 65]"
      ]
     },
     "execution_count": 46,
     "metadata": {},
     "output_type": "execute_result"
    }
   ],
   "source": [
    "def ppp(math):\n",
    "    if math > 5:\n",
    "        return math\n",
    "\n",
    "L = [2,3,4,7,5,65]\n",
    "G=[]\n",
    "for x in L:\n",
    "    G.append(ppp(x))\n",
    "G"
   ]
  },
  {
   "cell_type": "code",
   "execution_count": null,
   "metadata": {
    "collapsed": true
   },
   "outputs": [],
   "source": [
    "from email.parser import Parser\n",
    "with open(\"/home/pandakillalot/midterm/data/enron/maildir/allen-p/contacts/1.\", 'r') as fp:\n",
    "    data=fp.read()\n",
    "emaildata = Parser().parsestr(data)\n",
    "print（emaildata）"
   ]
  },
  {
   "cell_type": "code",
   "execution_count": 150,
   "metadata": {
    "collapsed": false
   },
   "outputs": [
    {
     "name": "stdout",
     "output_type": "stream",
     "text": [
      "[nltk_data] Downloading package stopwords to\n",
      "[nltk_data]     /home/pandakillalot/nltk_data...\n",
      "[nltk_data]   Unzipping corpora/stopwords.zip.\n"
     ]
    },
    {
     "data": {
      "text/plain": [
       "True"
      ]
     },
     "execution_count": 150,
     "metadata": {},
     "output_type": "execute_result"
    }
   ],
   "source": [
    "import nltk\n",
    "nltk.download(\"stopwords\")"
   ]
  },
  {
   "cell_type": "code",
   "execution_count": 4,
   "metadata": {
    "collapsed": false
   },
   "outputs": [],
   "source": [
    "a = [1,2,3,4]\n",
    "b = [5,6,7,8]\n",
    "c =[2,5,6,8,9,10]\n",
    "d=[]"
   ]
  },
  {
   "cell_type": "code",
   "execution_count": 5,
   "metadata": {
    "collapsed": false
   },
   "outputs": [
    {
     "data": {
      "text/plain": [
       "[9, 10]"
      ]
     },
     "execution_count": 5,
     "metadata": {},
     "output_type": "execute_result"
    }
   ],
   "source": [
    "for x in c:\n",
    "        if x not in a and x not in b:\n",
    "            d.append(x)\n",
    "d"
   ]
  },
  {
   "cell_type": "code",
   "execution_count": null,
   "metadata": {
    "collapsed": true
   },
   "outputs": [],
   "source": []
  }
 ],
 "metadata": {
  "kernelspec": {
   "display_name": "Python 3",
   "language": "python",
   "name": "python3"
  },
  "language_info": {
   "codemirror_mode": {
    "name": "ipython",
    "version": 3
   },
   "file_extension": ".py",
   "mimetype": "text/x-python",
   "name": "python",
   "nbconvert_exporter": "python",
   "pygments_lexer": "ipython3",
   "version": "3.6.0"
  }
 },
 "nbformat": 4,
 "nbformat_minor": 2
}
