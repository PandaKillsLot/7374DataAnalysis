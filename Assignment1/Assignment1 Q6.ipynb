{
 "cells": [
  {
   "cell_type": "markdown",
   "metadata": {},
   "source": [
    "# Question 6\n",
    "- Under Inaugural Address package\n",
    "- For every president, find out how many unique words they used in speech. \n",
    "- We will just assume that President Bush means one person (technically it is incorrect but we will ignore it)"
   ]
  },
  {
   "cell_type": "code",
   "execution_count": 13,
   "metadata": {
    "collapsed": false
   },
   "outputs": [
    {
     "name": "stdout",
     "output_type": "stream",
     "text": [
      "56\n"
     ]
    }
   ],
   "source": [
    "from nltk.corpus import inaugural\n",
    "L = inaugural.fileids()\n",
    "print(len(L))\n",
    "\n",
    "#print(L[0][5:-4])"
   ]
  },
  {
   "cell_type": "code",
   "execution_count": 24,
   "metadata": {
    "collapsed": false
   },
   "outputs": [
    {
     "name": "stdout",
     "output_type": "stream",
     "text": [
      "34\n"
     ]
    }
   ],
   "source": [
    "dic = {}\n",
    "for address in L:\n",
    "    name = address[5:-4]\n",
    "    if name not in dic:\n",
    "        dic[name] = inaugural.words(address)\n",
    "    else :\n",
    "        dic[name] = inaugural.words(address) + dic.get(name, 'wrong??')\n",
    "print(len(dic))"
   ]
  },
  {
   "cell_type": "code",
   "execution_count": 25,
   "metadata": {
    "collapsed": false
   },
   "outputs": [
    {
     "name": "stdout",
     "output_type": "stream",
     "text": [
      "President Adams uses 1503 unique words\n",
      "President Grant uses 855 unique words\n",
      "President Truman uses 781 unique words\n",
      "President Kennedy uses 570 unique words\n",
      "President Reagan uses 1453 unique words\n",
      "President Nixon uses 1037 unique words\n",
      "President Eisenhower uses 1250 unique words\n",
      "President Taft uses 1439 unique words\n",
      "President Jackson uses 846 unique words\n",
      "President Taylor uses 499 unique words\n",
      "President Hoover uses 1087 unique words\n",
      "President McKinley uses 1682 unique words\n",
      "President Roosevelt uses 1704 unique words\n",
      "President Johnson uses 571 unique words\n",
      "President Madison uses 899 unique words\n",
      "President Polk uses 1333 unique words\n",
      "President Buchanan uses 948 unique words\n",
      "President Obama uses 938 unique words\n",
      "President Lincoln uses 1261 unique words\n",
      "President Wilson uses 996 unique words\n",
      "President Harrison uses 2662 unique words\n",
      "President Jefferson uses 1261 unique words\n",
      "President Coolidge uses 1221 unique words\n",
      "President VanBuren uses 1318 unique words\n",
      "President Harding uses 1170 unique words\n",
      "President Carter uses 529 unique words\n",
      "President Monroe uses 1781 unique words\n",
      "President Washington uses 663 unique words\n",
      "President Bush uses 1578 unique words\n",
      "President Hayes uses 832 unique words\n",
      "President Garfield uses 1022 unique words\n",
      "President Clinton uses 1138 unique words\n",
      "President Pierce uses 1168 unique words\n",
      "President Cleveland uses 1219 unique words\n"
     ]
    }
   ],
   "source": [
    "for key in dic :\n",
    "    dic[key] = len(set(dic[key]))\n",
    "    print('President',key,'uses', dic[key],'unique words')"
   ]
  },
  {
   "cell_type": "code",
   "execution_count": null,
   "metadata": {
    "collapsed": true
   },
   "outputs": [],
   "source": []
  }
 ],
 "metadata": {
  "anaconda-cloud": {},
  "kernelspec": {
   "display_name": "Python [conda root]",
   "language": "python",
   "name": "conda-root-py"
  },
  "language_info": {
   "codemirror_mode": {
    "name": "ipython",
    "version": 3
   },
   "file_extension": ".py",
   "mimetype": "text/x-python",
   "name": "python",
   "nbconvert_exporter": "python",
   "pygments_lexer": "ipython3",
   "version": "3.5.2"
  }
 },
 "nbformat": 4,
 "nbformat_minor": 1
}
