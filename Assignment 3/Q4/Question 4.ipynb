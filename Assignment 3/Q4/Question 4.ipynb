{
 "cells": [
  {
   "cell_type": "markdown",
   "metadata": {},
   "source": [
    "# Question 4"
   ]
  },
  {
   "cell_type": "code",
   "execution_count": 1,
   "metadata": {
    "collapsed": true
   },
   "outputs": [],
   "source": [
    "import pandas as pd\n",
    "import numpy as np\n",
    "from pandas import Series, DataFrame"
   ]
  },
  {
   "cell_type": "code",
   "execution_count": 3,
   "metadata": {
    "collapsed": false
   },
   "outputs": [
    {
     "data": {
      "text/html": [
       "<div>\n",
       "<table border=\"1\" class=\"dataframe\">\n",
       "  <thead>\n",
       "    <tr style=\"text-align: right;\">\n",
       "      <th></th>\n",
       "      <th>totalSeasons</th>\n",
       "      <th>Plot</th>\n",
       "      <th>Rated</th>\n",
       "      <th>Response</th>\n",
       "      <th>Language</th>\n",
       "      <th>Title</th>\n",
       "      <th>Country</th>\n",
       "      <th>Writer</th>\n",
       "      <th>Metascore</th>\n",
       "      <th>imdbRating</th>\n",
       "      <th>...</th>\n",
       "      <th>Released</th>\n",
       "      <th>Actors</th>\n",
       "      <th>Year</th>\n",
       "      <th>Genre</th>\n",
       "      <th>Awards</th>\n",
       "      <th>Runtime</th>\n",
       "      <th>Type</th>\n",
       "      <th>Poster</th>\n",
       "      <th>imdbVotes</th>\n",
       "      <th>imdbID</th>\n",
       "    </tr>\n",
       "  </thead>\n",
       "  <tbody>\n",
       "    <tr>\n",
       "      <th>0</th>\n",
       "      <td>none</td>\n",
       "      <td>NaN</td>\n",
       "      <td>NaN</td>\n",
       "      <td>True</td>\n",
       "      <td>English</td>\n",
       "      <td>Book of Love: The Definitive Reason Why Men Ar...</td>\n",
       "      <td>USA</td>\n",
       "      <td>Jeffrey W. Byrd; Eric George</td>\n",
       "      <td>NaN</td>\n",
       "      <td>6.6</td>\n",
       "      <td>...</td>\n",
       "      <td>14 Feb 2002</td>\n",
       "      <td>40 Glocc; Angelle Brooks; David Brown; Qadr Ca...</td>\n",
       "      <td>2002</td>\n",
       "      <td>Romance; Comedy</td>\n",
       "      <td>NaN</td>\n",
       "      <td>91 min</td>\n",
       "      <td>movie</td>\n",
       "      <td>NaN</td>\n",
       "      <td>79.0</td>\n",
       "      <td>tt0156376</td>\n",
       "    </tr>\n",
       "    <tr>\n",
       "      <th>1</th>\n",
       "      <td>none</td>\n",
       "      <td>NaN</td>\n",
       "      <td>NaN</td>\n",
       "      <td>True</td>\n",
       "      <td>Swedish</td>\n",
       "      <td>Anderssons älskarinna</td>\n",
       "      <td>Sweden</td>\n",
       "      <td>NaN</td>\n",
       "      <td>NaN</td>\n",
       "      <td>7.4</td>\n",
       "      <td>...</td>\n",
       "      <td>12 Feb 2001</td>\n",
       "      <td>Jakob Eklund; Ebba Forsberg; Örjan Landström; ...</td>\n",
       "      <td>2001</td>\n",
       "      <td>Drama</td>\n",
       "      <td>NaN</td>\n",
       "      <td>347 min</td>\n",
       "      <td>movie</td>\n",
       "      <td>NaN</td>\n",
       "      <td>34.0</td>\n",
       "      <td>tt0201374</td>\n",
       "    </tr>\n",
       "    <tr>\n",
       "      <th>2</th>\n",
       "      <td>none</td>\n",
       "      <td>NaN</td>\n",
       "      <td>NaN</td>\n",
       "      <td>True</td>\n",
       "      <td>English</td>\n",
       "      <td>Bad Blood</td>\n",
       "      <td>UK</td>\n",
       "      <td>Tony Marchant</td>\n",
       "      <td>NaN</td>\n",
       "      <td>5.6</td>\n",
       "      <td>...</td>\n",
       "      <td>11 Jan 2001</td>\n",
       "      <td>Emilia Fox; Serban Celea; Alex Jennings; Steve...</td>\n",
       "      <td>2001</td>\n",
       "      <td>NaN</td>\n",
       "      <td>NaN</td>\n",
       "      <td>NaN</td>\n",
       "      <td>movie</td>\n",
       "      <td>NaN</td>\n",
       "      <td>8.0</td>\n",
       "      <td>tt0207989</td>\n",
       "    </tr>\n",
       "  </tbody>\n",
       "</table>\n",
       "<p>3 rows × 21 columns</p>\n",
       "</div>"
      ],
      "text/plain": [
       "  totalSeasons Plot Rated Response Language  \\\n",
       "0         none  NaN   NaN     True  English   \n",
       "1         none  NaN   NaN     True  Swedish   \n",
       "2         none  NaN   NaN     True  English   \n",
       "\n",
       "                                               Title Country  \\\n",
       "0  Book of Love: The Definitive Reason Why Men Ar...     USA   \n",
       "1                              Anderssons älskarinna  Sweden   \n",
       "2                                          Bad Blood      UK   \n",
       "\n",
       "                         Writer  Metascore  imdbRating    ...      \\\n",
       "0  Jeffrey W. Byrd; Eric George        NaN         6.6    ...       \n",
       "1                           NaN        NaN         7.4    ...       \n",
       "2                 Tony Marchant        NaN         5.6    ...       \n",
       "\n",
       "      Released                                             Actors  Year  \\\n",
       "0  14 Feb 2002  40 Glocc; Angelle Brooks; David Brown; Qadr Ca...  2002   \n",
       "1  12 Feb 2001  Jakob Eklund; Ebba Forsberg; Örjan Landström; ...  2001   \n",
       "2  11 Jan 2001  Emilia Fox; Serban Celea; Alex Jennings; Steve...  2001   \n",
       "\n",
       "             Genre Awards  Runtime   Type Poster imdbVotes     imdbID  \n",
       "0  Romance; Comedy    NaN   91 min  movie    NaN      79.0  tt0156376  \n",
       "1            Drama    NaN  347 min  movie    NaN      34.0  tt0201374  \n",
       "2              NaN    NaN      NaN  movie    NaN       8.0  tt0207989  \n",
       "\n",
       "[3 rows x 21 columns]"
      ]
     },
     "execution_count": 3,
     "metadata": {},
     "output_type": "execute_result"
    }
   ],
   "source": [
    "# read the csv\n",
    "movies_awards = pd.read_csv('../Data/movies_awards.csv')\n",
    "movies_awards.head(3)"
   ]
  },
  {
   "cell_type": "code",
   "execution_count": 185,
   "metadata": {
    "collapsed": false
   },
   "outputs": [],
   "source": [
    "# only keep selected columns\n",
    "df = movies_awards.loc[:,['Title','Awards']]"
   ]
  },
  {
   "cell_type": "code",
   "execution_count": 186,
   "metadata": {
    "collapsed": false
   },
   "outputs": [
    {
     "data": {
      "text/html": [
       "<div>\n",
       "<table border=\"1\" class=\"dataframe\">\n",
       "  <thead>\n",
       "    <tr style=\"text-align: right;\">\n",
       "      <th></th>\n",
       "      <th>Title</th>\n",
       "      <th>Awards</th>\n",
       "    </tr>\n",
       "  </thead>\n",
       "  <tbody>\n",
       "    <tr>\n",
       "      <th>0</th>\n",
       "      <td>Book of Love: The Definitive Reason Why Men Ar...</td>\n",
       "      <td>NaN</td>\n",
       "    </tr>\n",
       "    <tr>\n",
       "      <th>1</th>\n",
       "      <td>Anderssons älskarinna</td>\n",
       "      <td>NaN</td>\n",
       "    </tr>\n",
       "    <tr>\n",
       "      <th>2</th>\n",
       "      <td>Bad Blood</td>\n",
       "      <td>NaN</td>\n",
       "    </tr>\n",
       "  </tbody>\n",
       "</table>\n",
       "</div>"
      ],
      "text/plain": [
       "                                               Title Awards\n",
       "0  Book of Love: The Definitive Reason Why Men Ar...    NaN\n",
       "1                              Anderssons älskarinna    NaN\n",
       "2                                          Bad Blood    NaN"
      ]
     },
     "execution_count": 186,
     "metadata": {},
     "output_type": "execute_result"
    }
   ],
   "source": [
    "# show\n",
    "df.head(3)"
   ]
  },
  {
   "cell_type": "code",
   "execution_count": 187,
   "metadata": {
    "collapsed": false
   },
   "outputs": [
    {
     "data": {
      "text/html": [
       "<div>\n",
       "<table border=\"1\" class=\"dataframe\">\n",
       "  <thead>\n",
       "    <tr style=\"text-align: right;\">\n",
       "      <th></th>\n",
       "      <th>Title</th>\n",
       "      <th>Awards</th>\n",
       "    </tr>\n",
       "  </thead>\n",
       "  <tbody>\n",
       "    <tr>\n",
       "      <th>0</th>\n",
       "      <td>Book of Love: The Definitive Reason Why Men Ar...</td>\n",
       "      <td>nan</td>\n",
       "    </tr>\n",
       "    <tr>\n",
       "      <th>1</th>\n",
       "      <td>Anderssons älskarinna</td>\n",
       "      <td>nan</td>\n",
       "    </tr>\n",
       "    <tr>\n",
       "      <th>2</th>\n",
       "      <td>Bad Blood</td>\n",
       "      <td>nan</td>\n",
       "    </tr>\n",
       "    <tr>\n",
       "      <th>3</th>\n",
       "      <td>Who Are You?</td>\n",
       "      <td>1 win &amp; 2 nominations.</td>\n",
       "    </tr>\n",
       "    <tr>\n",
       "      <th>4</th>\n",
       "      <td>Skeletons in the Closet</td>\n",
       "      <td>1 win.</td>\n",
       "    </tr>\n",
       "    <tr>\n",
       "      <th>5</th>\n",
       "      <td>Cheerleader Ninjas</td>\n",
       "      <td>1 nomination.</td>\n",
       "    </tr>\n",
       "    <tr>\n",
       "      <th>6</th>\n",
       "      <td>The Girl from Paris</td>\n",
       "      <td>3 wins &amp; 2 nominations.</td>\n",
       "    </tr>\n",
       "    <tr>\n",
       "      <th>7</th>\n",
       "      <td>The Final Curtain</td>\n",
       "      <td>1 win &amp; 1 nomination.</td>\n",
       "    </tr>\n",
       "    <tr>\n",
       "      <th>8</th>\n",
       "      <td>Crush</td>\n",
       "      <td>nan</td>\n",
       "    </tr>\n",
       "    <tr>\n",
       "      <th>9</th>\n",
       "      <td>Happy Birthday</td>\n",
       "      <td>nan</td>\n",
       "    </tr>\n",
       "    <tr>\n",
       "      <th>10</th>\n",
       "      <td>Run Like Hell</td>\n",
       "      <td>nan</td>\n",
       "    </tr>\n",
       "    <tr>\n",
       "      <th>11</th>\n",
       "      <td>Crazy/Beautiful</td>\n",
       "      <td>5 nominations.</td>\n",
       "    </tr>\n",
       "    <tr>\n",
       "      <th>12</th>\n",
       "      <td>A Death in the Family</td>\n",
       "      <td>nan</td>\n",
       "    </tr>\n",
       "    <tr>\n",
       "      <th>13</th>\n",
       "      <td>The Anniversary Party</td>\n",
       "      <td>2 wins &amp; 5 nominations.</td>\n",
       "    </tr>\n",
       "    <tr>\n",
       "      <th>14</th>\n",
       "      <td>Life as We Know It</td>\n",
       "      <td>nan</td>\n",
       "    </tr>\n",
       "    <tr>\n",
       "      <th>15</th>\n",
       "      <td>The Quiet American</td>\n",
       "      <td>Nominated for 1 Oscar. Another 13 wins &amp; 13 no...</td>\n",
       "    </tr>\n",
       "    <tr>\n",
       "      <th>16</th>\n",
       "      <td>100 Centre Street</td>\n",
       "      <td>nan</td>\n",
       "    </tr>\n",
       "    <tr>\n",
       "      <th>17</th>\n",
       "      <td>90-60-90</td>\n",
       "      <td>nan</td>\n",
       "    </tr>\n",
       "    <tr>\n",
       "      <th>18</th>\n",
       "      <td>Like Cat and Mouse</td>\n",
       "      <td>5 wins &amp; 4 nominations.</td>\n",
       "    </tr>\n",
       "    <tr>\n",
       "      <th>19</th>\n",
       "      <td>The Abduction Club</td>\n",
       "      <td>nan</td>\n",
       "    </tr>\n",
       "    <tr>\n",
       "      <th>20</th>\n",
       "      <td>In Love and War</td>\n",
       "      <td>nan</td>\n",
       "    </tr>\n",
       "    <tr>\n",
       "      <th>21</th>\n",
       "      <td>The Sign of Four</td>\n",
       "      <td>nan</td>\n",
       "    </tr>\n",
       "    <tr>\n",
       "      <th>22</th>\n",
       "      <td>Adrian Mole: The Cappuccino Years</td>\n",
       "      <td>nan</td>\n",
       "    </tr>\n",
       "    <tr>\n",
       "      <th>23</th>\n",
       "      <td>Amores querer con alevosía</td>\n",
       "      <td>nan</td>\n",
       "    </tr>\n",
       "    <tr>\n",
       "      <th>24</th>\n",
       "      <td>Punch-Drunk Love</td>\n",
       "      <td>Nominated for 1 Golden Globe. Another 14 wins ...</td>\n",
       "    </tr>\n",
       "    <tr>\n",
       "      <th>25</th>\n",
       "      <td>Romeo</td>\n",
       "      <td>3 wins &amp; 2 nominations.</td>\n",
       "    </tr>\n",
       "    <tr>\n",
       "      <th>26</th>\n",
       "      <td>The Kiss</td>\n",
       "      <td>nan</td>\n",
       "    </tr>\n",
       "    <tr>\n",
       "      <th>27</th>\n",
       "      <td>Avoir su...</td>\n",
       "      <td>nan</td>\n",
       "    </tr>\n",
       "    <tr>\n",
       "      <th>28</th>\n",
       "      <td>Academia de baile Gloria</td>\n",
       "      <td>1 nomination.</td>\n",
       "    </tr>\n",
       "    <tr>\n",
       "      <th>29</th>\n",
       "      <td>Cet amour-là</td>\n",
       "      <td>nan</td>\n",
       "    </tr>\n",
       "    <tr>\n",
       "      <th>...</th>\n",
       "      <td>...</td>\n",
       "      <td>...</td>\n",
       "    </tr>\n",
       "    <tr>\n",
       "      <th>15357</th>\n",
       "      <td>Beyhadh</td>\n",
       "      <td>nan</td>\n",
       "    </tr>\n",
       "    <tr>\n",
       "      <th>15358</th>\n",
       "      <td>BroShow</td>\n",
       "      <td>nan</td>\n",
       "    </tr>\n",
       "    <tr>\n",
       "      <th>15359</th>\n",
       "      <td>Lost Souls: On the Road with 'Blood Father'</td>\n",
       "      <td>nan</td>\n",
       "    </tr>\n",
       "    <tr>\n",
       "      <th>15360</th>\n",
       "      <td>Hot Tub Party Massacre</td>\n",
       "      <td>nan</td>\n",
       "    </tr>\n",
       "    <tr>\n",
       "      <th>15361</th>\n",
       "      <td>All in Kitchen</td>\n",
       "      <td>nan</td>\n",
       "    </tr>\n",
       "    <tr>\n",
       "      <th>15362</th>\n",
       "      <td>Alex</td>\n",
       "      <td>nan</td>\n",
       "    </tr>\n",
       "    <tr>\n",
       "      <th>15363</th>\n",
       "      <td>All Access Nashville: Celebrating the CMA Awar...</td>\n",
       "      <td>nan</td>\n",
       "    </tr>\n",
       "    <tr>\n",
       "      <th>15364</th>\n",
       "      <td>When a Snail Falls in Love</td>\n",
       "      <td>nan</td>\n",
       "    </tr>\n",
       "    <tr>\n",
       "      <th>15365</th>\n",
       "      <td>Celebs React</td>\n",
       "      <td>nan</td>\n",
       "    </tr>\n",
       "    <tr>\n",
       "      <th>15366</th>\n",
       "      <td>Catching Kelce</td>\n",
       "      <td>nan</td>\n",
       "    </tr>\n",
       "    <tr>\n",
       "      <th>15367</th>\n",
       "      <td>Armenia</td>\n",
       "      <td>nan</td>\n",
       "    </tr>\n",
       "    <tr>\n",
       "      <th>15368</th>\n",
       "      <td>Boss!</td>\n",
       "      <td>nan</td>\n",
       "    </tr>\n",
       "    <tr>\n",
       "      <th>15369</th>\n",
       "      <td>Call of Duty: Revelations</td>\n",
       "      <td>nan</td>\n",
       "    </tr>\n",
       "    <tr>\n",
       "      <th>15370</th>\n",
       "      <td>China: Between Clouds and Dreams</td>\n",
       "      <td>nan</td>\n",
       "    </tr>\n",
       "    <tr>\n",
       "      <th>15371</th>\n",
       "      <td>Fresh Off the Porch</td>\n",
       "      <td>nan</td>\n",
       "    </tr>\n",
       "    <tr>\n",
       "      <th>15372</th>\n",
       "      <td>Thanksgiving</td>\n",
       "      <td>nan</td>\n",
       "    </tr>\n",
       "    <tr>\n",
       "      <th>15373</th>\n",
       "      <td>Prison; My Parents &amp; Me</td>\n",
       "      <td>nan</td>\n",
       "    </tr>\n",
       "    <tr>\n",
       "      <th>15374</th>\n",
       "      <td>Sara</td>\n",
       "      <td>nan</td>\n",
       "    </tr>\n",
       "    <tr>\n",
       "      <th>15375</th>\n",
       "      <td>Elegy</td>\n",
       "      <td>nan</td>\n",
       "    </tr>\n",
       "    <tr>\n",
       "      <th>15376</th>\n",
       "      <td>Continent 7: Antarctica</td>\n",
       "      <td>nan</td>\n",
       "    </tr>\n",
       "    <tr>\n",
       "      <th>15377</th>\n",
       "      <td>Thank You</td>\n",
       "      <td>nan</td>\n",
       "    </tr>\n",
       "    <tr>\n",
       "      <th>15378</th>\n",
       "      <td>Black Is the New Black</td>\n",
       "      <td>nan</td>\n",
       "    </tr>\n",
       "    <tr>\n",
       "      <th>15379</th>\n",
       "      <td>Asian Entertainment Tonight</td>\n",
       "      <td>nan</td>\n",
       "    </tr>\n",
       "    <tr>\n",
       "      <th>15380</th>\n",
       "      <td>Dragon Ball: Xenoverse 2</td>\n",
       "      <td>nan</td>\n",
       "    </tr>\n",
       "    <tr>\n",
       "      <th>15381</th>\n",
       "      <td>Back in Time for Brixton</td>\n",
       "      <td>nan</td>\n",
       "    </tr>\n",
       "    <tr>\n",
       "      <th>15382</th>\n",
       "      <td>BET Presents Love &amp; Happiness: An Obama Celebr...</td>\n",
       "      <td>nan</td>\n",
       "    </tr>\n",
       "    <tr>\n",
       "      <th>15383</th>\n",
       "      <td>The Plague</td>\n",
       "      <td>nan</td>\n",
       "    </tr>\n",
       "    <tr>\n",
       "      <th>15384</th>\n",
       "      <td>The Dark Knight Returns: An Epic Fan Film</td>\n",
       "      <td>nan</td>\n",
       "    </tr>\n",
       "    <tr>\n",
       "      <th>15385</th>\n",
       "      <td>Come Together</td>\n",
       "      <td>nan</td>\n",
       "    </tr>\n",
       "    <tr>\n",
       "      <th>15386</th>\n",
       "      <td>Binge</td>\n",
       "      <td>nan</td>\n",
       "    </tr>\n",
       "  </tbody>\n",
       "</table>\n",
       "<p>15387 rows × 2 columns</p>\n",
       "</div>"
      ],
      "text/plain": [
       "                                                   Title  \\\n",
       "0      Book of Love: The Definitive Reason Why Men Ar...   \n",
       "1                                  Anderssons älskarinna   \n",
       "2                                              Bad Blood   \n",
       "3                                           Who Are You?   \n",
       "4                                Skeletons in the Closet   \n",
       "5                                     Cheerleader Ninjas   \n",
       "6                                    The Girl from Paris   \n",
       "7                                      The Final Curtain   \n",
       "8                                                  Crush   \n",
       "9                                         Happy Birthday   \n",
       "10                                         Run Like Hell   \n",
       "11                                       Crazy/Beautiful   \n",
       "12                                 A Death in the Family   \n",
       "13                                 The Anniversary Party   \n",
       "14                                    Life as We Know It   \n",
       "15                                    The Quiet American   \n",
       "16                                     100 Centre Street   \n",
       "17                                              90-60-90   \n",
       "18                                    Like Cat and Mouse   \n",
       "19                                    The Abduction Club   \n",
       "20                                       In Love and War   \n",
       "21                                      The Sign of Four   \n",
       "22                     Adrian Mole: The Cappuccino Years   \n",
       "23                            Amores querer con alevosía   \n",
       "24                                      Punch-Drunk Love   \n",
       "25                                                 Romeo   \n",
       "26                                              The Kiss   \n",
       "27                                           Avoir su...   \n",
       "28                              Academia de baile Gloria   \n",
       "29                                          Cet amour-là   \n",
       "...                                                  ...   \n",
       "15357                                            Beyhadh   \n",
       "15358                                            BroShow   \n",
       "15359        Lost Souls: On the Road with 'Blood Father'   \n",
       "15360                             Hot Tub Party Massacre   \n",
       "15361                                     All in Kitchen   \n",
       "15362                                               Alex   \n",
       "15363  All Access Nashville: Celebrating the CMA Awar...   \n",
       "15364                         When a Snail Falls in Love   \n",
       "15365                                       Celebs React   \n",
       "15366                                     Catching Kelce   \n",
       "15367                                            Armenia   \n",
       "15368                                              Boss!   \n",
       "15369                          Call of Duty: Revelations   \n",
       "15370                   China: Between Clouds and Dreams   \n",
       "15371                                Fresh Off the Porch   \n",
       "15372                                       Thanksgiving   \n",
       "15373                            Prison; My Parents & Me   \n",
       "15374                                               Sara   \n",
       "15375                                              Elegy   \n",
       "15376                            Continent 7: Antarctica   \n",
       "15377                                          Thank You   \n",
       "15378                             Black Is the New Black   \n",
       "15379                        Asian Entertainment Tonight   \n",
       "15380                           Dragon Ball: Xenoverse 2   \n",
       "15381                           Back in Time for Brixton   \n",
       "15382  BET Presents Love & Happiness: An Obama Celebr...   \n",
       "15383                                         The Plague   \n",
       "15384          The Dark Knight Returns: An Epic Fan Film   \n",
       "15385                                      Come Together   \n",
       "15386                                              Binge   \n",
       "\n",
       "                                                  Awards  \n",
       "0                                                    nan  \n",
       "1                                                    nan  \n",
       "2                                                    nan  \n",
       "3                                 1 win & 2 nominations.  \n",
       "4                                                 1 win.  \n",
       "5                                          1 nomination.  \n",
       "6                                3 wins & 2 nominations.  \n",
       "7                                  1 win & 1 nomination.  \n",
       "8                                                    nan  \n",
       "9                                                    nan  \n",
       "10                                                   nan  \n",
       "11                                        5 nominations.  \n",
       "12                                                   nan  \n",
       "13                               2 wins & 5 nominations.  \n",
       "14                                                   nan  \n",
       "15     Nominated for 1 Oscar. Another 13 wins & 13 no...  \n",
       "16                                                   nan  \n",
       "17                                                   nan  \n",
       "18                               5 wins & 4 nominations.  \n",
       "19                                                   nan  \n",
       "20                                                   nan  \n",
       "21                                                   nan  \n",
       "22                                                   nan  \n",
       "23                                                   nan  \n",
       "24     Nominated for 1 Golden Globe. Another 14 wins ...  \n",
       "25                               3 wins & 2 nominations.  \n",
       "26                                                   nan  \n",
       "27                                                   nan  \n",
       "28                                         1 nomination.  \n",
       "29                                                   nan  \n",
       "...                                                  ...  \n",
       "15357                                                nan  \n",
       "15358                                                nan  \n",
       "15359                                                nan  \n",
       "15360                                                nan  \n",
       "15361                                                nan  \n",
       "15362                                                nan  \n",
       "15363                                                nan  \n",
       "15364                                                nan  \n",
       "15365                                                nan  \n",
       "15366                                                nan  \n",
       "15367                                                nan  \n",
       "15368                                                nan  \n",
       "15369                                                nan  \n",
       "15370                                                nan  \n",
       "15371                                                nan  \n",
       "15372                                                nan  \n",
       "15373                                                nan  \n",
       "15374                                                nan  \n",
       "15375                                                nan  \n",
       "15376                                                nan  \n",
       "15377                                                nan  \n",
       "15378                                                nan  \n",
       "15379                                                nan  \n",
       "15380                                                nan  \n",
       "15381                                                nan  \n",
       "15382                                                nan  \n",
       "15383                                                nan  \n",
       "15384                                                nan  \n",
       "15385                                                nan  \n",
       "15386                                                nan  \n",
       "\n",
       "[15387 rows x 2 columns]"
      ]
     },
     "execution_count": 187,
     "metadata": {},
     "output_type": "execute_result"
    }
   ],
   "source": [
    "# convert the type for further operatin\n",
    "df['Awards'] = df['Awards'].astype('str') \n",
    "df"
   ]
  },
  {
   "cell_type": "code",
   "execution_count": 188,
   "metadata": {
    "collapsed": false
   },
   "outputs": [
    {
     "data": {
      "text/plain": [
       "'Nominated for 7 Oscars. Another 6 wins & 36 nominations.'"
      ]
     },
     "execution_count": 188,
     "metadata": {},
     "output_type": "execute_result"
    }
   ],
   "source": [
    "# check the value form\n",
    "df['Awards'][df.Title == 'Seabiscuit'].values[0]"
   ]
  },
  {
   "cell_type": "code",
   "execution_count": 241,
   "metadata": {
    "collapsed": false
   },
   "outputs": [
    {
     "data": {
      "text/plain": [
       "array(['nan', '1 win & 2 nominations.', '1 win.', '1 nomination.',\n",
       "       '3 wins & 2 nominations.', '1 win & 1 nomination.',\n",
       "       '5 nominations.', '2 wins & 5 nominations.',\n",
       "       'Nominated for 1 Oscar. Another 13 wins & 13 nominations.',\n",
       "       '5 wins & 4 nominations.',\n",
       "       'Nominated for 1 Golden Globe. Another 14 wins & 34 nominations.',\n",
       "       '22 wins & 44 nominations.', '1 win & 3 nominations.',\n",
       "       '1 win & 8 nominations.', '2 nominations.',\n",
       "       '6 wins & 1 nomination.',\n",
       "       'Won 2 Golden Globes. Another 68 wins & 201 nominations.',\n",
       "       'Won 1 Golden Globe. Another 31 wins & 143 nominations.',\n",
       "       'Nominated for 4 Primetime Emmys. Another 16 nominations.',\n",
       "       '3 wins & 6 nominations.', '2 wins.', '6 wins & 4 nominations.',\n",
       "       '7 wins & 6 nominations.', '9 wins & 30 nominations.',\n",
       "       'Won 1 Primetime Emmy. Another 1 win & 6 nominations.',\n",
       "       'Nominated for 3 BAFTA Film Awards. Another 11 wins & 39 nominations.',\n",
       "       '6 nominations.', '1 win & 4 nominations.',\n",
       "       '14 wins & 11 nominations.', '3 wins & 3 nominations.',\n",
       "       'Nominated for 1 Golden Globe. Another 2 wins & 14 nominations.',\n",
       "       'Nominated for 1 Primetime Emmy. Another 1 nomination.',\n",
       "       '3 wins & 1 nomination.', '9 wins & 8 nominations.',\n",
       "       '15 wins & 4 nominations.', '8 wins & 8 nominations.',\n",
       "       '4 nominations.', '4 wins.', '15 nominations.',\n",
       "       '7 wins & 7 nominations.', '4 wins & 9 nominations.',\n",
       "       'Won 11 Oscars. Another 174 wins & 113 nominations.',\n",
       "       '4 wins & 11 nominations.', '3 wins & 4 nominations.',\n",
       "       '1 win & 5 nominations.', '2 wins & 2 nominations.',\n",
       "       'Won 1 Oscar. Another 11 wins & 14 nominations.',\n",
       "       'Won 3 Primetime Emmys. Another 44 nominations.',\n",
       "       'Nominated for 7 Oscars. Another 6 wins & 36 nominations.',\n",
       "       '1 win & 6 nominations.'], dtype=object)"
      ]
     },
     "execution_count": 241,
     "metadata": {},
     "output_type": "execute_result"
    }
   ],
   "source": [
    "# a glance into the form of 'award' col\n",
    "df['Awards'].unique()[0:50]"
   ]
  },
  {
   "cell_type": "code",
   "execution_count": 190,
   "metadata": {
    "collapsed": true
   },
   "outputs": [],
   "source": [
    "# use regex\n",
    "import re"
   ]
  },
  {
   "cell_type": "markdown",
   "metadata": {},
   "source": [
    "# wins & nominations"
   ]
  },
  {
   "cell_type": "code",
   "execution_count": 191,
   "metadata": {
    "collapsed": false
   },
   "outputs": [
    {
     "name": "stdout",
     "output_type": "stream",
     "text": [
      "<_sre.SRE_Match object; span=(0, 5), match='3 win'>\n",
      "1111\n",
      "3\n"
     ]
    }
   ],
   "source": [
    "# sample test\n",
    "g = '3 wins & 5 nominations'\n",
    "# pattern\n",
    "pattern_win = re.compile(r'(\\d) win')\n",
    "# check whether matches\n",
    "match = pattern_win.match(g)\n",
    "print(match)\n",
    "if match:\n",
    "    print(\"1111\")\n",
    "#check the value form\n",
    "\n",
    "print(match.group().split(' ')[0])"
   ]
  },
  {
   "cell_type": "code",
   "execution_count": 192,
   "metadata": {
    "collapsed": true
   },
   "outputs": [],
   "source": [
    "# apply the regex and split a new col from the old\n",
    "df['Award_wins'] = df['Awards'].apply(lambda x: pattern_win.match(x).group().split(' ')[0] if pattern_win.match(x) else 0)"
   ]
  },
  {
   "cell_type": "code",
   "execution_count": 193,
   "metadata": {
    "collapsed": false
   },
   "outputs": [
    {
     "data": {
      "text/html": [
       "<div>\n",
       "<table border=\"1\" class=\"dataframe\">\n",
       "  <thead>\n",
       "    <tr style=\"text-align: right;\">\n",
       "      <th></th>\n",
       "      <th>Title</th>\n",
       "      <th>Awards</th>\n",
       "      <th>Award_wins</th>\n",
       "    </tr>\n",
       "  </thead>\n",
       "  <tbody>\n",
       "    <tr>\n",
       "      <th>0</th>\n",
       "      <td>Book of Love: The Definitive Reason Why Men Ar...</td>\n",
       "      <td>nan</td>\n",
       "      <td>0</td>\n",
       "    </tr>\n",
       "    <tr>\n",
       "      <th>1</th>\n",
       "      <td>Anderssons älskarinna</td>\n",
       "      <td>nan</td>\n",
       "      <td>0</td>\n",
       "    </tr>\n",
       "    <tr>\n",
       "      <th>2</th>\n",
       "      <td>Bad Blood</td>\n",
       "      <td>nan</td>\n",
       "      <td>0</td>\n",
       "    </tr>\n",
       "    <tr>\n",
       "      <th>3</th>\n",
       "      <td>Who Are You?</td>\n",
       "      <td>1 win &amp; 2 nominations.</td>\n",
       "      <td>1</td>\n",
       "    </tr>\n",
       "    <tr>\n",
       "      <th>4</th>\n",
       "      <td>Skeletons in the Closet</td>\n",
       "      <td>1 win.</td>\n",
       "      <td>1</td>\n",
       "    </tr>\n",
       "    <tr>\n",
       "      <th>5</th>\n",
       "      <td>Cheerleader Ninjas</td>\n",
       "      <td>1 nomination.</td>\n",
       "      <td>0</td>\n",
       "    </tr>\n",
       "  </tbody>\n",
       "</table>\n",
       "</div>"
      ],
      "text/plain": [
       "                                               Title                  Awards  \\\n",
       "0  Book of Love: The Definitive Reason Why Men Ar...                     nan   \n",
       "1                              Anderssons älskarinna                     nan   \n",
       "2                                          Bad Blood                     nan   \n",
       "3                                       Who Are You?  1 win & 2 nominations.   \n",
       "4                            Skeletons in the Closet                  1 win.   \n",
       "5                                 Cheerleader Ninjas           1 nomination.   \n",
       "\n",
       "  Award_wins  \n",
       "0          0  \n",
       "1          0  \n",
       "2          0  \n",
       "3          1  \n",
       "4          1  \n",
       "5          0  "
      ]
     },
     "execution_count": 193,
     "metadata": {},
     "output_type": "execute_result"
    }
   ],
   "source": [
    "#check\n",
    "df.head(6)"
   ]
  },
  {
   "cell_type": "code",
   "execution_count": 194,
   "metadata": {
    "collapsed": false
   },
   "outputs": [
    {
     "data": {
      "text/plain": [
       "array([0, '1', '3', '2', '5', '6', '7', '9', '8', '4'], dtype=object)"
      ]
     },
     "execution_count": 194,
     "metadata": {},
     "output_type": "execute_result"
    }
   ],
   "source": [
    "# check the data\n",
    "df['Award_wins'].unique()"
   ]
  },
  {
   "cell_type": "code",
   "execution_count": 195,
   "metadata": {
    "collapsed": false
   },
   "outputs": [
    {
     "name": "stdout",
     "output_type": "stream",
     "text": [
      "<_sre.SRE_Match object; span=(0, 22), match='3 wins & 5 nominations'>\n",
      "1111\n",
      "5\n"
     ]
    }
   ],
   "source": [
    "g = '3 wins & 5 nominations'\n",
    "pattern_nominations = re.compile(r'\\b(\\d)\\b.*\\bnominations\\b')\n",
    "match = pattern_nominations.match(g)\n",
    "print(match)\n",
    "if match:\n",
    "    print(\"1111\")\n",
    "print(match.group().split(' ')[-2])"
   ]
  },
  {
   "cell_type": "code",
   "execution_count": 196,
   "metadata": {
    "collapsed": false
   },
   "outputs": [],
   "source": [
    "df['Award_nominated'] = df['Awards'].apply(lambda x: pattern_nominations.match(x).group().split(' ')[-2] if pattern_nominations.match(x) else 0)"
   ]
  },
  {
   "cell_type": "code",
   "execution_count": 197,
   "metadata": {
    "collapsed": false
   },
   "outputs": [
    {
     "data": {
      "text/html": [
       "<div>\n",
       "<table border=\"1\" class=\"dataframe\">\n",
       "  <thead>\n",
       "    <tr style=\"text-align: right;\">\n",
       "      <th></th>\n",
       "      <th>Title</th>\n",
       "      <th>Awards</th>\n",
       "      <th>Award_wins</th>\n",
       "      <th>Award_nominated</th>\n",
       "    </tr>\n",
       "  </thead>\n",
       "  <tbody>\n",
       "    <tr>\n",
       "      <th>0</th>\n",
       "      <td>Book of Love: The Definitive Reason Why Men Ar...</td>\n",
       "      <td>nan</td>\n",
       "      <td>0</td>\n",
       "      <td>0</td>\n",
       "    </tr>\n",
       "    <tr>\n",
       "      <th>1</th>\n",
       "      <td>Anderssons älskarinna</td>\n",
       "      <td>nan</td>\n",
       "      <td>0</td>\n",
       "      <td>0</td>\n",
       "    </tr>\n",
       "    <tr>\n",
       "      <th>2</th>\n",
       "      <td>Bad Blood</td>\n",
       "      <td>nan</td>\n",
       "      <td>0</td>\n",
       "      <td>0</td>\n",
       "    </tr>\n",
       "    <tr>\n",
       "      <th>3</th>\n",
       "      <td>Who Are You?</td>\n",
       "      <td>1 win &amp; 2 nominations.</td>\n",
       "      <td>1</td>\n",
       "      <td>2</td>\n",
       "    </tr>\n",
       "    <tr>\n",
       "      <th>4</th>\n",
       "      <td>Skeletons in the Closet</td>\n",
       "      <td>1 win.</td>\n",
       "      <td>1</td>\n",
       "      <td>0</td>\n",
       "    </tr>\n",
       "    <tr>\n",
       "      <th>5</th>\n",
       "      <td>Cheerleader Ninjas</td>\n",
       "      <td>1 nomination.</td>\n",
       "      <td>0</td>\n",
       "      <td>0</td>\n",
       "    </tr>\n",
       "    <tr>\n",
       "      <th>6</th>\n",
       "      <td>The Girl from Paris</td>\n",
       "      <td>3 wins &amp; 2 nominations.</td>\n",
       "      <td>3</td>\n",
       "      <td>2</td>\n",
       "    </tr>\n",
       "  </tbody>\n",
       "</table>\n",
       "</div>"
      ],
      "text/plain": [
       "                                               Title                   Awards  \\\n",
       "0  Book of Love: The Definitive Reason Why Men Ar...                      nan   \n",
       "1                              Anderssons älskarinna                      nan   \n",
       "2                                          Bad Blood                      nan   \n",
       "3                                       Who Are You?   1 win & 2 nominations.   \n",
       "4                            Skeletons in the Closet                   1 win.   \n",
       "5                                 Cheerleader Ninjas            1 nomination.   \n",
       "6                                The Girl from Paris  3 wins & 2 nominations.   \n",
       "\n",
       "  Award_wins Award_nominated  \n",
       "0          0               0  \n",
       "1          0               0  \n",
       "2          0               0  \n",
       "3          1               2  \n",
       "4          1               0  \n",
       "5          0               0  \n",
       "6          3               2  "
      ]
     },
     "execution_count": 197,
     "metadata": {},
     "output_type": "execute_result"
    }
   ],
   "source": [
    "df.head(7)"
   ]
  },
  {
   "cell_type": "code",
   "execution_count": 198,
   "metadata": {
    "collapsed": false
   },
   "outputs": [
    {
     "data": {
      "text/plain": [
       "array([0, '2', '5', '4', '3', '8', '6', '30', '7', '9', '11', '34', '10',\n",
       "       '15', '20', '12', '14', '17', '32', '25', '19', '13', '27', '16',\n",
       "       '42', '23', '28', '21', '31', '29', '18', '53', '41', '33', '22',\n",
       "       '26'], dtype=object)"
      ]
     },
     "execution_count": 198,
     "metadata": {},
     "output_type": "execute_result"
    }
   ],
   "source": [
    "df['Award_nominated'].unique()"
   ]
  },
  {
   "cell_type": "markdown",
   "metadata": {},
   "source": [
    "# Oscar Nominated & Won"
   ]
  },
  {
   "cell_type": "code",
   "execution_count": 199,
   "metadata": {
    "collapsed": false
   },
   "outputs": [],
   "source": [
    "pattern_oscar_nominated = re.compile(r'Nominated for (\\d) Oscars')"
   ]
  },
  {
   "cell_type": "code",
   "execution_count": 242,
   "metadata": {
    "collapsed": false
   },
   "outputs": [
    {
     "name": "stdout",
     "output_type": "stream",
     "text": [
      "<_sre.SRE_Match object; span=(0, 22), match='Nominated for 7 Oscars'>\n",
      "1111\n"
     ]
    }
   ],
   "source": [
    "s = 'Nominated for 7 Oscars'\n",
    "match = pattern_oscar_nominated .match(s)\n",
    "print(match)\n",
    "if match:\n",
    "    print(\"1111\")"
   ]
  },
  {
   "cell_type": "code",
   "execution_count": 201,
   "metadata": {
    "collapsed": false
   },
   "outputs": [
    {
     "data": {
      "text/plain": [
       "'7'"
      ]
     },
     "execution_count": 201,
     "metadata": {},
     "output_type": "execute_result"
    }
   ],
   "source": [
    "match.group().split(' ')[2]"
   ]
  },
  {
   "cell_type": "code",
   "execution_count": 202,
   "metadata": {
    "collapsed": false
   },
   "outputs": [],
   "source": [
    "df['oscar_nominated'] = df['Awards'].apply(lambda x: pattern_oscar_nominated .match(x).group().split(' ')[2] if pattern_oscar_nominated .match(x) else 0)"
   ]
  },
  {
   "cell_type": "code",
   "execution_count": 203,
   "metadata": {
    "collapsed": false
   },
   "outputs": [
    {
     "data": {
      "text/html": [
       "<div>\n",
       "<table border=\"1\" class=\"dataframe\">\n",
       "  <thead>\n",
       "    <tr style=\"text-align: right;\">\n",
       "      <th></th>\n",
       "      <th>Title</th>\n",
       "      <th>Awards</th>\n",
       "      <th>Award_wins</th>\n",
       "      <th>Award_nominated</th>\n",
       "      <th>oscar_nominated</th>\n",
       "    </tr>\n",
       "  </thead>\n",
       "  <tbody>\n",
       "    <tr>\n",
       "      <th>0</th>\n",
       "      <td>Book of Love: The Definitive Reason Why Men Ar...</td>\n",
       "      <td>nan</td>\n",
       "      <td>0</td>\n",
       "      <td>0</td>\n",
       "      <td>0</td>\n",
       "    </tr>\n",
       "    <tr>\n",
       "      <th>1</th>\n",
       "      <td>Anderssons älskarinna</td>\n",
       "      <td>nan</td>\n",
       "      <td>0</td>\n",
       "      <td>0</td>\n",
       "      <td>0</td>\n",
       "    </tr>\n",
       "    <tr>\n",
       "      <th>2</th>\n",
       "      <td>Bad Blood</td>\n",
       "      <td>nan</td>\n",
       "      <td>0</td>\n",
       "      <td>0</td>\n",
       "      <td>0</td>\n",
       "    </tr>\n",
       "    <tr>\n",
       "      <th>3</th>\n",
       "      <td>Who Are You?</td>\n",
       "      <td>1 win &amp; 2 nominations.</td>\n",
       "      <td>1</td>\n",
       "      <td>2</td>\n",
       "      <td>0</td>\n",
       "    </tr>\n",
       "    <tr>\n",
       "      <th>4</th>\n",
       "      <td>Skeletons in the Closet</td>\n",
       "      <td>1 win.</td>\n",
       "      <td>1</td>\n",
       "      <td>0</td>\n",
       "      <td>0</td>\n",
       "    </tr>\n",
       "  </tbody>\n",
       "</table>\n",
       "</div>"
      ],
      "text/plain": [
       "                                               Title                  Awards  \\\n",
       "0  Book of Love: The Definitive Reason Why Men Ar...                     nan   \n",
       "1                              Anderssons älskarinna                     nan   \n",
       "2                                          Bad Blood                     nan   \n",
       "3                                       Who Are You?  1 win & 2 nominations.   \n",
       "4                            Skeletons in the Closet                  1 win.   \n",
       "\n",
       "  Award_wins Award_nominated oscar_nominated  \n",
       "0          0               0               0  \n",
       "1          0               0               0  \n",
       "2          0               0               0  \n",
       "3          1               2               0  \n",
       "4          1               0               0  "
      ]
     },
     "execution_count": 203,
     "metadata": {},
     "output_type": "execute_result"
    }
   ],
   "source": [
    "df.head()"
   ]
  },
  {
   "cell_type": "code",
   "execution_count": 204,
   "metadata": {
    "collapsed": false
   },
   "outputs": [
    {
     "data": {
      "text/plain": [
       "array([0, '7', '3', '2', '5', '4'], dtype=object)"
      ]
     },
     "execution_count": 204,
     "metadata": {},
     "output_type": "execute_result"
    }
   ],
   "source": [
    "df['oscar_nominated'].unique()"
   ]
  },
  {
   "cell_type": "code",
   "execution_count": 205,
   "metadata": {
    "collapsed": false
   },
   "outputs": [
    {
     "name": "stdout",
     "output_type": "stream",
     "text": [
      "<_sre.SRE_Match object; span=(0, 12), match='Won 3 Oscars'>\n",
      "1111\n",
      "3\n"
     ]
    }
   ],
   "source": [
    "g = 'Won 3 Oscars'\n",
    "pattern_oscar_won = re.compile(r'Won (\\d) Oscars')\n",
    "match = pattern_oscar_won.match(g)\n",
    "print(match)\n",
    "if match:\n",
    "    print(\"1111\")\n",
    "print(match.group().split(' ')[1])"
   ]
  },
  {
   "cell_type": "code",
   "execution_count": 206,
   "metadata": {
    "collapsed": false
   },
   "outputs": [
    {
     "data": {
      "text/html": [
       "<div>\n",
       "<table border=\"1\" class=\"dataframe\">\n",
       "  <thead>\n",
       "    <tr style=\"text-align: right;\">\n",
       "      <th></th>\n",
       "      <th>Title</th>\n",
       "      <th>Awards</th>\n",
       "      <th>Award_wins</th>\n",
       "      <th>Award_nominated</th>\n",
       "      <th>oscar_nominated</th>\n",
       "      <th>Oscar_Won</th>\n",
       "    </tr>\n",
       "  </thead>\n",
       "  <tbody>\n",
       "    <tr>\n",
       "      <th>0</th>\n",
       "      <td>Book of Love: The Definitive Reason Why Men Ar...</td>\n",
       "      <td>nan</td>\n",
       "      <td>0</td>\n",
       "      <td>0</td>\n",
       "      <td>0</td>\n",
       "      <td>0</td>\n",
       "    </tr>\n",
       "    <tr>\n",
       "      <th>1</th>\n",
       "      <td>Anderssons älskarinna</td>\n",
       "      <td>nan</td>\n",
       "      <td>0</td>\n",
       "      <td>0</td>\n",
       "      <td>0</td>\n",
       "      <td>0</td>\n",
       "    </tr>\n",
       "    <tr>\n",
       "      <th>2</th>\n",
       "      <td>Bad Blood</td>\n",
       "      <td>nan</td>\n",
       "      <td>0</td>\n",
       "      <td>0</td>\n",
       "      <td>0</td>\n",
       "      <td>0</td>\n",
       "    </tr>\n",
       "    <tr>\n",
       "      <th>3</th>\n",
       "      <td>Who Are You?</td>\n",
       "      <td>1 win &amp; 2 nominations.</td>\n",
       "      <td>1</td>\n",
       "      <td>2</td>\n",
       "      <td>0</td>\n",
       "      <td>0</td>\n",
       "    </tr>\n",
       "    <tr>\n",
       "      <th>4</th>\n",
       "      <td>Skeletons in the Closet</td>\n",
       "      <td>1 win.</td>\n",
       "      <td>1</td>\n",
       "      <td>0</td>\n",
       "      <td>0</td>\n",
       "      <td>0</td>\n",
       "    </tr>\n",
       "  </tbody>\n",
       "</table>\n",
       "</div>"
      ],
      "text/plain": [
       "                                               Title                  Awards  \\\n",
       "0  Book of Love: The Definitive Reason Why Men Ar...                     nan   \n",
       "1                              Anderssons älskarinna                     nan   \n",
       "2                                          Bad Blood                     nan   \n",
       "3                                       Who Are You?  1 win & 2 nominations.   \n",
       "4                            Skeletons in the Closet                  1 win.   \n",
       "\n",
       "  Award_wins Award_nominated oscar_nominated Oscar_Won  \n",
       "0          0               0               0         0  \n",
       "1          0               0               0         0  \n",
       "2          0               0               0         0  \n",
       "3          1               2               0         0  \n",
       "4          1               0               0         0  "
      ]
     },
     "execution_count": 206,
     "metadata": {},
     "output_type": "execute_result"
    }
   ],
   "source": [
    "df['Oscar_Won'] = df['Awards'].apply(lambda x: pattern_oscar_won.match(x).group().split(' ')[1] if pattern_oscar_won.match(x) else 0)\n",
    "df.head()"
   ]
  },
  {
   "cell_type": "code",
   "execution_count": 207,
   "metadata": {
    "collapsed": false
   },
   "outputs": [
    {
     "data": {
      "text/plain": [
       "array([0, '6', '3', '2', '7', '4'], dtype=object)"
      ]
     },
     "execution_count": 207,
     "metadata": {},
     "output_type": "execute_result"
    }
   ],
   "source": [
    "df['Oscar_Won'].unique()"
   ]
  },
  {
   "cell_type": "markdown",
   "metadata": {},
   "source": [
    "# Golden glob nominated & won"
   ]
  },
  {
   "cell_type": "code",
   "execution_count": 208,
   "metadata": {
    "collapsed": true
   },
   "outputs": [],
   "source": [
    "g = 'Nominated for 1 Golden Globe'"
   ]
  },
  {
   "cell_type": "code",
   "execution_count": 209,
   "metadata": {
    "collapsed": true
   },
   "outputs": [],
   "source": [
    "pattern_Golden_nominated = re.compile(r'Nominated for (\\d) Golden Globe')"
   ]
  },
  {
   "cell_type": "code",
   "execution_count": 210,
   "metadata": {
    "collapsed": false
   },
   "outputs": [
    {
     "name": "stdout",
     "output_type": "stream",
     "text": [
      "<_sre.SRE_Match object; span=(0, 28), match='Nominated for 1 Golden Globe'>\n",
      "1111\n"
     ]
    }
   ],
   "source": [
    "match = pattern_Golden_nominated.match(g)\n",
    "print(match)\n",
    "if match:\n",
    "    print(\"1111\")"
   ]
  },
  {
   "cell_type": "code",
   "execution_count": 211,
   "metadata": {
    "collapsed": false
   },
   "outputs": [
    {
     "data": {
      "text/plain": [
       "'1'"
      ]
     },
     "execution_count": 211,
     "metadata": {},
     "output_type": "execute_result"
    }
   ],
   "source": [
    "match.group().split(' ')[2]"
   ]
  },
  {
   "cell_type": "code",
   "execution_count": 212,
   "metadata": {
    "collapsed": true
   },
   "outputs": [],
   "source": [
    "df['Golden_Globe_nominated'] = df['Awards'].apply(lambda x: pattern_Golden_nominated .match(x).group().split(' ')[2] if pattern_Golden_nominated .match(x) else 0)"
   ]
  },
  {
   "cell_type": "code",
   "execution_count": 213,
   "metadata": {
    "collapsed": false
   },
   "outputs": [
    {
     "data": {
      "text/html": [
       "<div>\n",
       "<table border=\"1\" class=\"dataframe\">\n",
       "  <thead>\n",
       "    <tr style=\"text-align: right;\">\n",
       "      <th></th>\n",
       "      <th>Title</th>\n",
       "      <th>Awards</th>\n",
       "      <th>Award_wins</th>\n",
       "      <th>Award_nominated</th>\n",
       "      <th>oscar_nominated</th>\n",
       "      <th>Oscar_Won</th>\n",
       "      <th>Golden_Globe_nominated</th>\n",
       "    </tr>\n",
       "  </thead>\n",
       "  <tbody>\n",
       "    <tr>\n",
       "      <th>0</th>\n",
       "      <td>Book of Love: The Definitive Reason Why Men Ar...</td>\n",
       "      <td>nan</td>\n",
       "      <td>0</td>\n",
       "      <td>0</td>\n",
       "      <td>0</td>\n",
       "      <td>0</td>\n",
       "      <td>0</td>\n",
       "    </tr>\n",
       "    <tr>\n",
       "      <th>1</th>\n",
       "      <td>Anderssons älskarinna</td>\n",
       "      <td>nan</td>\n",
       "      <td>0</td>\n",
       "      <td>0</td>\n",
       "      <td>0</td>\n",
       "      <td>0</td>\n",
       "      <td>0</td>\n",
       "    </tr>\n",
       "    <tr>\n",
       "      <th>2</th>\n",
       "      <td>Bad Blood</td>\n",
       "      <td>nan</td>\n",
       "      <td>0</td>\n",
       "      <td>0</td>\n",
       "      <td>0</td>\n",
       "      <td>0</td>\n",
       "      <td>0</td>\n",
       "    </tr>\n",
       "    <tr>\n",
       "      <th>3</th>\n",
       "      <td>Who Are You?</td>\n",
       "      <td>1 win &amp; 2 nominations.</td>\n",
       "      <td>1</td>\n",
       "      <td>2</td>\n",
       "      <td>0</td>\n",
       "      <td>0</td>\n",
       "      <td>0</td>\n",
       "    </tr>\n",
       "    <tr>\n",
       "      <th>4</th>\n",
       "      <td>Skeletons in the Closet</td>\n",
       "      <td>1 win.</td>\n",
       "      <td>1</td>\n",
       "      <td>0</td>\n",
       "      <td>0</td>\n",
       "      <td>0</td>\n",
       "      <td>0</td>\n",
       "    </tr>\n",
       "  </tbody>\n",
       "</table>\n",
       "</div>"
      ],
      "text/plain": [
       "                                               Title                  Awards  \\\n",
       "0  Book of Love: The Definitive Reason Why Men Ar...                     nan   \n",
       "1                              Anderssons älskarinna                     nan   \n",
       "2                                          Bad Blood                     nan   \n",
       "3                                       Who Are You?  1 win & 2 nominations.   \n",
       "4                            Skeletons in the Closet                  1 win.   \n",
       "\n",
       "  Award_wins Award_nominated oscar_nominated Oscar_Won Golden_Globe_nominated  \n",
       "0          0               0               0         0                      0  \n",
       "1          0               0               0         0                      0  \n",
       "2          0               0               0         0                      0  \n",
       "3          1               2               0         0                      0  \n",
       "4          1               0               0         0                      0  "
      ]
     },
     "execution_count": 213,
     "metadata": {},
     "output_type": "execute_result"
    }
   ],
   "source": [
    "df.head()"
   ]
  },
  {
   "cell_type": "code",
   "execution_count": 214,
   "metadata": {
    "collapsed": false
   },
   "outputs": [
    {
     "data": {
      "text/plain": [
       "array([0, '1', '2', '3', '6'], dtype=object)"
      ]
     },
     "execution_count": 214,
     "metadata": {},
     "output_type": "execute_result"
    }
   ],
   "source": [
    "df['Golden_Globe_nominated'].unique()"
   ]
  },
  {
   "cell_type": "code",
   "execution_count": 215,
   "metadata": {
    "collapsed": false
   },
   "outputs": [
    {
     "name": "stdout",
     "output_type": "stream",
     "text": [
      "<_sre.SRE_Match object; span=(0, 18), match='Won 1 Golden Globe'>\n",
      "1111\n",
      "1\n"
     ]
    }
   ],
   "source": [
    "g = 'Won 1 Golden Globe'\n",
    "pattern_golden_won = re.compile(r'Won (\\d) Golden Globe')\n",
    "match = pattern_golden_won.match(g)\n",
    "print(match)\n",
    "if match:\n",
    "    print(\"1111\")\n",
    "print(match.group().split(' ')[1])"
   ]
  },
  {
   "cell_type": "code",
   "execution_count": 216,
   "metadata": {
    "collapsed": false
   },
   "outputs": [
    {
     "data": {
      "text/html": [
       "<div>\n",
       "<table border=\"1\" class=\"dataframe\">\n",
       "  <thead>\n",
       "    <tr style=\"text-align: right;\">\n",
       "      <th></th>\n",
       "      <th>Title</th>\n",
       "      <th>Awards</th>\n",
       "      <th>Award_wins</th>\n",
       "      <th>Award_nominated</th>\n",
       "      <th>oscar_nominated</th>\n",
       "      <th>Oscar_Won</th>\n",
       "      <th>Golden_Globe_nominated</th>\n",
       "      <th>Golden_Globe_Won</th>\n",
       "    </tr>\n",
       "  </thead>\n",
       "  <tbody>\n",
       "    <tr>\n",
       "      <th>0</th>\n",
       "      <td>Book of Love: The Definitive Reason Why Men Ar...</td>\n",
       "      <td>nan</td>\n",
       "      <td>0</td>\n",
       "      <td>0</td>\n",
       "      <td>0</td>\n",
       "      <td>0</td>\n",
       "      <td>0</td>\n",
       "      <td>0</td>\n",
       "    </tr>\n",
       "    <tr>\n",
       "      <th>1</th>\n",
       "      <td>Anderssons älskarinna</td>\n",
       "      <td>nan</td>\n",
       "      <td>0</td>\n",
       "      <td>0</td>\n",
       "      <td>0</td>\n",
       "      <td>0</td>\n",
       "      <td>0</td>\n",
       "      <td>0</td>\n",
       "    </tr>\n",
       "    <tr>\n",
       "      <th>2</th>\n",
       "      <td>Bad Blood</td>\n",
       "      <td>nan</td>\n",
       "      <td>0</td>\n",
       "      <td>0</td>\n",
       "      <td>0</td>\n",
       "      <td>0</td>\n",
       "      <td>0</td>\n",
       "      <td>0</td>\n",
       "    </tr>\n",
       "    <tr>\n",
       "      <th>3</th>\n",
       "      <td>Who Are You?</td>\n",
       "      <td>1 win &amp; 2 nominations.</td>\n",
       "      <td>1</td>\n",
       "      <td>2</td>\n",
       "      <td>0</td>\n",
       "      <td>0</td>\n",
       "      <td>0</td>\n",
       "      <td>0</td>\n",
       "    </tr>\n",
       "    <tr>\n",
       "      <th>4</th>\n",
       "      <td>Skeletons in the Closet</td>\n",
       "      <td>1 win.</td>\n",
       "      <td>1</td>\n",
       "      <td>0</td>\n",
       "      <td>0</td>\n",
       "      <td>0</td>\n",
       "      <td>0</td>\n",
       "      <td>0</td>\n",
       "    </tr>\n",
       "  </tbody>\n",
       "</table>\n",
       "</div>"
      ],
      "text/plain": [
       "                                               Title                  Awards  \\\n",
       "0  Book of Love: The Definitive Reason Why Men Ar...                     nan   \n",
       "1                              Anderssons älskarinna                     nan   \n",
       "2                                          Bad Blood                     nan   \n",
       "3                                       Who Are You?  1 win & 2 nominations.   \n",
       "4                            Skeletons in the Closet                  1 win.   \n",
       "\n",
       "  Award_wins Award_nominated oscar_nominated Oscar_Won Golden_Globe_nominated  \\\n",
       "0          0               0               0         0                      0   \n",
       "1          0               0               0         0                      0   \n",
       "2          0               0               0         0                      0   \n",
       "3          1               2               0         0                      0   \n",
       "4          1               0               0         0                      0   \n",
       "\n",
       "  Golden_Globe_Won  \n",
       "0                0  \n",
       "1                0  \n",
       "2                0  \n",
       "3                0  \n",
       "4                0  "
      ]
     },
     "execution_count": 216,
     "metadata": {},
     "output_type": "execute_result"
    }
   ],
   "source": [
    "df['Golden_Globe_Won'] = df['Awards'].apply(lambda x: pattern_golden_won.match(x).group().split(' ')[1] if pattern_golden_won.match(x) else 0)\n",
    "df.head()\n"
   ]
  },
  {
   "cell_type": "code",
   "execution_count": 217,
   "metadata": {
    "collapsed": false
   },
   "outputs": [
    {
     "data": {
      "text/plain": [
       "array([0, '2', '1', '6', '3'], dtype=object)"
      ]
     },
     "execution_count": 217,
     "metadata": {},
     "output_type": "execute_result"
    }
   ],
   "source": [
    "df['Golden_Globe_Won'].unique()"
   ]
  },
  {
   "cell_type": "markdown",
   "metadata": {},
   "source": [
    "# Primetime Emmy nominated and won"
   ]
  },
  {
   "cell_type": "code",
   "execution_count": 218,
   "metadata": {
    "collapsed": false
   },
   "outputs": [
    {
     "name": "stdout",
     "output_type": "stream",
     "text": [
      "<_sre.SRE_Match object; span=(0, 30), match='Nominated for 1 Primetime Emmy'>\n",
      "1111\n"
     ]
    }
   ],
   "source": [
    "g = 'Nominated for 1 Primetime Emmy'\n",
    "pattern_Primetime_nominated = re.compile(r'Nominated for (\\d) Primetime Emmy')\n",
    "match = pattern_Primetime_nominated.match(g)\n",
    "print(match)\n",
    "if match:\n",
    "    print(\"1111\")"
   ]
  },
  {
   "cell_type": "code",
   "execution_count": 219,
   "metadata": {
    "collapsed": false
   },
   "outputs": [
    {
     "data": {
      "text/plain": [
       "'1'"
      ]
     },
     "execution_count": 219,
     "metadata": {},
     "output_type": "execute_result"
    }
   ],
   "source": [
    "match.group().split(' ')[2]"
   ]
  },
  {
   "cell_type": "code",
   "execution_count": 220,
   "metadata": {
    "collapsed": true
   },
   "outputs": [],
   "source": [
    "df['Primetime_Emmy_nominated'] = df['Awards'].apply(lambda x: pattern_Primetime_nominated .match(x).group().split(' ')[2] if pattern_Primetime_nominated .match(x) else 0)"
   ]
  },
  {
   "cell_type": "code",
   "execution_count": 221,
   "metadata": {
    "collapsed": false
   },
   "outputs": [
    {
     "data": {
      "text/html": [
       "<div>\n",
       "<table border=\"1\" class=\"dataframe\">\n",
       "  <thead>\n",
       "    <tr style=\"text-align: right;\">\n",
       "      <th></th>\n",
       "      <th>Title</th>\n",
       "      <th>Awards</th>\n",
       "      <th>Award_wins</th>\n",
       "      <th>Award_nominated</th>\n",
       "      <th>oscar_nominated</th>\n",
       "      <th>Oscar_Won</th>\n",
       "      <th>Golden_Globe_nominated</th>\n",
       "      <th>Golden_Globe_Won</th>\n",
       "      <th>Primetime_Emmy_nominated</th>\n",
       "    </tr>\n",
       "  </thead>\n",
       "  <tbody>\n",
       "    <tr>\n",
       "      <th>0</th>\n",
       "      <td>Book of Love: The Definitive Reason Why Men Ar...</td>\n",
       "      <td>nan</td>\n",
       "      <td>0</td>\n",
       "      <td>0</td>\n",
       "      <td>0</td>\n",
       "      <td>0</td>\n",
       "      <td>0</td>\n",
       "      <td>0</td>\n",
       "      <td>0</td>\n",
       "    </tr>\n",
       "    <tr>\n",
       "      <th>1</th>\n",
       "      <td>Anderssons älskarinna</td>\n",
       "      <td>nan</td>\n",
       "      <td>0</td>\n",
       "      <td>0</td>\n",
       "      <td>0</td>\n",
       "      <td>0</td>\n",
       "      <td>0</td>\n",
       "      <td>0</td>\n",
       "      <td>0</td>\n",
       "    </tr>\n",
       "    <tr>\n",
       "      <th>2</th>\n",
       "      <td>Bad Blood</td>\n",
       "      <td>nan</td>\n",
       "      <td>0</td>\n",
       "      <td>0</td>\n",
       "      <td>0</td>\n",
       "      <td>0</td>\n",
       "      <td>0</td>\n",
       "      <td>0</td>\n",
       "      <td>0</td>\n",
       "    </tr>\n",
       "    <tr>\n",
       "      <th>3</th>\n",
       "      <td>Who Are You?</td>\n",
       "      <td>1 win &amp; 2 nominations.</td>\n",
       "      <td>1</td>\n",
       "      <td>2</td>\n",
       "      <td>0</td>\n",
       "      <td>0</td>\n",
       "      <td>0</td>\n",
       "      <td>0</td>\n",
       "      <td>0</td>\n",
       "    </tr>\n",
       "    <tr>\n",
       "      <th>4</th>\n",
       "      <td>Skeletons in the Closet</td>\n",
       "      <td>1 win.</td>\n",
       "      <td>1</td>\n",
       "      <td>0</td>\n",
       "      <td>0</td>\n",
       "      <td>0</td>\n",
       "      <td>0</td>\n",
       "      <td>0</td>\n",
       "      <td>0</td>\n",
       "    </tr>\n",
       "  </tbody>\n",
       "</table>\n",
       "</div>"
      ],
      "text/plain": [
       "                                               Title                  Awards  \\\n",
       "0  Book of Love: The Definitive Reason Why Men Ar...                     nan   \n",
       "1                              Anderssons älskarinna                     nan   \n",
       "2                                          Bad Blood                     nan   \n",
       "3                                       Who Are You?  1 win & 2 nominations.   \n",
       "4                            Skeletons in the Closet                  1 win.   \n",
       "\n",
       "  Award_wins Award_nominated oscar_nominated Oscar_Won Golden_Globe_nominated  \\\n",
       "0          0               0               0         0                      0   \n",
       "1          0               0               0         0                      0   \n",
       "2          0               0               0         0                      0   \n",
       "3          1               2               0         0                      0   \n",
       "4          1               0               0         0                      0   \n",
       "\n",
       "  Golden_Globe_Won Primetime_Emmy_nominated  \n",
       "0                0                        0  \n",
       "1                0                        0  \n",
       "2                0                        0  \n",
       "3                0                        0  \n",
       "4                0                        0  "
      ]
     },
     "execution_count": 221,
     "metadata": {},
     "output_type": "execute_result"
    }
   ],
   "source": [
    "df.head()"
   ]
  },
  {
   "cell_type": "code",
   "execution_count": 222,
   "metadata": {
    "collapsed": false
   },
   "outputs": [
    {
     "data": {
      "text/plain": [
       "array([0, '4', '1', '2', '3', '5', '7'], dtype=object)"
      ]
     },
     "execution_count": 222,
     "metadata": {},
     "output_type": "execute_result"
    }
   ],
   "source": [
    "df['Primetime_Emmy_nominated'].unique()"
   ]
  },
  {
   "cell_type": "code",
   "execution_count": 223,
   "metadata": {
    "collapsed": false
   },
   "outputs": [
    {
     "name": "stdout",
     "output_type": "stream",
     "text": [
      "<_sre.SRE_Match object; span=(0, 21), match='Won 3 Primetime Emmys'>\n",
      "1111\n",
      "3\n"
     ]
    }
   ],
   "source": [
    "g = 'Won 3 Primetime Emmys'\n",
    "pattern_Primetime_won = re.compile(r'Won (\\d) Primetime Emmys')\n",
    "match = pattern_Primetime_won.match(g)\n",
    "print(match)\n",
    "if match:\n",
    "    print(\"1111\")\n",
    "print(match.group().split(' ')[1])"
   ]
  },
  {
   "cell_type": "code",
   "execution_count": 224,
   "metadata": {
    "collapsed": false
   },
   "outputs": [
    {
     "data": {
      "text/html": [
       "<div>\n",
       "<table border=\"1\" class=\"dataframe\">\n",
       "  <thead>\n",
       "    <tr style=\"text-align: right;\">\n",
       "      <th></th>\n",
       "      <th>Title</th>\n",
       "      <th>Awards</th>\n",
       "      <th>Award_wins</th>\n",
       "      <th>Award_nominated</th>\n",
       "      <th>oscar_nominated</th>\n",
       "      <th>Oscar_Won</th>\n",
       "      <th>Golden_Globe_nominated</th>\n",
       "      <th>Golden_Globe_Won</th>\n",
       "      <th>Primetime_Emmy_nominated</th>\n",
       "      <th>Primetime_Emmys_Won</th>\n",
       "    </tr>\n",
       "  </thead>\n",
       "  <tbody>\n",
       "    <tr>\n",
       "      <th>0</th>\n",
       "      <td>Book of Love: The Definitive Reason Why Men Ar...</td>\n",
       "      <td>nan</td>\n",
       "      <td>0</td>\n",
       "      <td>0</td>\n",
       "      <td>0</td>\n",
       "      <td>0</td>\n",
       "      <td>0</td>\n",
       "      <td>0</td>\n",
       "      <td>0</td>\n",
       "      <td>0</td>\n",
       "    </tr>\n",
       "    <tr>\n",
       "      <th>1</th>\n",
       "      <td>Anderssons älskarinna</td>\n",
       "      <td>nan</td>\n",
       "      <td>0</td>\n",
       "      <td>0</td>\n",
       "      <td>0</td>\n",
       "      <td>0</td>\n",
       "      <td>0</td>\n",
       "      <td>0</td>\n",
       "      <td>0</td>\n",
       "      <td>0</td>\n",
       "    </tr>\n",
       "    <tr>\n",
       "      <th>2</th>\n",
       "      <td>Bad Blood</td>\n",
       "      <td>nan</td>\n",
       "      <td>0</td>\n",
       "      <td>0</td>\n",
       "      <td>0</td>\n",
       "      <td>0</td>\n",
       "      <td>0</td>\n",
       "      <td>0</td>\n",
       "      <td>0</td>\n",
       "      <td>0</td>\n",
       "    </tr>\n",
       "    <tr>\n",
       "      <th>3</th>\n",
       "      <td>Who Are You?</td>\n",
       "      <td>1 win &amp; 2 nominations.</td>\n",
       "      <td>1</td>\n",
       "      <td>2</td>\n",
       "      <td>0</td>\n",
       "      <td>0</td>\n",
       "      <td>0</td>\n",
       "      <td>0</td>\n",
       "      <td>0</td>\n",
       "      <td>0</td>\n",
       "    </tr>\n",
       "    <tr>\n",
       "      <th>4</th>\n",
       "      <td>Skeletons in the Closet</td>\n",
       "      <td>1 win.</td>\n",
       "      <td>1</td>\n",
       "      <td>0</td>\n",
       "      <td>0</td>\n",
       "      <td>0</td>\n",
       "      <td>0</td>\n",
       "      <td>0</td>\n",
       "      <td>0</td>\n",
       "      <td>0</td>\n",
       "    </tr>\n",
       "  </tbody>\n",
       "</table>\n",
       "</div>"
      ],
      "text/plain": [
       "                                               Title                  Awards  \\\n",
       "0  Book of Love: The Definitive Reason Why Men Ar...                     nan   \n",
       "1                              Anderssons älskarinna                     nan   \n",
       "2                                          Bad Blood                     nan   \n",
       "3                                       Who Are You?  1 win & 2 nominations.   \n",
       "4                            Skeletons in the Closet                  1 win.   \n",
       "\n",
       "  Award_wins Award_nominated oscar_nominated Oscar_Won Golden_Globe_nominated  \\\n",
       "0          0               0               0         0                      0   \n",
       "1          0               0               0         0                      0   \n",
       "2          0               0               0         0                      0   \n",
       "3          1               2               0         0                      0   \n",
       "4          1               0               0         0                      0   \n",
       "\n",
       "  Golden_Globe_Won Primetime_Emmy_nominated Primetime_Emmys_Won  \n",
       "0                0                        0                   0  \n",
       "1                0                        0                   0  \n",
       "2                0                        0                   0  \n",
       "3                0                        0                   0  \n",
       "4                0                        0                   0  "
      ]
     },
     "execution_count": 224,
     "metadata": {},
     "output_type": "execute_result"
    }
   ],
   "source": [
    "df['Primetime_Emmys_Won'] = df['Awards'].apply(lambda x: pattern_Primetime_won.match(x).group().split(' ')[1] if pattern_Primetime_won.match(x) else 0)\n",
    "df.head()"
   ]
  },
  {
   "cell_type": "code",
   "execution_count": 225,
   "metadata": {
    "collapsed": false
   },
   "outputs": [
    {
     "data": {
      "text/plain": [
       "array([0, '3', '2', '5', '7', '9', '4'], dtype=object)"
      ]
     },
     "execution_count": 225,
     "metadata": {},
     "output_type": "execute_result"
    }
   ],
   "source": [
    "df['Primetime_Emmys_Won'].unique()"
   ]
  },
  {
   "cell_type": "markdown",
   "metadata": {},
   "source": [
    "# BAFTA nominated and won"
   ]
  },
  {
   "cell_type": "code",
   "execution_count": 226,
   "metadata": {
    "collapsed": false
   },
   "outputs": [
    {
     "name": "stdout",
     "output_type": "stream",
     "text": [
      "<_sre.SRE_Match object; span=(0, 32), match='Nominated for 1 BAFTA Film Award'>\n",
      "1111\n",
      "1\n"
     ]
    }
   ],
   "source": [
    "g = 'Nominated for 1 BAFTA Film Award'\n",
    "pattern_BAFTA_nominated = re.compile(r'Nominated for (\\d) BAFTA Film Award')\n",
    "match = pattern_BAFTA_nominated.match(g)\n",
    "print(match)\n",
    "if match:\n",
    "    print(\"1111\")\n",
    "print(match.group().split(' ')[2])"
   ]
  },
  {
   "cell_type": "code",
   "execution_count": 227,
   "metadata": {
    "collapsed": true
   },
   "outputs": [],
   "source": [
    "df['BAFTA_Film_nominated'] = df['Awards'].apply(lambda x: pattern_BAFTA_nominated.match(x).group().split(' ')[2] if pattern_BAFTA_nominated.match(x) else 0)"
   ]
  },
  {
   "cell_type": "code",
   "execution_count": 228,
   "metadata": {
    "collapsed": false
   },
   "outputs": [
    {
     "data": {
      "text/html": [
       "<div>\n",
       "<table border=\"1\" class=\"dataframe\">\n",
       "  <thead>\n",
       "    <tr style=\"text-align: right;\">\n",
       "      <th></th>\n",
       "      <th>Title</th>\n",
       "      <th>Awards</th>\n",
       "      <th>Award_wins</th>\n",
       "      <th>Award_nominated</th>\n",
       "      <th>oscar_nominated</th>\n",
       "      <th>Oscar_Won</th>\n",
       "      <th>Golden_Globe_nominated</th>\n",
       "      <th>Golden_Globe_Won</th>\n",
       "      <th>Primetime_Emmy_nominated</th>\n",
       "      <th>Primetime_Emmys_Won</th>\n",
       "      <th>BAFTA_Film_nominated</th>\n",
       "    </tr>\n",
       "  </thead>\n",
       "  <tbody>\n",
       "    <tr>\n",
       "      <th>0</th>\n",
       "      <td>Book of Love: The Definitive Reason Why Men Ar...</td>\n",
       "      <td>nan</td>\n",
       "      <td>0</td>\n",
       "      <td>0</td>\n",
       "      <td>0</td>\n",
       "      <td>0</td>\n",
       "      <td>0</td>\n",
       "      <td>0</td>\n",
       "      <td>0</td>\n",
       "      <td>0</td>\n",
       "      <td>0</td>\n",
       "    </tr>\n",
       "    <tr>\n",
       "      <th>1</th>\n",
       "      <td>Anderssons älskarinna</td>\n",
       "      <td>nan</td>\n",
       "      <td>0</td>\n",
       "      <td>0</td>\n",
       "      <td>0</td>\n",
       "      <td>0</td>\n",
       "      <td>0</td>\n",
       "      <td>0</td>\n",
       "      <td>0</td>\n",
       "      <td>0</td>\n",
       "      <td>0</td>\n",
       "    </tr>\n",
       "    <tr>\n",
       "      <th>2</th>\n",
       "      <td>Bad Blood</td>\n",
       "      <td>nan</td>\n",
       "      <td>0</td>\n",
       "      <td>0</td>\n",
       "      <td>0</td>\n",
       "      <td>0</td>\n",
       "      <td>0</td>\n",
       "      <td>0</td>\n",
       "      <td>0</td>\n",
       "      <td>0</td>\n",
       "      <td>0</td>\n",
       "    </tr>\n",
       "    <tr>\n",
       "      <th>3</th>\n",
       "      <td>Who Are You?</td>\n",
       "      <td>1 win &amp; 2 nominations.</td>\n",
       "      <td>1</td>\n",
       "      <td>2</td>\n",
       "      <td>0</td>\n",
       "      <td>0</td>\n",
       "      <td>0</td>\n",
       "      <td>0</td>\n",
       "      <td>0</td>\n",
       "      <td>0</td>\n",
       "      <td>0</td>\n",
       "    </tr>\n",
       "    <tr>\n",
       "      <th>4</th>\n",
       "      <td>Skeletons in the Closet</td>\n",
       "      <td>1 win.</td>\n",
       "      <td>1</td>\n",
       "      <td>0</td>\n",
       "      <td>0</td>\n",
       "      <td>0</td>\n",
       "      <td>0</td>\n",
       "      <td>0</td>\n",
       "      <td>0</td>\n",
       "      <td>0</td>\n",
       "      <td>0</td>\n",
       "    </tr>\n",
       "  </tbody>\n",
       "</table>\n",
       "</div>"
      ],
      "text/plain": [
       "                                               Title                  Awards  \\\n",
       "0  Book of Love: The Definitive Reason Why Men Ar...                     nan   \n",
       "1                              Anderssons älskarinna                     nan   \n",
       "2                                          Bad Blood                     nan   \n",
       "3                                       Who Are You?  1 win & 2 nominations.   \n",
       "4                            Skeletons in the Closet                  1 win.   \n",
       "\n",
       "  Award_wins Award_nominated oscar_nominated Oscar_Won Golden_Globe_nominated  \\\n",
       "0          0               0               0         0                      0   \n",
       "1          0               0               0         0                      0   \n",
       "2          0               0               0         0                      0   \n",
       "3          1               2               0         0                      0   \n",
       "4          1               0               0         0                      0   \n",
       "\n",
       "  Golden_Globe_Won Primetime_Emmy_nominated Primetime_Emmys_Won  \\\n",
       "0                0                        0                   0   \n",
       "1                0                        0                   0   \n",
       "2                0                        0                   0   \n",
       "3                0                        0                   0   \n",
       "4                0                        0                   0   \n",
       "\n",
       "  BAFTA_Film_nominated  \n",
       "0                    0  \n",
       "1                    0  \n",
       "2                    0  \n",
       "3                    0  \n",
       "4                    0  "
      ]
     },
     "execution_count": 228,
     "metadata": {},
     "output_type": "execute_result"
    }
   ],
   "source": [
    "df.head()"
   ]
  },
  {
   "cell_type": "code",
   "execution_count": 229,
   "metadata": {
    "collapsed": false
   },
   "outputs": [
    {
     "data": {
      "text/plain": [
       "array([0, '3', '1'], dtype=object)"
      ]
     },
     "execution_count": 229,
     "metadata": {},
     "output_type": "execute_result"
    }
   ],
   "source": [
    "df['BAFTA_Film_nominated'].unique()"
   ]
  },
  {
   "cell_type": "code",
   "execution_count": 230,
   "metadata": {
    "collapsed": false
   },
   "outputs": [
    {
     "name": "stdout",
     "output_type": "stream",
     "text": [
      "<_sre.SRE_Match object; span=(0, 22), match='Won 3 BAFTA Film Award'>\n",
      "1111\n",
      "3\n"
     ]
    }
   ],
   "source": [
    "g = 'Won 3 BAFTA Film Award'\n",
    "pattern_BAFTA_won = re.compile(r'Won (\\d) BAFTA Film Award')\n",
    "match = pattern_BAFTA_won.match(g)\n",
    "print(match)\n",
    "if match:\n",
    "    print(\"1111\")\n",
    "print(match.group().split(' ')[1])"
   ]
  },
  {
   "cell_type": "code",
   "execution_count": 231,
   "metadata": {
    "collapsed": true
   },
   "outputs": [],
   "source": [
    "df['BAFTA_Film_won'] = df['Awards'].apply(lambda x: pattern_BAFTA_won.match(x).group().split(' ')[2] if pattern_BAFTA_won.match(x) else 0)"
   ]
  },
  {
   "cell_type": "code",
   "execution_count": 232,
   "metadata": {
    "collapsed": false
   },
   "outputs": [
    {
     "data": {
      "text/html": [
       "<div>\n",
       "<table border=\"1\" class=\"dataframe\">\n",
       "  <thead>\n",
       "    <tr style=\"text-align: right;\">\n",
       "      <th></th>\n",
       "      <th>Title</th>\n",
       "      <th>Awards</th>\n",
       "      <th>Award_wins</th>\n",
       "      <th>Award_nominated</th>\n",
       "      <th>oscar_nominated</th>\n",
       "      <th>Oscar_Won</th>\n",
       "      <th>Golden_Globe_nominated</th>\n",
       "      <th>Golden_Globe_Won</th>\n",
       "      <th>Primetime_Emmy_nominated</th>\n",
       "      <th>Primetime_Emmys_Won</th>\n",
       "      <th>BAFTA_Film_nominated</th>\n",
       "      <th>BAFTA_Film_won</th>\n",
       "    </tr>\n",
       "  </thead>\n",
       "  <tbody>\n",
       "    <tr>\n",
       "      <th>0</th>\n",
       "      <td>Book of Love: The Definitive Reason Why Men Ar...</td>\n",
       "      <td>nan</td>\n",
       "      <td>0</td>\n",
       "      <td>0</td>\n",
       "      <td>0</td>\n",
       "      <td>0</td>\n",
       "      <td>0</td>\n",
       "      <td>0</td>\n",
       "      <td>0</td>\n",
       "      <td>0</td>\n",
       "      <td>0</td>\n",
       "      <td>0</td>\n",
       "    </tr>\n",
       "    <tr>\n",
       "      <th>1</th>\n",
       "      <td>Anderssons älskarinna</td>\n",
       "      <td>nan</td>\n",
       "      <td>0</td>\n",
       "      <td>0</td>\n",
       "      <td>0</td>\n",
       "      <td>0</td>\n",
       "      <td>0</td>\n",
       "      <td>0</td>\n",
       "      <td>0</td>\n",
       "      <td>0</td>\n",
       "      <td>0</td>\n",
       "      <td>0</td>\n",
       "    </tr>\n",
       "    <tr>\n",
       "      <th>2</th>\n",
       "      <td>Bad Blood</td>\n",
       "      <td>nan</td>\n",
       "      <td>0</td>\n",
       "      <td>0</td>\n",
       "      <td>0</td>\n",
       "      <td>0</td>\n",
       "      <td>0</td>\n",
       "      <td>0</td>\n",
       "      <td>0</td>\n",
       "      <td>0</td>\n",
       "      <td>0</td>\n",
       "      <td>0</td>\n",
       "    </tr>\n",
       "    <tr>\n",
       "      <th>3</th>\n",
       "      <td>Who Are You?</td>\n",
       "      <td>1 win &amp; 2 nominations.</td>\n",
       "      <td>1</td>\n",
       "      <td>2</td>\n",
       "      <td>0</td>\n",
       "      <td>0</td>\n",
       "      <td>0</td>\n",
       "      <td>0</td>\n",
       "      <td>0</td>\n",
       "      <td>0</td>\n",
       "      <td>0</td>\n",
       "      <td>0</td>\n",
       "    </tr>\n",
       "    <tr>\n",
       "      <th>4</th>\n",
       "      <td>Skeletons in the Closet</td>\n",
       "      <td>1 win.</td>\n",
       "      <td>1</td>\n",
       "      <td>0</td>\n",
       "      <td>0</td>\n",
       "      <td>0</td>\n",
       "      <td>0</td>\n",
       "      <td>0</td>\n",
       "      <td>0</td>\n",
       "      <td>0</td>\n",
       "      <td>0</td>\n",
       "      <td>0</td>\n",
       "    </tr>\n",
       "  </tbody>\n",
       "</table>\n",
       "</div>"
      ],
      "text/plain": [
       "                                               Title                  Awards  \\\n",
       "0  Book of Love: The Definitive Reason Why Men Ar...                     nan   \n",
       "1                              Anderssons älskarinna                     nan   \n",
       "2                                          Bad Blood                     nan   \n",
       "3                                       Who Are You?  1 win & 2 nominations.   \n",
       "4                            Skeletons in the Closet                  1 win.   \n",
       "\n",
       "  Award_wins Award_nominated oscar_nominated Oscar_Won Golden_Globe_nominated  \\\n",
       "0          0               0               0         0                      0   \n",
       "1          0               0               0         0                      0   \n",
       "2          0               0               0         0                      0   \n",
       "3          1               2               0         0                      0   \n",
       "4          1               0               0         0                      0   \n",
       "\n",
       "  Golden_Globe_Won Primetime_Emmy_nominated Primetime_Emmys_Won  \\\n",
       "0                0                        0                   0   \n",
       "1                0                        0                   0   \n",
       "2                0                        0                   0   \n",
       "3                0                        0                   0   \n",
       "4                0                        0                   0   \n",
       "\n",
       "  BAFTA_Film_nominated  BAFTA_Film_won  \n",
       "0                    0               0  \n",
       "1                    0               0  \n",
       "2                    0               0  \n",
       "3                    0               0  \n",
       "4                    0               0  "
      ]
     },
     "execution_count": 232,
     "metadata": {},
     "output_type": "execute_result"
    }
   ],
   "source": [
    "df.head()"
   ]
  },
  {
   "cell_type": "code",
   "execution_count": 233,
   "metadata": {
    "collapsed": false
   },
   "outputs": [
    {
     "data": {
      "text/plain": [
       "array([0])"
      ]
     },
     "execution_count": 233,
     "metadata": {},
     "output_type": "execute_result"
    }
   ],
   "source": [
    "df['BAFTA_Film_won'].unique()"
   ]
  },
  {
   "cell_type": "markdown",
   "metadata": {},
   "source": [
    "# save to csv"
   ]
  },
  {
   "cell_type": "code",
   "execution_count": 237,
   "metadata": {
    "collapsed": true
   },
   "outputs": [],
   "source": [
    "df.to_csv('question4out.csv', encoding='utf-8')"
   ]
  },
  {
   "cell_type": "code",
   "execution_count": 239,
   "metadata": {
    "collapsed": false
   },
   "outputs": [],
   "source": [
    "www = pd.read_csv('question4out.csv')"
   ]
  },
  {
   "cell_type": "code",
   "execution_count": 240,
   "metadata": {
    "collapsed": false,
    "scrolled": true
   },
   "outputs": [
    {
     "data": {
      "text/html": [
       "<div>\n",
       "<table border=\"1\" class=\"dataframe\">\n",
       "  <thead>\n",
       "    <tr style=\"text-align: right;\">\n",
       "      <th></th>\n",
       "      <th>Unnamed: 0</th>\n",
       "      <th>Title</th>\n",
       "      <th>Awards</th>\n",
       "      <th>Award_wins</th>\n",
       "      <th>Award_nominated</th>\n",
       "      <th>oscar_nominated</th>\n",
       "      <th>Oscar_Won</th>\n",
       "      <th>Golden_Globe_nominated</th>\n",
       "      <th>Golden_Globe_Won</th>\n",
       "      <th>Primetime_Emmy_nominated</th>\n",
       "      <th>Primetime_Emmys_Won</th>\n",
       "      <th>BAFTA_Film_nominated</th>\n",
       "      <th>BAFTA_Film_won</th>\n",
       "    </tr>\n",
       "  </thead>\n",
       "  <tbody>\n",
       "    <tr>\n",
       "      <th>0</th>\n",
       "      <td>0</td>\n",
       "      <td>Book of Love: The Definitive Reason Why Men Ar...</td>\n",
       "      <td>NaN</td>\n",
       "      <td>0</td>\n",
       "      <td>0</td>\n",
       "      <td>0</td>\n",
       "      <td>0</td>\n",
       "      <td>0</td>\n",
       "      <td>0</td>\n",
       "      <td>0</td>\n",
       "      <td>0</td>\n",
       "      <td>0</td>\n",
       "      <td>0</td>\n",
       "    </tr>\n",
       "    <tr>\n",
       "      <th>1</th>\n",
       "      <td>1</td>\n",
       "      <td>Anderssons älskarinna</td>\n",
       "      <td>NaN</td>\n",
       "      <td>0</td>\n",
       "      <td>0</td>\n",
       "      <td>0</td>\n",
       "      <td>0</td>\n",
       "      <td>0</td>\n",
       "      <td>0</td>\n",
       "      <td>0</td>\n",
       "      <td>0</td>\n",
       "      <td>0</td>\n",
       "      <td>0</td>\n",
       "    </tr>\n",
       "    <tr>\n",
       "      <th>2</th>\n",
       "      <td>2</td>\n",
       "      <td>Bad Blood</td>\n",
       "      <td>NaN</td>\n",
       "      <td>0</td>\n",
       "      <td>0</td>\n",
       "      <td>0</td>\n",
       "      <td>0</td>\n",
       "      <td>0</td>\n",
       "      <td>0</td>\n",
       "      <td>0</td>\n",
       "      <td>0</td>\n",
       "      <td>0</td>\n",
       "      <td>0</td>\n",
       "    </tr>\n",
       "    <tr>\n",
       "      <th>3</th>\n",
       "      <td>3</td>\n",
       "      <td>Who Are You?</td>\n",
       "      <td>1 win &amp; 2 nominations.</td>\n",
       "      <td>1</td>\n",
       "      <td>2</td>\n",
       "      <td>0</td>\n",
       "      <td>0</td>\n",
       "      <td>0</td>\n",
       "      <td>0</td>\n",
       "      <td>0</td>\n",
       "      <td>0</td>\n",
       "      <td>0</td>\n",
       "      <td>0</td>\n",
       "    </tr>\n",
       "    <tr>\n",
       "      <th>4</th>\n",
       "      <td>4</td>\n",
       "      <td>Skeletons in the Closet</td>\n",
       "      <td>1 win.</td>\n",
       "      <td>1</td>\n",
       "      <td>0</td>\n",
       "      <td>0</td>\n",
       "      <td>0</td>\n",
       "      <td>0</td>\n",
       "      <td>0</td>\n",
       "      <td>0</td>\n",
       "      <td>0</td>\n",
       "      <td>0</td>\n",
       "      <td>0</td>\n",
       "    </tr>\n",
       "  </tbody>\n",
       "</table>\n",
       "</div>"
      ],
      "text/plain": [
       "   Unnamed: 0                                              Title  \\\n",
       "0           0  Book of Love: The Definitive Reason Why Men Ar...   \n",
       "1           1                              Anderssons älskarinna   \n",
       "2           2                                          Bad Blood   \n",
       "3           3                                       Who Are You?   \n",
       "4           4                            Skeletons in the Closet   \n",
       "\n",
       "                   Awards  Award_wins  Award_nominated  oscar_nominated  \\\n",
       "0                     NaN           0                0                0   \n",
       "1                     NaN           0                0                0   \n",
       "2                     NaN           0                0                0   \n",
       "3  1 win & 2 nominations.           1                2                0   \n",
       "4                  1 win.           1                0                0   \n",
       "\n",
       "   Oscar_Won  Golden_Globe_nominated  Golden_Globe_Won  \\\n",
       "0          0                       0                 0   \n",
       "1          0                       0                 0   \n",
       "2          0                       0                 0   \n",
       "3          0                       0                 0   \n",
       "4          0                       0                 0   \n",
       "\n",
       "   Primetime_Emmy_nominated  Primetime_Emmys_Won  BAFTA_Film_nominated  \\\n",
       "0                         0                    0                     0   \n",
       "1                         0                    0                     0   \n",
       "2                         0                    0                     0   \n",
       "3                         0                    0                     0   \n",
       "4                         0                    0                     0   \n",
       "\n",
       "   BAFTA_Film_won  \n",
       "0               0  \n",
       "1               0  \n",
       "2               0  \n",
       "3               0  \n",
       "4               0  "
      ]
     },
     "execution_count": 240,
     "metadata": {},
     "output_type": "execute_result"
    }
   ],
   "source": [
    "www.head()"
   ]
  },
  {
   "cell_type": "code",
   "execution_count": null,
   "metadata": {
    "collapsed": true
   },
   "outputs": [],
   "source": []
  },
  {
   "cell_type": "code",
   "execution_count": null,
   "metadata": {
    "collapsed": true
   },
   "outputs": [],
   "source": []
  }
 ],
 "metadata": {
  "kernelspec": {
   "display_name": "Python 3",
   "language": "python",
   "name": "python3"
  },
  "language_info": {
   "codemirror_mode": {
    "name": "ipython",
    "version": 3
   },
   "file_extension": ".py",
   "mimetype": "text/x-python",
   "name": "python",
   "nbconvert_exporter": "python",
   "pygments_lexer": "ipython3",
   "version": "3.6.0"
  }
 },
 "nbformat": 4,
 "nbformat_minor": 2
}
