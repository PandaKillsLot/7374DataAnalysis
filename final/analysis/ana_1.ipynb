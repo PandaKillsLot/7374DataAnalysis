{
 "cells": [
  {
   "cell_type": "markdown",
   "metadata": {},
   "source": [
    "# Analysis_1\n",
    "- find the pokemon distribution of type\n",
    "- find the most powerful pokemons of each type "
   ]
  },
  {
   "cell_type": "code",
   "execution_count": 21,
   "metadata": {
    "collapsed": true
   },
   "outputs": [],
   "source": [
    "import pandas as pd\n",
    "from pandas import Series, DataFrame"
   ]
  },
  {
   "cell_type": "markdown",
   "metadata": {},
   "source": [
    "# 1.Find the pokemon distrubution of type"
   ]
  },
  {
   "cell_type": "code",
   "execution_count": 22,
   "metadata": {
    "collapsed": false
   },
   "outputs": [
    {
     "data": {
      "text/html": [
       "<div>\n",
       "<table border=\"1\" class=\"dataframe\">\n",
       "  <thead>\n",
       "    <tr style=\"text-align: right;\">\n",
       "      <th></th>\n",
       "      <th>Pokemon No.</th>\n",
       "      <th>Name</th>\n",
       "      <th>Type 1</th>\n",
       "      <th>Type 2</th>\n",
       "      <th>Max CP</th>\n",
       "      <th>Max HP</th>\n",
       "      <th>Image URL</th>\n",
       "    </tr>\n",
       "  </thead>\n",
       "  <tbody>\n",
       "    <tr>\n",
       "      <th>0</th>\n",
       "      <td>1</td>\n",
       "      <td>Bulbasaur</td>\n",
       "      <td>Grass</td>\n",
       "      <td>Poison</td>\n",
       "      <td>1079</td>\n",
       "      <td>83</td>\n",
       "      <td>http://cdn.bulbagarden.net/upload/thumb/2/21/0...</td>\n",
       "    </tr>\n",
       "    <tr>\n",
       "      <th>1</th>\n",
       "      <td>2</td>\n",
       "      <td>Ivysaur</td>\n",
       "      <td>Grass</td>\n",
       "      <td>Poison</td>\n",
       "      <td>1643</td>\n",
       "      <td>107</td>\n",
       "      <td>http://cdn.bulbagarden.net/upload/thumb/7/73/0...</td>\n",
       "    </tr>\n",
       "    <tr>\n",
       "      <th>2</th>\n",
       "      <td>3</td>\n",
       "      <td>Venusaur</td>\n",
       "      <td>Grass</td>\n",
       "      <td>Poison</td>\n",
       "      <td>2598</td>\n",
       "      <td>138</td>\n",
       "      <td>http://cdn.bulbagarden.net/upload/thumb/a/ae/0...</td>\n",
       "    </tr>\n",
       "    <tr>\n",
       "      <th>3</th>\n",
       "      <td>4</td>\n",
       "      <td>Charmander</td>\n",
       "      <td>Fire</td>\n",
       "      <td>NaN</td>\n",
       "      <td>962</td>\n",
       "      <td>73</td>\n",
       "      <td>http://cdn.bulbagarden.net/upload/thumb/7/73/0...</td>\n",
       "    </tr>\n",
       "    <tr>\n",
       "      <th>4</th>\n",
       "      <td>5</td>\n",
       "      <td>Charmeleon</td>\n",
       "      <td>Fire</td>\n",
       "      <td>NaN</td>\n",
       "      <td>1568</td>\n",
       "      <td>103</td>\n",
       "      <td>http://cdn.bulbagarden.net/upload/thumb/4/4a/0...</td>\n",
       "    </tr>\n",
       "  </tbody>\n",
       "</table>\n",
       "</div>"
      ],
      "text/plain": [
       "   Pokemon No.        Name Type 1  Type 2  Max CP  Max HP  \\\n",
       "0            1   Bulbasaur  Grass  Poison    1079      83   \n",
       "1            2     Ivysaur  Grass  Poison    1643     107   \n",
       "2            3    Venusaur  Grass  Poison    2598     138   \n",
       "3            4  Charmander   Fire     NaN     962      73   \n",
       "4            5  Charmeleon   Fire     NaN    1568     103   \n",
       "\n",
       "                                           Image URL  \n",
       "0  http://cdn.bulbagarden.net/upload/thumb/2/21/0...  \n",
       "1  http://cdn.bulbagarden.net/upload/thumb/7/73/0...  \n",
       "2  http://cdn.bulbagarden.net/upload/thumb/a/ae/0...  \n",
       "3  http://cdn.bulbagarden.net/upload/thumb/7/73/0...  \n",
       "4  http://cdn.bulbagarden.net/upload/thumb/4/4a/0...  "
      ]
     },
     "execution_count": 22,
     "metadata": {},
     "output_type": "execute_result"
    }
   ],
   "source": [
    "# read the data and show\n",
    "pokemon_data = pd.read_csv('../data/pokemonGO.csv')\n",
    "pokemon_data.head()"
   ]
  },
  {
   "cell_type": "code",
   "execution_count": 23,
   "metadata": {
    "collapsed": false
   },
   "outputs": [
    {
     "name": "stdout",
     "output_type": "stream",
     "text": [
      "The shape before dropping (151, 7)\n",
      "The shape before dropping (146, 7)\n"
     ]
    }
   ],
   "source": [
    "# delete the 'legendary'pokemons which have not been released \n",
    "print('The shape before dropping', pokemon_data.shape)\n",
    "pokemon_data = pokemon_data.drop([143,144,145,149,150],axis = 0)\n",
    "print('The shape before dropping',pokemon_data.shape)"
   ]
  },
  {
   "cell_type": "code",
   "execution_count": 24,
   "metadata": {
    "collapsed": false
   },
   "outputs": [
    {
     "data": {
      "text/html": [
       "<div>\n",
       "<table border=\"1\" class=\"dataframe\">\n",
       "  <thead>\n",
       "    <tr style=\"text-align: right;\">\n",
       "      <th></th>\n",
       "      <th>Pokemon No.</th>\n",
       "      <th>Name</th>\n",
       "      <th>Type 1</th>\n",
       "      <th>Type 2</th>\n",
       "      <th>Max CP</th>\n",
       "      <th>Max HP</th>\n",
       "      <th>Image URL</th>\n",
       "      <th>Total_values</th>\n",
       "    </tr>\n",
       "  </thead>\n",
       "  <tbody>\n",
       "    <tr>\n",
       "      <th>0</th>\n",
       "      <td>1</td>\n",
       "      <td>Bulbasaur</td>\n",
       "      <td>Grass</td>\n",
       "      <td>Poison</td>\n",
       "      <td>1079</td>\n",
       "      <td>83</td>\n",
       "      <td>http://cdn.bulbagarden.net/upload/thumb/2/21/0...</td>\n",
       "      <td>1145.4</td>\n",
       "    </tr>\n",
       "    <tr>\n",
       "      <th>1</th>\n",
       "      <td>2</td>\n",
       "      <td>Ivysaur</td>\n",
       "      <td>Grass</td>\n",
       "      <td>Poison</td>\n",
       "      <td>1643</td>\n",
       "      <td>107</td>\n",
       "      <td>http://cdn.bulbagarden.net/upload/thumb/7/73/0...</td>\n",
       "      <td>1728.6</td>\n",
       "    </tr>\n",
       "    <tr>\n",
       "      <th>2</th>\n",
       "      <td>3</td>\n",
       "      <td>Venusaur</td>\n",
       "      <td>Grass</td>\n",
       "      <td>Poison</td>\n",
       "      <td>2598</td>\n",
       "      <td>138</td>\n",
       "      <td>http://cdn.bulbagarden.net/upload/thumb/a/ae/0...</td>\n",
       "      <td>2708.4</td>\n",
       "    </tr>\n",
       "    <tr>\n",
       "      <th>3</th>\n",
       "      <td>4</td>\n",
       "      <td>Charmander</td>\n",
       "      <td>Fire</td>\n",
       "      <td>NaN</td>\n",
       "      <td>962</td>\n",
       "      <td>73</td>\n",
       "      <td>http://cdn.bulbagarden.net/upload/thumb/7/73/0...</td>\n",
       "      <td>1020.4</td>\n",
       "    </tr>\n",
       "    <tr>\n",
       "      <th>4</th>\n",
       "      <td>5</td>\n",
       "      <td>Charmeleon</td>\n",
       "      <td>Fire</td>\n",
       "      <td>NaN</td>\n",
       "      <td>1568</td>\n",
       "      <td>103</td>\n",
       "      <td>http://cdn.bulbagarden.net/upload/thumb/4/4a/0...</td>\n",
       "      <td>1650.4</td>\n",
       "    </tr>\n",
       "  </tbody>\n",
       "</table>\n",
       "</div>"
      ],
      "text/plain": [
       "   Pokemon No.        Name Type 1  Type 2  Max CP  Max HP  \\\n",
       "0            1   Bulbasaur  Grass  Poison    1079      83   \n",
       "1            2     Ivysaur  Grass  Poison    1643     107   \n",
       "2            3    Venusaur  Grass  Poison    2598     138   \n",
       "3            4  Charmander   Fire     NaN     962      73   \n",
       "4            5  Charmeleon   Fire     NaN    1568     103   \n",
       "\n",
       "                                           Image URL  Total_values  \n",
       "0  http://cdn.bulbagarden.net/upload/thumb/2/21/0...        1145.4  \n",
       "1  http://cdn.bulbagarden.net/upload/thumb/7/73/0...        1728.6  \n",
       "2  http://cdn.bulbagarden.net/upload/thumb/a/ae/0...        2708.4  \n",
       "3  http://cdn.bulbagarden.net/upload/thumb/7/73/0...        1020.4  \n",
       "4  http://cdn.bulbagarden.net/upload/thumb/4/4a/0...        1650.4  "
      ]
     },
     "execution_count": 24,
     "metadata": {},
     "output_type": "execute_result"
    }
   ],
   "source": [
    "# The formula I use to calculate the total values between HP and CP\n",
    "pokemon_data[\"Total_values\"] = pokemon_data[\"Max CP\"] + pokemon_data[\"Max HP\"]*0.8\n",
    "pokemon_data.head()"
   ]
  },
  {
   "cell_type": "code",
   "execution_count": 25,
   "metadata": {
    "collapsed": true
   },
   "outputs": [],
   "source": [
    "%matplotlib inline"
   ]
  },
  {
   "cell_type": "code",
   "execution_count": 26,
   "metadata": {
    "collapsed": false
   },
   "outputs": [],
   "source": [
    "import matplotlib.pyplot as plt"
   ]
  },
  {
   "cell_type": "code",
   "execution_count": 27,
   "metadata": {
    "collapsed": false
   },
   "outputs": [
    {
     "data": {
      "text/plain": [
       "<matplotlib.text.Text at 0x7f97480e76d8>"
      ]
     },
     "execution_count": 27,
     "metadata": {},
     "output_type": "execute_result"
    },
    {
     "data": {
      "image/png": "[encoded data removed]",
      "text/plain": [
       "<matplotlib.figure.Figure at 0x7f9753174048>"
      ]
     },
     "metadata": {},
     "output_type": "display_data"
    }
   ],
   "source": [
    "import seaborn as sns\n",
    "a4_dims = (11.7, 8.27)\n",
    "fig, ax = plt.subplots(figsize=a4_dims)\n",
    "sns.boxplot(x=\"Type 1\", y=\"Total_values\",data=pokemon_data,ax=ax,palette=\"Set2\")\n",
    "sns.plt.title('Distribution of Each Type')"
   ]
  },
  {
   "cell_type": "code",
   "execution_count": 29,
   "metadata": {
    "collapsed": true
   },
   "outputs": [],
   "source": [
    "fig.savefig('ana_1_type_distribution.png')"
   ]
  },
  {
   "cell_type": "code",
   "execution_count": 30,
   "metadata": {
    "collapsed": false
   },
   "outputs": [
    {
     "name": "stderr",
     "output_type": "stream",
     "text": [
      "/home/pandakillalot/anaconda3/lib/python3.6/site-packages/ipykernel/__main__.py:2: FutureWarning: sort(columns=....) is deprecated, use sort_values(by=.....)\n",
      "  from ipykernel import kernelapp as app\n"
     ]
    },
    {
     "data": {
      "text/html": [
       "<div>\n",
       "<table border=\"1\" class=\"dataframe\">\n",
       "  <thead>\n",
       "    <tr style=\"text-align: right;\">\n",
       "      <th></th>\n",
       "      <th>Pokemon No.</th>\n",
       "      <th>Total_values</th>\n",
       "    </tr>\n",
       "    <tr>\n",
       "      <th>Type 1</th>\n",
       "      <th></th>\n",
       "      <th></th>\n",
       "    </tr>\n",
       "  </thead>\n",
       "  <tbody>\n",
       "    <tr>\n",
       "      <th>Bug</th>\n",
       "      <td>42.916667</td>\n",
       "      <td>1298.600000</td>\n",
       "    </tr>\n",
       "    <tr>\n",
       "      <th>Ground</th>\n",
       "      <td>73.500000</td>\n",
       "      <td>1382.025000</td>\n",
       "    </tr>\n",
       "    <tr>\n",
       "      <th>Psychic</th>\n",
       "      <td>84.500000</td>\n",
       "      <td>1466.400000</td>\n",
       "    </tr>\n",
       "    <tr>\n",
       "      <th>Ghost</th>\n",
       "      <td>93.000000</td>\n",
       "      <td>1497.400000</td>\n",
       "    </tr>\n",
       "    <tr>\n",
       "      <th>Normal</th>\n",
       "      <td>71.727273</td>\n",
       "      <td>1522.281818</td>\n",
       "    </tr>\n",
       "  </tbody>\n",
       "</table>\n",
       "</div>"
      ],
      "text/plain": [
       "         Pokemon No.  Total_values\n",
       "Type 1                            \n",
       "Bug        42.916667   1298.600000\n",
       "Ground     73.500000   1382.025000\n",
       "Psychic    84.500000   1466.400000\n",
       "Ghost      93.000000   1497.400000\n",
       "Normal     71.727273   1522.281818"
      ]
     },
     "execution_count": 30,
     "metadata": {},
     "output_type": "execute_result"
    }
   ],
   "source": [
    "# See thw average value of each type of pokemon\n",
    "df_mean = pokemon_data.loc[:,['Pokemon No.','Name','Type 1','Total_values']].groupby('Type 1').mean().sort('Total_values')\n",
    "df_mean.head()"
   ]
  },
  {
   "cell_type": "code",
   "execution_count": 31,
   "metadata": {
    "collapsed": false
   },
   "outputs": [],
   "source": [
    "# counting numbers of each type\n",
    "df2 = pokemon_data.loc[:,['Pokemon No.','Name','Type 1','Total_values']].groupby('Type 1').count()\n",
    "df_mean['number'] = df2['Name']\n",
    "df_type = df_mean.loc[:,['number','Total_values']]"
   ]
  },
  {
   "cell_type": "code",
   "execution_count": 32,
   "metadata": {
    "collapsed": false
   },
   "outputs": [
    {
     "data": {
      "text/html": [
       "<div>\n",
       "<table border=\"1\" class=\"dataframe\">\n",
       "  <thead>\n",
       "    <tr style=\"text-align: right;\">\n",
       "      <th></th>\n",
       "      <th>number</th>\n",
       "      <th>Total_values</th>\n",
       "    </tr>\n",
       "    <tr>\n",
       "      <th>Type 1</th>\n",
       "      <th></th>\n",
       "      <th></th>\n",
       "    </tr>\n",
       "  </thead>\n",
       "  <tbody>\n",
       "    <tr>\n",
       "      <th>Bug</th>\n",
       "      <td>12</td>\n",
       "      <td>1298.600000</td>\n",
       "    </tr>\n",
       "    <tr>\n",
       "      <th>Ground</th>\n",
       "      <td>8</td>\n",
       "      <td>1382.025000</td>\n",
       "    </tr>\n",
       "    <tr>\n",
       "      <th>Psychic</th>\n",
       "      <td>6</td>\n",
       "      <td>1466.400000</td>\n",
       "    </tr>\n",
       "    <tr>\n",
       "      <th>Ghost</th>\n",
       "      <td>3</td>\n",
       "      <td>1497.400000</td>\n",
       "    </tr>\n",
       "    <tr>\n",
       "      <th>Normal</th>\n",
       "      <td>22</td>\n",
       "      <td>1522.281818</td>\n",
       "    </tr>\n",
       "  </tbody>\n",
       "</table>\n",
       "</div>"
      ],
      "text/plain": [
       "         number  Total_values\n",
       "Type 1                       \n",
       "Bug          12   1298.600000\n",
       "Ground        8   1382.025000\n",
       "Psychic       6   1466.400000\n",
       "Ghost         3   1497.400000\n",
       "Normal       22   1522.281818"
      ]
     },
     "execution_count": 32,
     "metadata": {},
     "output_type": "execute_result"
    }
   ],
   "source": [
    "df_type.head()"
   ]
  },
  {
   "cell_type": "code",
   "execution_count": 33,
   "metadata": {
    "collapsed": true
   },
   "outputs": [],
   "source": [
    "df_type .to_csv('ana_1_type_distrubution.csv', encoding='utf-8')"
   ]
  },
  {
   "cell_type": "markdown",
   "metadata": {},
   "source": [
    "# 2.Find the most powerful pokemons of each type"
   ]
  },
  {
   "cell_type": "code",
   "execution_count": 34,
   "metadata": {
    "collapsed": true
   },
   "outputs": [],
   "source": [
    "df3 = pokemon_data.loc[:,['Pokemon No.','Name','Type 1','Total_values']]"
   ]
  },
  {
   "cell_type": "code",
   "execution_count": 35,
   "metadata": {
    "collapsed": false
   },
   "outputs": [
    {
     "name": "stderr",
     "output_type": "stream",
     "text": [
      "/home/pandakillalot/anaconda3/lib/python3.6/site-packages/ipykernel/__main__.py:1: FutureWarning: sort(columns=....) is deprecated, use sort_values(by=.....)\n",
      "  if __name__ == '__main__':\n",
      "/home/pandakillalot/anaconda3/lib/python3.6/site-packages/ipykernel/__main__.py:2: FutureWarning: sort(columns=....) is deprecated, use sort_values(by=.....)\n",
      "  from ipykernel import kernelapp as app\n"
     ]
    }
   ],
   "source": [
    "df_poke = df3.sort('Total_values', ascending=False).groupby('Type 1', as_index=False).first()\n",
    "df_poke_best = df_poke.sort('Total_values', ascending=False)"
   ]
  },
  {
   "cell_type": "code",
   "execution_count": 36,
   "metadata": {
    "collapsed": false
   },
   "outputs": [
    {
     "data": {
      "text/html": [
       "<div>\n",
       "<table border=\"1\" class=\"dataframe\">\n",
       "  <thead>\n",
       "    <tr style=\"text-align: right;\">\n",
       "      <th></th>\n",
       "      <th>Type 1</th>\n",
       "      <th>Pokemon No.</th>\n",
       "      <th>Name</th>\n",
       "      <th>Total_values</th>\n",
       "    </tr>\n",
       "  </thead>\n",
       "  <tbody>\n",
       "    <tr>\n",
       "      <th>1</th>\n",
       "      <td>Dragon</td>\n",
       "      <td>149</td>\n",
       "      <td>Dragonite</td>\n",
       "      <td>3649.8</td>\n",
       "    </tr>\n",
       "    <tr>\n",
       "      <th>10</th>\n",
       "      <td>Normal</td>\n",
       "      <td>143</td>\n",
       "      <td>Snorlax</td>\n",
       "      <td>3347.0</td>\n",
       "    </tr>\n",
       "    <tr>\n",
       "      <th>14</th>\n",
       "      <td>Water</td>\n",
       "      <td>131</td>\n",
       "      <td>Lapras</td>\n",
       "      <td>3176.4</td>\n",
       "    </tr>\n",
       "    <tr>\n",
       "      <th>5</th>\n",
       "      <td>Fire</td>\n",
       "      <td>59</td>\n",
       "      <td>Arcanine</td>\n",
       "      <td>3128.2</td>\n",
       "    </tr>\n",
       "    <tr>\n",
       "      <th>7</th>\n",
       "      <td>Grass</td>\n",
       "      <td>103</td>\n",
       "      <td>Exeggutor</td>\n",
       "      <td>3105.6</td>\n",
       "    </tr>\n",
       "  </tbody>\n",
       "</table>\n",
       "</div>"
      ],
      "text/plain": [
       "    Type 1  Pokemon No.       Name  Total_values\n",
       "1   Dragon          149  Dragonite        3649.8\n",
       "10  Normal          143    Snorlax        3347.0\n",
       "14   Water          131     Lapras        3176.4\n",
       "5     Fire           59   Arcanine        3128.2\n",
       "7    Grass          103  Exeggutor        3105.6"
      ]
     },
     "execution_count": 36,
     "metadata": {},
     "output_type": "execute_result"
    }
   ],
   "source": [
    "df_poke_best.head()"
   ]
  },
  {
   "cell_type": "code",
   "execution_count": 37,
   "metadata": {
    "collapsed": true
   },
   "outputs": [],
   "source": [
    "df_poke_best.to_csv('ana_1_poke_best.csv', encoding='utf-8')"
   ]
  },
  {
   "cell_type": "code",
   "execution_count": 38,
   "metadata": {
    "collapsed": true
   },
   "outputs": [],
   "source": [
    "df_poke_best = pd.read_csv('ana_1_poke_best.csv')"
   ]
  },
  {
   "cell_type": "code",
   "execution_count": 42,
   "metadata": {
    "collapsed": false
   },
   "outputs": [
    {
     "data": {
      "text/plain": [
       "<matplotlib.text.Text at 0x7f9747bfef60>"
      ]
     },
     "execution_count": 42,
     "metadata": {},
     "output_type": "execute_result"
    },
    {
     "data": {
      "image/png": "[encoded data removed]",
      "text/plain": [
       "<matplotlib.figure.Figure at 0x7f9747c48ba8>"
      ]
     },
     "metadata": {},
     "output_type": "display_data"
    }
   ],
   "source": [
    "a4_dims = (11.7, 8.27)\n",
    "fig, ax = plt.subplots(figsize=a4_dims)\n",
    "ax = sns.barplot(x=\"Type 1\", y=\"Total_values\", data=df_poke_best)\n",
    "i  = 0\n",
    "for p in ax.patches:\n",
    "    height = p.get_height()\n",
    "    ax.text(p.get_x()+p.get_width()/2.,\n",
    "            height + 100,\n",
    "            df_poke_best['Name'].values[i],\n",
    "            ha=\"center\")\n",
    "    i = i+1\n",
    "sns.plt.title('Best Pokemon of Each Type')"
   ]
  },
  {
   "cell_type": "code",
   "execution_count": 41,
   "metadata": {
    "collapsed": true
   },
   "outputs": [],
   "source": [
    "fig.savefig('ana_1_poke_best.png')"
   ]
  }
 ],
 "metadata": {
  "kernelspec": {
   "display_name": "Python 3",
   "language": "python",
   "name": "python3"
  },
  "language_info": {
   "codemirror_mode": {
    "name": "ipython",
    "version": 3
   },
   "file_extension": ".py",
   "mimetype": "text/x-python",
   "name": "python",
   "nbconvert_exporter": "python",
   "pygments_lexer": "ipython3",
   "version": "3.6.0"
  }
 },
 "nbformat": 4,
 "nbformat_minor": 2
}
