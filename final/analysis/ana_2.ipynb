{
 "cells": [
  {
   "cell_type": "markdown",
   "metadata": {},
   "source": [
    "# Analysis_2\n",
    "- count the pokemon appear rate \n",
    "- find the most possible time of the day when rare pokemon showes up "
   ]
  },
  {
   "cell_type": "code",
   "execution_count": 101,
   "metadata": {
    "collapsed": true
   },
   "outputs": [],
   "source": [
    "import pandas as pd\n",
    "from pandas import Series, DataFrame"
   ]
  },
  {
   "cell_type": "markdown",
   "metadata": {},
   "source": [
    "# 1.Count the pokemon appearance rate "
   ]
  },
  {
   "cell_type": "code",
   "execution_count": 102,
   "metadata": {
    "collapsed": false
   },
   "outputs": [
    {
     "data": {
      "text/html": [
       "<div>\n",
       "<table border=\"1\" class=\"dataframe\">\n",
       "  <thead>\n",
       "    <tr style=\"text-align: right;\">\n",
       "      <th></th>\n",
       "      <th>Pokemon No.</th>\n",
       "      <th>Name</th>\n",
       "      <th>Type 1</th>\n",
       "      <th>Type 2</th>\n",
       "      <th>Max CP</th>\n",
       "      <th>Max HP</th>\n",
       "      <th>Image URL</th>\n",
       "    </tr>\n",
       "  </thead>\n",
       "  <tbody>\n",
       "    <tr>\n",
       "      <th>0</th>\n",
       "      <td>1</td>\n",
       "      <td>Bulbasaur</td>\n",
       "      <td>Grass</td>\n",
       "      <td>Poison</td>\n",
       "      <td>1079</td>\n",
       "      <td>83</td>\n",
       "      <td>http://cdn.bulbagarden.net/upload/thumb/2/21/0...</td>\n",
       "    </tr>\n",
       "    <tr>\n",
       "      <th>1</th>\n",
       "      <td>2</td>\n",
       "      <td>Ivysaur</td>\n",
       "      <td>Grass</td>\n",
       "      <td>Poison</td>\n",
       "      <td>1643</td>\n",
       "      <td>107</td>\n",
       "      <td>http://cdn.bulbagarden.net/upload/thumb/7/73/0...</td>\n",
       "    </tr>\n",
       "    <tr>\n",
       "      <th>2</th>\n",
       "      <td>3</td>\n",
       "      <td>Venusaur</td>\n",
       "      <td>Grass</td>\n",
       "      <td>Poison</td>\n",
       "      <td>2598</td>\n",
       "      <td>138</td>\n",
       "      <td>http://cdn.bulbagarden.net/upload/thumb/a/ae/0...</td>\n",
       "    </tr>\n",
       "    <tr>\n",
       "      <th>3</th>\n",
       "      <td>4</td>\n",
       "      <td>Charmander</td>\n",
       "      <td>Fire</td>\n",
       "      <td>NaN</td>\n",
       "      <td>962</td>\n",
       "      <td>73</td>\n",
       "      <td>http://cdn.bulbagarden.net/upload/thumb/7/73/0...</td>\n",
       "    </tr>\n",
       "    <tr>\n",
       "      <th>4</th>\n",
       "      <td>5</td>\n",
       "      <td>Charmeleon</td>\n",
       "      <td>Fire</td>\n",
       "      <td>NaN</td>\n",
       "      <td>1568</td>\n",
       "      <td>103</td>\n",
       "      <td>http://cdn.bulbagarden.net/upload/thumb/4/4a/0...</td>\n",
       "    </tr>\n",
       "  </tbody>\n",
       "</table>\n",
       "</div>"
      ],
      "text/plain": [
       "   Pokemon No.        Name Type 1  Type 2  Max CP  Max HP  \\\n",
       "0            1   Bulbasaur  Grass  Poison    1079      83   \n",
       "1            2     Ivysaur  Grass  Poison    1643     107   \n",
       "2            3    Venusaur  Grass  Poison    2598     138   \n",
       "3            4  Charmander   Fire     NaN     962      73   \n",
       "4            5  Charmeleon   Fire     NaN    1568     103   \n",
       "\n",
       "                                           Image URL  \n",
       "0  http://cdn.bulbagarden.net/upload/thumb/2/21/0...  \n",
       "1  http://cdn.bulbagarden.net/upload/thumb/7/73/0...  \n",
       "2  http://cdn.bulbagarden.net/upload/thumb/a/ae/0...  \n",
       "3  http://cdn.bulbagarden.net/upload/thumb/7/73/0...  \n",
       "4  http://cdn.bulbagarden.net/upload/thumb/4/4a/0...  "
      ]
     },
     "execution_count": 102,
     "metadata": {},
     "output_type": "execute_result"
    }
   ],
   "source": [
    "# basic values of pokemon \n",
    "pokemon_data = pd.read_csv('../data/pokemonGO.csv')\n",
    "pokemon_data.head()"
   ]
  },
  {
   "cell_type": "code",
   "execution_count": 103,
   "metadata": {
    "collapsed": false
   },
   "outputs": [
    {
     "name": "stderr",
     "output_type": "stream",
     "text": [
      "/home/pandakillalot/anaconda3/lib/python3.6/site-packages/IPython/core/interactiveshell.py:2717: DtypeWarning: Columns (49) have mixed types. Specify dtype option on import or set low_memory=False.\n",
      "  interactivity=interactivity, compiler=compiler, result=result)\n"
     ]
    },
    {
     "data": {
      "text/html": [
       "<div>\n",
       "<table border=\"1\" class=\"dataframe\">\n",
       "  <thead>\n",
       "    <tr style=\"text-align: right;\">\n",
       "      <th></th>\n",
       "      <th>pokemonId</th>\n",
       "      <th>latitude</th>\n",
       "      <th>longitude</th>\n",
       "      <th>appearedLocalTime</th>\n",
       "      <th>_id</th>\n",
       "      <th>cellId_90m</th>\n",
       "      <th>cellId_180m</th>\n",
       "      <th>cellId_370m</th>\n",
       "      <th>cellId_730m</th>\n",
       "      <th>cellId_1460m</th>\n",
       "      <th>...</th>\n",
       "      <th>cooc_143</th>\n",
       "      <th>cooc_144</th>\n",
       "      <th>cooc_145</th>\n",
       "      <th>cooc_146</th>\n",
       "      <th>cooc_147</th>\n",
       "      <th>cooc_148</th>\n",
       "      <th>cooc_149</th>\n",
       "      <th>cooc_150</th>\n",
       "      <th>cooc_151</th>\n",
       "      <th>class</th>\n",
       "    </tr>\n",
       "  </thead>\n",
       "  <tbody>\n",
       "    <tr>\n",
       "      <th>0</th>\n",
       "      <td>16</td>\n",
       "      <td>20.525745</td>\n",
       "      <td>-97.460829</td>\n",
       "      <td>2016-09-08T03:57:45</td>\n",
       "      <td>NTgxMDkzOTk4MTM5MjUwMjIzNw==</td>\n",
       "      <td>9645139108510564000</td>\n",
       "      <td>9645139108711890000</td>\n",
       "      <td>9645139108443455000</td>\n",
       "      <td>9645139109517197000</td>\n",
       "      <td>9645139113812165000</td>\n",
       "      <td>...</td>\n",
       "      <td>False</td>\n",
       "      <td>False</td>\n",
       "      <td>False</td>\n",
       "      <td>False</td>\n",
       "      <td>False</td>\n",
       "      <td>False</td>\n",
       "      <td>False</td>\n",
       "      <td>False</td>\n",
       "      <td>False</td>\n",
       "      <td>16</td>\n",
       "    </tr>\n",
       "    <tr>\n",
       "      <th>1</th>\n",
       "      <td>133</td>\n",
       "      <td>20.523695</td>\n",
       "      <td>-97.461167</td>\n",
       "      <td>2016-09-08T03:57:37</td>\n",
       "      <td>OTQ1NDgzODc1MjM3NDEzMTI2MQ==</td>\n",
       "      <td>9645139109852742000</td>\n",
       "      <td>9645139109785633000</td>\n",
       "      <td>9645139110590940000</td>\n",
       "      <td>9645139109517197000</td>\n",
       "      <td>9645139113812165000</td>\n",
       "      <td>...</td>\n",
       "      <td>False</td>\n",
       "      <td>False</td>\n",
       "      <td>False</td>\n",
       "      <td>False</td>\n",
       "      <td>False</td>\n",
       "      <td>False</td>\n",
       "      <td>False</td>\n",
       "      <td>False</td>\n",
       "      <td>False</td>\n",
       "      <td>133</td>\n",
       "    </tr>\n",
       "    <tr>\n",
       "      <th>2</th>\n",
       "      <td>16</td>\n",
       "      <td>38.903590</td>\n",
       "      <td>-77.199780</td>\n",
       "      <td>2016-09-08T03:57:25</td>\n",
       "      <td>NTQ0OTQ0NDA1Nzg2ODg3OTg2OQ==</td>\n",
       "      <td>9923201472785285000</td>\n",
       "      <td>9923201472986612000</td>\n",
       "      <td>9923201473791918000</td>\n",
       "      <td>9923201477013144000</td>\n",
       "      <td>9923201481308110000</td>\n",
       "      <td>...</td>\n",
       "      <td>False</td>\n",
       "      <td>False</td>\n",
       "      <td>False</td>\n",
       "      <td>False</td>\n",
       "      <td>False</td>\n",
       "      <td>False</td>\n",
       "      <td>False</td>\n",
       "      <td>False</td>\n",
       "      <td>False</td>\n",
       "      <td>16</td>\n",
       "    </tr>\n",
       "    <tr>\n",
       "      <th>3</th>\n",
       "      <td>13</td>\n",
       "      <td>47.665903</td>\n",
       "      <td>-122.312561</td>\n",
       "      <td>2016-09-08T03:56:22</td>\n",
       "      <td>NTU2MTU1NDM4NzA2MDk1MDcxNw==</td>\n",
       "      <td>6093392705025474600</td>\n",
       "      <td>6093392705092583400</td>\n",
       "      <td>6093392705897889800</td>\n",
       "      <td>6093392702676664300</td>\n",
       "      <td>6093392715561566200</td>\n",
       "      <td>...</td>\n",
       "      <td>False</td>\n",
       "      <td>False</td>\n",
       "      <td>False</td>\n",
       "      <td>False</td>\n",
       "      <td>False</td>\n",
       "      <td>False</td>\n",
       "      <td>False</td>\n",
       "      <td>False</td>\n",
       "      <td>False</td>\n",
       "      <td>13</td>\n",
       "    </tr>\n",
       "    <tr>\n",
       "      <th>4</th>\n",
       "      <td>133</td>\n",
       "      <td>47.666454</td>\n",
       "      <td>-122.311628</td>\n",
       "      <td>2016-09-08T03:56:08</td>\n",
       "      <td>MTY2ODg4MTAzMTczMDE0MTUwNTM=</td>\n",
       "      <td>6093392707709829100</td>\n",
       "      <td>6093392707776938000</td>\n",
       "      <td>6093392708045373400</td>\n",
       "      <td>6093392711266598900</td>\n",
       "      <td>6093392715561566200</td>\n",
       "      <td>...</td>\n",
       "      <td>False</td>\n",
       "      <td>False</td>\n",
       "      <td>False</td>\n",
       "      <td>False</td>\n",
       "      <td>False</td>\n",
       "      <td>False</td>\n",
       "      <td>False</td>\n",
       "      <td>False</td>\n",
       "      <td>False</td>\n",
       "      <td>133</td>\n",
       "    </tr>\n",
       "  </tbody>\n",
       "</table>\n",
       "<p>5 rows × 208 columns</p>\n",
       "</div>"
      ],
      "text/plain": [
       "   pokemonId   latitude   longitude    appearedLocalTime  \\\n",
       "0         16  20.525745  -97.460829  2016-09-08T03:57:45   \n",
       "1        133  20.523695  -97.461167  2016-09-08T03:57:37   \n",
       "2         16  38.903590  -77.199780  2016-09-08T03:57:25   \n",
       "3         13  47.665903 -122.312561  2016-09-08T03:56:22   \n",
       "4        133  47.666454 -122.311628  2016-09-08T03:56:08   \n",
       "\n",
       "                            _id           cellId_90m          cellId_180m  \\\n",
       "0  NTgxMDkzOTk4MTM5MjUwMjIzNw==  9645139108510564000  9645139108711890000   \n",
       "1  OTQ1NDgzODc1MjM3NDEzMTI2MQ==  9645139109852742000  9645139109785633000   \n",
       "2  NTQ0OTQ0NDA1Nzg2ODg3OTg2OQ==  9923201472785285000  9923201472986612000   \n",
       "3  NTU2MTU1NDM4NzA2MDk1MDcxNw==  6093392705025474600  6093392705092583400   \n",
       "4  MTY2ODg4MTAzMTczMDE0MTUwNTM=  6093392707709829100  6093392707776938000   \n",
       "\n",
       "           cellId_370m          cellId_730m         cellId_1460m  ...    \\\n",
       "0  9645139108443455000  9645139109517197000  9645139113812165000  ...     \n",
       "1  9645139110590940000  9645139109517197000  9645139113812165000  ...     \n",
       "2  9923201473791918000  9923201477013144000  9923201481308110000  ...     \n",
       "3  6093392705897889800  6093392702676664300  6093392715561566200  ...     \n",
       "4  6093392708045373400  6093392711266598900  6093392715561566200  ...     \n",
       "\n",
       "  cooc_143 cooc_144 cooc_145  cooc_146  cooc_147 cooc_148  cooc_149  cooc_150  \\\n",
       "0    False    False    False     False     False    False     False     False   \n",
       "1    False    False    False     False     False    False     False     False   \n",
       "2    False    False    False     False     False    False     False     False   \n",
       "3    False    False    False     False     False    False     False     False   \n",
       "4    False    False    False     False     False    False     False     False   \n",
       "\n",
       "   cooc_151  class  \n",
       "0     False     16  \n",
       "1     False    133  \n",
       "2     False     16  \n",
       "3     False     13  \n",
       "4     False    133  \n",
       "\n",
       "[5 rows x 208 columns]"
      ]
     },
     "execution_count": 103,
     "metadata": {},
     "output_type": "execute_result"
    }
   ],
   "source": [
    "# Dataset consists of roughly 293,000 historical appearances of Pokemon\n",
    "GO_data = pd.read_csv('../data/300k.csv')\n",
    "GO_data.head()"
   ]
  },
  {
   "cell_type": "code",
   "execution_count": 104,
   "metadata": {
    "collapsed": false
   },
   "outputs": [
    {
     "name": "stdout",
     "output_type": "stream",
     "text": [
      "Total 296021 records\n"
     ]
    }
   ],
   "source": [
    "total_appearance = GO_data.shape[0]\n",
    "print('Total',total_appearance, \"records\")"
   ]
  },
  {
   "cell_type": "code",
   "execution_count": 105,
   "metadata": {
    "collapsed": true
   },
   "outputs": [],
   "source": [
    "temp = pd.merge(GO_data, pokemon_data, left_on=GO_data.pokemonId, right_on=\"Pokemon No.\")"
   ]
  },
  {
   "cell_type": "code",
   "execution_count": 106,
   "metadata": {
    "collapsed": false
   },
   "outputs": [
    {
     "data": {
      "text/html": [
       "<div>\n",
       "<table border=\"1\" class=\"dataframe\">\n",
       "  <thead>\n",
       "    <tr style=\"text-align: right;\">\n",
       "      <th></th>\n",
       "      <th>pokemonId</th>\n",
       "      <th>latitude</th>\n",
       "      <th>longitude</th>\n",
       "      <th>appearedLocalTime</th>\n",
       "      <th>_id</th>\n",
       "      <th>cellId_90m</th>\n",
       "      <th>cellId_180m</th>\n",
       "      <th>cellId_370m</th>\n",
       "      <th>cellId_730m</th>\n",
       "      <th>cellId_1460m</th>\n",
       "      <th>...</th>\n",
       "      <th>cooc_150</th>\n",
       "      <th>cooc_151</th>\n",
       "      <th>class</th>\n",
       "      <th>Pokemon No.</th>\n",
       "      <th>Name</th>\n",
       "      <th>Type 1</th>\n",
       "      <th>Type 2</th>\n",
       "      <th>Max CP</th>\n",
       "      <th>Max HP</th>\n",
       "      <th>Image URL</th>\n",
       "    </tr>\n",
       "  </thead>\n",
       "  <tbody>\n",
       "    <tr>\n",
       "      <th>0</th>\n",
       "      <td>16</td>\n",
       "      <td>20.525745</td>\n",
       "      <td>-97.460829</td>\n",
       "      <td>2016-09-08T03:57:45</td>\n",
       "      <td>NTgxMDkzOTk4MTM5MjUwMjIzNw==</td>\n",
       "      <td>9645139108510564000</td>\n",
       "      <td>9645139108711890000</td>\n",
       "      <td>9645139108443455000</td>\n",
       "      <td>9645139109517197000</td>\n",
       "      <td>9645139113812165000</td>\n",
       "      <td>...</td>\n",
       "      <td>False</td>\n",
       "      <td>False</td>\n",
       "      <td>16</td>\n",
       "      <td>16</td>\n",
       "      <td>Pidgey</td>\n",
       "      <td>Normal</td>\n",
       "      <td>Flying</td>\n",
       "      <td>684</td>\n",
       "      <td>75</td>\n",
       "      <td>http://cdn.bulbagarden.net/upload/thumb/5/55/0...</td>\n",
       "    </tr>\n",
       "    <tr>\n",
       "      <th>1</th>\n",
       "      <td>16</td>\n",
       "      <td>38.903590</td>\n",
       "      <td>-77.199780</td>\n",
       "      <td>2016-09-08T03:57:25</td>\n",
       "      <td>NTQ0OTQ0NDA1Nzg2ODg3OTg2OQ==</td>\n",
       "      <td>9923201472785285000</td>\n",
       "      <td>9923201472986612000</td>\n",
       "      <td>9923201473791918000</td>\n",
       "      <td>9923201477013144000</td>\n",
       "      <td>9923201481308110000</td>\n",
       "      <td>...</td>\n",
       "      <td>False</td>\n",
       "      <td>False</td>\n",
       "      <td>16</td>\n",
       "      <td>16</td>\n",
       "      <td>Pidgey</td>\n",
       "      <td>Normal</td>\n",
       "      <td>Flying</td>\n",
       "      <td>684</td>\n",
       "      <td>75</td>\n",
       "      <td>http://cdn.bulbagarden.net/upload/thumb/5/55/0...</td>\n",
       "    </tr>\n",
       "    <tr>\n",
       "      <th>2</th>\n",
       "      <td>16</td>\n",
       "      <td>26.235552</td>\n",
       "      <td>-98.197249</td>\n",
       "      <td>2016-09-08T03:53:40</td>\n",
       "      <td>MTU5OTc0OTgzNTg4MTA4MDE4OQ==</td>\n",
       "      <td>9684323728313287000</td>\n",
       "      <td>9684323728514613000</td>\n",
       "      <td>9684323729319920000</td>\n",
       "      <td>9684323728246178000</td>\n",
       "      <td>9684323715361276000</td>\n",
       "      <td>...</td>\n",
       "      <td>False</td>\n",
       "      <td>False</td>\n",
       "      <td>16</td>\n",
       "      <td>16</td>\n",
       "      <td>Pidgey</td>\n",
       "      <td>Normal</td>\n",
       "      <td>Flying</td>\n",
       "      <td>684</td>\n",
       "      <td>75</td>\n",
       "      <td>http://cdn.bulbagarden.net/upload/thumb/5/55/0...</td>\n",
       "    </tr>\n",
       "    <tr>\n",
       "      <th>3</th>\n",
       "      <td>16</td>\n",
       "      <td>20.526489</td>\n",
       "      <td>-97.460745</td>\n",
       "      <td>2016-09-08T03:51:50</td>\n",
       "      <td>MTM4NjE0MjU4NTcwNDkyMzgzMDE=</td>\n",
       "      <td>9645139108376347000</td>\n",
       "      <td>9645139108175020000</td>\n",
       "      <td>9645139108443455000</td>\n",
       "      <td>9645139109517197000</td>\n",
       "      <td>9645139113812165000</td>\n",
       "      <td>...</td>\n",
       "      <td>False</td>\n",
       "      <td>False</td>\n",
       "      <td>16</td>\n",
       "      <td>16</td>\n",
       "      <td>Pidgey</td>\n",
       "      <td>Normal</td>\n",
       "      <td>Flying</td>\n",
       "      <td>684</td>\n",
       "      <td>75</td>\n",
       "      <td>http://cdn.bulbagarden.net/upload/thumb/5/55/0...</td>\n",
       "    </tr>\n",
       "    <tr>\n",
       "      <th>4</th>\n",
       "      <td>16</td>\n",
       "      <td>20.524930</td>\n",
       "      <td>-97.460406</td>\n",
       "      <td>2016-09-08T03:49:53</td>\n",
       "      <td>MzUyMjIwNTA5NzAwMzczMzE0OQ==</td>\n",
       "      <td>9645139110255395000</td>\n",
       "      <td>9645139110322504000</td>\n",
       "      <td>9645139110590940000</td>\n",
       "      <td>9645139109517197000</td>\n",
       "      <td>9645139113812165000</td>\n",
       "      <td>...</td>\n",
       "      <td>False</td>\n",
       "      <td>False</td>\n",
       "      <td>16</td>\n",
       "      <td>16</td>\n",
       "      <td>Pidgey</td>\n",
       "      <td>Normal</td>\n",
       "      <td>Flying</td>\n",
       "      <td>684</td>\n",
       "      <td>75</td>\n",
       "      <td>http://cdn.bulbagarden.net/upload/thumb/5/55/0...</td>\n",
       "    </tr>\n",
       "  </tbody>\n",
       "</table>\n",
       "<p>5 rows × 215 columns</p>\n",
       "</div>"
      ],
      "text/plain": [
       "   pokemonId   latitude  longitude    appearedLocalTime  \\\n",
       "0         16  20.525745 -97.460829  2016-09-08T03:57:45   \n",
       "1         16  38.903590 -77.199780  2016-09-08T03:57:25   \n",
       "2         16  26.235552 -98.197249  2016-09-08T03:53:40   \n",
       "3         16  20.526489 -97.460745  2016-09-08T03:51:50   \n",
       "4         16  20.524930 -97.460406  2016-09-08T03:49:53   \n",
       "\n",
       "                            _id           cellId_90m          cellId_180m  \\\n",
       "0  NTgxMDkzOTk4MTM5MjUwMjIzNw==  9645139108510564000  9645139108711890000   \n",
       "1  NTQ0OTQ0NDA1Nzg2ODg3OTg2OQ==  9923201472785285000  9923201472986612000   \n",
       "2  MTU5OTc0OTgzNTg4MTA4MDE4OQ==  9684323728313287000  9684323728514613000   \n",
       "3  MTM4NjE0MjU4NTcwNDkyMzgzMDE=  9645139108376347000  9645139108175020000   \n",
       "4  MzUyMjIwNTA5NzAwMzczMzE0OQ==  9645139110255395000  9645139110322504000   \n",
       "\n",
       "           cellId_370m          cellId_730m         cellId_1460m  \\\n",
       "0  9645139108443455000  9645139109517197000  9645139113812165000   \n",
       "1  9923201473791918000  9923201477013144000  9923201481308110000   \n",
       "2  9684323729319920000  9684323728246178000  9684323715361276000   \n",
       "3  9645139108443455000  9645139109517197000  9645139113812165000   \n",
       "4  9645139110590940000  9645139109517197000  9645139113812165000   \n",
       "\n",
       "                         ...                         cooc_150 cooc_151 class  \\\n",
       "0                        ...                            False    False    16   \n",
       "1                        ...                            False    False    16   \n",
       "2                        ...                            False    False    16   \n",
       "3                        ...                            False    False    16   \n",
       "4                        ...                            False    False    16   \n",
       "\n",
       "   Pokemon No.    Name  Type 1  Type 2  Max CP  Max HP  \\\n",
       "0           16  Pidgey  Normal  Flying     684      75   \n",
       "1           16  Pidgey  Normal  Flying     684      75   \n",
       "2           16  Pidgey  Normal  Flying     684      75   \n",
       "3           16  Pidgey  Normal  Flying     684      75   \n",
       "4           16  Pidgey  Normal  Flying     684      75   \n",
       "\n",
       "                                           Image URL  \n",
       "0  http://cdn.bulbagarden.net/upload/thumb/5/55/0...  \n",
       "1  http://cdn.bulbagarden.net/upload/thumb/5/55/0...  \n",
       "2  http://cdn.bulbagarden.net/upload/thumb/5/55/0...  \n",
       "3  http://cdn.bulbagarden.net/upload/thumb/5/55/0...  \n",
       "4  http://cdn.bulbagarden.net/upload/thumb/5/55/0...  \n",
       "\n",
       "[5 rows x 215 columns]"
      ]
     },
     "execution_count": 106,
     "metadata": {},
     "output_type": "execute_result"
    }
   ],
   "source": [
    "temp.head()"
   ]
  },
  {
   "cell_type": "code",
   "execution_count": 107,
   "metadata": {
    "collapsed": false
   },
   "outputs": [],
   "source": [
    "# appearance rate = (number of appearance)/(number of records)\n",
    "aps = temp.groupby('pokemonId').count()\n",
    "s_appearance = aps.latitude/300000 * 100"
   ]
  },
  {
   "cell_type": "code",
   "execution_count": 108,
   "metadata": {
    "collapsed": false
   },
   "outputs": [],
   "source": [
    "pokemon_data = pokemon_data.drop([143,144,145,149,150],axis = 0)\n",
    "pokemon_data = pokemon_data.set_index(['Pokemon No.'])"
   ]
  },
  {
   "cell_type": "code",
   "execution_count": 109,
   "metadata": {
    "collapsed": false
   },
   "outputs": [
    {
     "name": "stderr",
     "output_type": "stream",
     "text": [
      "/home/pandakillalot/anaconda3/lib/python3.6/site-packages/ipykernel/__main__.py:2: FutureWarning: sort(columns=....) is deprecated, use sort_values(by=.....)\n",
      "  from ipykernel import kernelapp as app\n"
     ]
    },
    {
     "data": {
      "text/html": [
       "<div>\n",
       "<table border=\"1\" class=\"dataframe\">\n",
       "  <thead>\n",
       "    <tr style=\"text-align: right;\">\n",
       "      <th></th>\n",
       "      <th>Name</th>\n",
       "      <th>Type 1</th>\n",
       "      <th>Type 2</th>\n",
       "      <th>Max CP</th>\n",
       "      <th>Max HP</th>\n",
       "      <th>Image URL</th>\n",
       "      <th>appear_rate</th>\n",
       "    </tr>\n",
       "    <tr>\n",
       "      <th>Pokemon No.</th>\n",
       "      <th></th>\n",
       "      <th></th>\n",
       "      <th></th>\n",
       "      <th></th>\n",
       "      <th></th>\n",
       "      <th></th>\n",
       "      <th></th>\n",
       "    </tr>\n",
       "  </thead>\n",
       "  <tbody>\n",
       "    <tr>\n",
       "      <th>1</th>\n",
       "      <td>Bulbasaur</td>\n",
       "      <td>Grass</td>\n",
       "      <td>Poison</td>\n",
       "      <td>1079</td>\n",
       "      <td>83</td>\n",
       "      <td>http://cdn.bulbagarden.net/upload/thumb/2/21/0...</td>\n",
       "      <td>0.456000</td>\n",
       "    </tr>\n",
       "    <tr>\n",
       "      <th>2</th>\n",
       "      <td>Ivysaur</td>\n",
       "      <td>Grass</td>\n",
       "      <td>Poison</td>\n",
       "      <td>1643</td>\n",
       "      <td>107</td>\n",
       "      <td>http://cdn.bulbagarden.net/upload/thumb/7/73/0...</td>\n",
       "      <td>0.033333</td>\n",
       "    </tr>\n",
       "    <tr>\n",
       "      <th>3</th>\n",
       "      <td>Venusaur</td>\n",
       "      <td>Grass</td>\n",
       "      <td>Poison</td>\n",
       "      <td>2598</td>\n",
       "      <td>138</td>\n",
       "      <td>http://cdn.bulbagarden.net/upload/thumb/a/ae/0...</td>\n",
       "      <td>0.004000</td>\n",
       "    </tr>\n",
       "    <tr>\n",
       "      <th>4</th>\n",
       "      <td>Charmander</td>\n",
       "      <td>Fire</td>\n",
       "      <td>NaN</td>\n",
       "      <td>962</td>\n",
       "      <td>73</td>\n",
       "      <td>http://cdn.bulbagarden.net/upload/thumb/7/73/0...</td>\n",
       "      <td>0.246000</td>\n",
       "    </tr>\n",
       "    <tr>\n",
       "      <th>5</th>\n",
       "      <td>Charmeleon</td>\n",
       "      <td>Fire</td>\n",
       "      <td>NaN</td>\n",
       "      <td>1568</td>\n",
       "      <td>103</td>\n",
       "      <td>http://cdn.bulbagarden.net/upload/thumb/4/4a/0...</td>\n",
       "      <td>0.007667</td>\n",
       "    </tr>\n",
       "  </tbody>\n",
       "</table>\n",
       "</div>"
      ],
      "text/plain": [
       "                   Name Type 1  Type 2  Max CP  Max HP  \\\n",
       "Pokemon No.                                              \n",
       "1             Bulbasaur  Grass  Poison    1079      83   \n",
       "2               Ivysaur  Grass  Poison    1643     107   \n",
       "3              Venusaur  Grass  Poison    2598     138   \n",
       "4            Charmander   Fire     NaN     962      73   \n",
       "5            Charmeleon   Fire     NaN    1568     103   \n",
       "\n",
       "                                                     Image URL  appear_rate  \n",
       "Pokemon No.                                                                  \n",
       "1            http://cdn.bulbagarden.net/upload/thumb/2/21/0...     0.456000  \n",
       "2            http://cdn.bulbagarden.net/upload/thumb/7/73/0...     0.033333  \n",
       "3            http://cdn.bulbagarden.net/upload/thumb/a/ae/0...     0.004000  \n",
       "4            http://cdn.bulbagarden.net/upload/thumb/7/73/0...     0.246000  \n",
       "5            http://cdn.bulbagarden.net/upload/thumb/4/4a/0...     0.007667  "
      ]
     },
     "execution_count": 109,
     "metadata": {},
     "output_type": "execute_result"
    }
   ],
   "source": [
    "pokemon_data['appear_rate'] = s_appearance\n",
    "pokemon_data.sort(columns='Max CP', axis=0, ascending=True)\n",
    "pokemon_data.head()"
   ]
  },
  {
   "cell_type": "code",
   "execution_count": 110,
   "metadata": {
    "collapsed": true
   },
   "outputs": [],
   "source": [
    "pokemon_data.to_csv('ana_2_all_appearance.csv', encoding='utf-8')"
   ]
  },
  {
   "cell_type": "code",
   "execution_count": 111,
   "metadata": {
    "collapsed": true
   },
   "outputs": [],
   "source": [
    "pokemon_data['appear_rate'] = pokemon_data['appear_rate']*10000"
   ]
  },
  {
   "cell_type": "code",
   "execution_count": 112,
   "metadata": {
    "collapsed": true
   },
   "outputs": [],
   "source": [
    "%matplotlib inline\n",
    "import matplotlib.pyplot as plt\n",
    "import seaborn as sns"
   ]
  },
  {
   "cell_type": "code",
   "execution_count": 113,
   "metadata": {
    "collapsed": false
   },
   "outputs": [
    {
     "data": {
      "text/plain": [
       "<matplotlib.text.Text at 0x7facb3ebc9e8>"
      ]
     },
     "execution_count": 113,
     "metadata": {},
     "output_type": "execute_result"
    },
    {
     "data": {
      "image/png": "[encoded data removed]",
      "text/plain": [
       "<matplotlib.figure.Figure at 0x7facb23c0c88>"
      ]
     },
     "metadata": {},
     "output_type": "display_data"
    }
   ],
   "source": [
    "# boxplot\n",
    "plt.scatter(pokemon_data['Max CP'], pokemon_data['appear_rate'])\n",
    "plt.title('relationship between cp and appearance rate')"
   ]
  },
  {
   "cell_type": "code",
   "execution_count": 131,
   "metadata": {
    "collapsed": true
   },
   "outputs": [],
   "source": [
    "fig.savefig('ana_2_cp_ap.png')"
   ]
  },
  {
   "cell_type": "code",
   "execution_count": 115,
   "metadata": {
    "collapsed": true
   },
   "outputs": [],
   "source": [
    "df_poke_best['appear_rate'] = pokemon_data['appear_rate'] "
   ]
  },
  {
   "cell_type": "code",
   "execution_count": 116,
   "metadata": {
    "collapsed": false
   },
   "outputs": [
    {
     "data": {
      "text/html": [
       "<div>\n",
       "<table border=\"1\" class=\"dataframe\">\n",
       "  <thead>\n",
       "    <tr style=\"text-align: right;\">\n",
       "      <th></th>\n",
       "      <th>Type 1</th>\n",
       "      <th>Name</th>\n",
       "      <th>Total_values</th>\n",
       "      <th>appear_rate</th>\n",
       "    </tr>\n",
       "    <tr>\n",
       "      <th>Pokemon No.</th>\n",
       "      <th></th>\n",
       "      <th></th>\n",
       "      <th></th>\n",
       "      <th></th>\n",
       "    </tr>\n",
       "  </thead>\n",
       "  <tbody>\n",
       "    <tr>\n",
       "      <th>149</th>\n",
       "      <td>Dragon</td>\n",
       "      <td>Dragonite</td>\n",
       "      <td>3649.8</td>\n",
       "      <td>80.000000</td>\n",
       "    </tr>\n",
       "    <tr>\n",
       "      <th>143</th>\n",
       "      <td>Normal</td>\n",
       "      <td>Snorlax</td>\n",
       "      <td>3347.0</td>\n",
       "      <td>243.333333</td>\n",
       "    </tr>\n",
       "    <tr>\n",
       "      <th>131</th>\n",
       "      <td>Water</td>\n",
       "      <td>Lapras</td>\n",
       "      <td>3176.4</td>\n",
       "      <td>66.666667</td>\n",
       "    </tr>\n",
       "    <tr>\n",
       "      <th>59</th>\n",
       "      <td>Fire</td>\n",
       "      <td>Arcanine</td>\n",
       "      <td>3128.2</td>\n",
       "      <td>106.666667</td>\n",
       "    </tr>\n",
       "    <tr>\n",
       "      <th>103</th>\n",
       "      <td>Grass</td>\n",
       "      <td>Exeggutor</td>\n",
       "      <td>3105.6</td>\n",
       "      <td>96.666667</td>\n",
       "    </tr>\n",
       "  </tbody>\n",
       "</table>\n",
       "</div>"
      ],
      "text/plain": [
       "             Type 1       Name  Total_values  appear_rate\n",
       "Pokemon No.                                              \n",
       "149          Dragon  Dragonite        3649.8    80.000000\n",
       "143          Normal    Snorlax        3347.0   243.333333\n",
       "131           Water     Lapras        3176.4    66.666667\n",
       "59             Fire   Arcanine        3128.2   106.666667\n",
       "103           Grass  Exeggutor        3105.6    96.666667"
      ]
     },
     "execution_count": 116,
     "metadata": {},
     "output_type": "execute_result"
    }
   ],
   "source": [
    "df_poke_best.head()"
   ]
  },
  {
   "cell_type": "code",
   "execution_count": 117,
   "metadata": {
    "collapsed": true
   },
   "outputs": [],
   "source": [
    "df_poke_best.to_csv('ana_2_best_appearance.csv', encoding='utf-8')"
   ]
  },
  {
   "cell_type": "markdown",
   "metadata": {
    "collapsed": true
   },
   "source": [
    "# 2. Count the appearance rate of different time periods"
   ]
  },
  {
   "cell_type": "code",
   "execution_count": 118,
   "metadata": {
    "collapsed": true
   },
   "outputs": [],
   "source": [
    "# return a list which contains [id, afternoon_times,evening_times, morning_times, night_times]\n",
    "def count_time(id,df): \n",
    "    df = df[df.pokemonId == id]\n",
    "    time = df.groupby('appearedTimeOfDay').count()\n",
    "    for x in ['afternoon', 'night','eveing','morning']:\n",
    "        if x not in time.pokemonId.index:\n",
    "            time.pokemonId.set_value(x,0)\n",
    "    sss = time.pokemonId.sort_index()\n",
    "    l = list(sss.values)\n",
    "    l.insert(0,id)\n",
    "    return l"
   ]
  },
  {
   "cell_type": "code",
   "execution_count": 119,
   "metadata": {
    "collapsed": true
   },
   "outputs": [],
   "source": [
    "rare_poke_list = df_poke_best.index"
   ]
  },
  {
   "cell_type": "code",
   "execution_count": 120,
   "metadata": {
    "collapsed": false
   },
   "outputs": [],
   "source": [
    "l = []\n",
    "for x in rare_poke_list:\n",
    "    l.append(count_time(x,temp))"
   ]
  },
  {
   "cell_type": "code",
   "execution_count": 121,
   "metadata": {
    "collapsed": true
   },
   "outputs": [],
   "source": [
    "def turn_in_df(id_list,df_temp):\n",
    "    # count appearance rate\n",
    "    l = []\n",
    "    for x in id_list:\n",
    "        l.append(count_time(x,df_temp))\n",
    "    #turn lists into series \n",
    "    l_no = []\n",
    "    l_morn = []\n",
    "    l_after = []\n",
    "    l_evening = []\n",
    "    l_night = []\n",
    "    for x in l:\n",
    "        l_no.append(x[0])\n",
    "        l_morn.append(x[1])\n",
    "        l_after.append(x[2])\n",
    "        l_evening.append(x[3])\n",
    "        l_night.append(x[4])\n",
    "    df1 = pd.DataFrame({'Pokemon No.':l_no,'l_morn':l_morn,'l_after':l_after,'l_evening':l_evening,'l_night':l_night})\n",
    "    df1['sum'] = df1.l_after + df1.l_evening + df1.l_morn + df1.l_night\n",
    "    # from number to percentage\n",
    "    df1.l_after = df1.l_after / df1['sum']\n",
    "    df1.l_evening = df1.l_evening / df1['sum']\n",
    "    df1. l_morn = df1. \tl_morn / df1['sum']\n",
    "    df1.l_night = df1.l_night / df1['sum']\n",
    "    # reindexing\n",
    "    del df1['sum']\n",
    "    df1 = df1.set_index(['Pokemon No.'])\n",
    "    return df1"
   ]
  },
  {
   "cell_type": "code",
   "execution_count": 122,
   "metadata": {
    "collapsed": false
   },
   "outputs": [],
   "source": [
    "pokemon_data = pd.read_csv('ana_2_output/ana_2_all_appearance.csv')\n",
    "id_list = pokemon_data['Pokemon No.'].values"
   ]
  },
  {
   "cell_type": "code",
   "execution_count": 123,
   "metadata": {
    "collapsed": false
   },
   "outputs": [],
   "source": [
    "df_time = turn_in_df(id_list,temp)\n",
    "del df_time['l_after']"
   ]
  },
  {
   "cell_type": "code",
   "execution_count": 124,
   "metadata": {
    "collapsed": false
   },
   "outputs": [
    {
     "data": {
      "text/html": [
       "<div>\n",
       "<table border=\"1\" class=\"dataframe\">\n",
       "  <thead>\n",
       "    <tr style=\"text-align: right;\">\n",
       "      <th></th>\n",
       "      <th>Name</th>\n",
       "      <th>Type 1</th>\n",
       "      <th>Max CP</th>\n",
       "      <th>Max HP</th>\n",
       "      <th>appear_rate</th>\n",
       "      <th>l_evening</th>\n",
       "      <th>l_morn</th>\n",
       "      <th>l_night</th>\n",
       "    </tr>\n",
       "    <tr>\n",
       "      <th>Pokemon No.</th>\n",
       "      <th></th>\n",
       "      <th></th>\n",
       "      <th></th>\n",
       "      <th></th>\n",
       "      <th></th>\n",
       "      <th></th>\n",
       "      <th></th>\n",
       "      <th></th>\n",
       "    </tr>\n",
       "  </thead>\n",
       "  <tbody>\n",
       "    <tr>\n",
       "      <th>1</th>\n",
       "      <td>Bulbasaur</td>\n",
       "      <td>Grass</td>\n",
       "      <td>1079</td>\n",
       "      <td>83</td>\n",
       "      <td>0.456000</td>\n",
       "      <td>0.253185</td>\n",
       "      <td>0.291401</td>\n",
       "      <td>0.455414</td>\n",
       "    </tr>\n",
       "    <tr>\n",
       "      <th>2</th>\n",
       "      <td>Ivysaur</td>\n",
       "      <td>Grass</td>\n",
       "      <td>1643</td>\n",
       "      <td>107</td>\n",
       "      <td>0.033333</td>\n",
       "      <td>0.279070</td>\n",
       "      <td>0.302326</td>\n",
       "      <td>0.418605</td>\n",
       "    </tr>\n",
       "    <tr>\n",
       "      <th>3</th>\n",
       "      <td>Venusaur</td>\n",
       "      <td>Grass</td>\n",
       "      <td>2598</td>\n",
       "      <td>138</td>\n",
       "      <td>0.004000</td>\n",
       "      <td>0.200000</td>\n",
       "      <td>0.200000</td>\n",
       "      <td>0.600000</td>\n",
       "    </tr>\n",
       "    <tr>\n",
       "      <th>4</th>\n",
       "      <td>Charmander</td>\n",
       "      <td>Fire</td>\n",
       "      <td>962</td>\n",
       "      <td>73</td>\n",
       "      <td>0.246000</td>\n",
       "      <td>0.298780</td>\n",
       "      <td>0.378049</td>\n",
       "      <td>0.323171</td>\n",
       "    </tr>\n",
       "    <tr>\n",
       "      <th>5</th>\n",
       "      <td>Charmeleon</td>\n",
       "      <td>Fire</td>\n",
       "      <td>1568</td>\n",
       "      <td>103</td>\n",
       "      <td>0.007667</td>\n",
       "      <td>0.100000</td>\n",
       "      <td>0.300000</td>\n",
       "      <td>0.600000</td>\n",
       "    </tr>\n",
       "  </tbody>\n",
       "</table>\n",
       "</div>"
      ],
      "text/plain": [
       "                   Name Type 1  Max CP  Max HP  appear_rate  l_evening  \\\n",
       "Pokemon No.                                                              \n",
       "1             Bulbasaur  Grass    1079      83     0.456000   0.253185   \n",
       "2               Ivysaur  Grass    1643     107     0.033333   0.279070   \n",
       "3              Venusaur  Grass    2598     138     0.004000   0.200000   \n",
       "4            Charmander   Fire     962      73     0.246000   0.298780   \n",
       "5            Charmeleon   Fire    1568     103     0.007667   0.100000   \n",
       "\n",
       "               l_morn   l_night  \n",
       "Pokemon No.                      \n",
       "1            0.291401  0.455414  \n",
       "2            0.302326  0.418605  \n",
       "3            0.200000  0.600000  \n",
       "4            0.378049  0.323171  \n",
       "5            0.300000  0.600000  "
      ]
     },
     "execution_count": 124,
     "metadata": {},
     "output_type": "execute_result"
    }
   ],
   "source": [
    "pokemon_data = pokemon_data.set_index(['Pokemon No.'])\n",
    "df = pd.DataFrame.join( pokemon_data,df_time)\n",
    "del df['Image URL']\n",
    "del df['Type 2']\n",
    "df.head()"
   ]
  },
  {
   "cell_type": "code",
   "execution_count": 125,
   "metadata": {
    "collapsed": true
   },
   "outputs": [],
   "source": [
    "df_den = GO_data.groupby('pokemonId').mean()"
   ]
  },
  {
   "cell_type": "code",
   "execution_count": 126,
   "metadata": {
    "collapsed": false
   },
   "outputs": [
    {
     "data": {
      "text/html": [
       "<div>\n",
       "<table border=\"1\" class=\"dataframe\">\n",
       "  <thead>\n",
       "    <tr style=\"text-align: right;\">\n",
       "      <th></th>\n",
       "      <th>Name</th>\n",
       "      <th>Type 1</th>\n",
       "      <th>appear_rate</th>\n",
       "      <th>l_evening</th>\n",
       "      <th>l_morn</th>\n",
       "      <th>l_night</th>\n",
       "      <th>population_density</th>\n",
       "    </tr>\n",
       "    <tr>\n",
       "      <th>Pokemon No.</th>\n",
       "      <th></th>\n",
       "      <th></th>\n",
       "      <th></th>\n",
       "      <th></th>\n",
       "      <th></th>\n",
       "      <th></th>\n",
       "      <th></th>\n",
       "    </tr>\n",
       "  </thead>\n",
       "  <tbody>\n",
       "    <tr>\n",
       "      <th>1</th>\n",
       "      <td>Bulbasaur</td>\n",
       "      <td>Grass</td>\n",
       "      <td>0.456000</td>\n",
       "      <td>0.253185</td>\n",
       "      <td>0.291401</td>\n",
       "      <td>0.455414</td>\n",
       "      <td>1851.392773</td>\n",
       "    </tr>\n",
       "    <tr>\n",
       "      <th>2</th>\n",
       "      <td>Ivysaur</td>\n",
       "      <td>Grass</td>\n",
       "      <td>0.033333</td>\n",
       "      <td>0.279070</td>\n",
       "      <td>0.302326</td>\n",
       "      <td>0.418605</td>\n",
       "      <td>1867.937864</td>\n",
       "    </tr>\n",
       "    <tr>\n",
       "      <th>3</th>\n",
       "      <td>Venusaur</td>\n",
       "      <td>Grass</td>\n",
       "      <td>0.004000</td>\n",
       "      <td>0.200000</td>\n",
       "      <td>0.200000</td>\n",
       "      <td>0.600000</td>\n",
       "      <td>379.295705</td>\n",
       "    </tr>\n",
       "    <tr>\n",
       "      <th>4</th>\n",
       "      <td>Charmander</td>\n",
       "      <td>Fire</td>\n",
       "      <td>0.246000</td>\n",
       "      <td>0.298780</td>\n",
       "      <td>0.378049</td>\n",
       "      <td>0.323171</td>\n",
       "      <td>1852.447109</td>\n",
       "    </tr>\n",
       "    <tr>\n",
       "      <th>5</th>\n",
       "      <td>Charmeleon</td>\n",
       "      <td>Fire</td>\n",
       "      <td>0.007667</td>\n",
       "      <td>0.100000</td>\n",
       "      <td>0.300000</td>\n",
       "      <td>0.600000</td>\n",
       "      <td>1047.189039</td>\n",
       "    </tr>\n",
       "  </tbody>\n",
       "</table>\n",
       "</div>"
      ],
      "text/plain": [
       "                   Name Type 1  appear_rate  l_evening    l_morn   l_night  \\\n",
       "Pokemon No.                                                                  \n",
       "1             Bulbasaur  Grass     0.456000   0.253185  0.291401  0.455414   \n",
       "2               Ivysaur  Grass     0.033333   0.279070  0.302326  0.418605   \n",
       "3              Venusaur  Grass     0.004000   0.200000  0.200000  0.600000   \n",
       "4            Charmander   Fire     0.246000   0.298780  0.378049  0.323171   \n",
       "5            Charmeleon   Fire     0.007667   0.100000  0.300000  0.600000   \n",
       "\n",
       "             population_density  \n",
       "Pokemon No.                      \n",
       "1                   1851.392773  \n",
       "2                   1867.937864  \n",
       "3                    379.295705  \n",
       "4                   1852.447109  \n",
       "5                   1047.189039  "
      ]
     },
     "execution_count": 126,
     "metadata": {},
     "output_type": "execute_result"
    }
   ],
   "source": [
    "# population_density\n",
    "df['population_density']=df_den['population_density']\n",
    "del df['Max CP']\n",
    "del df['Max HP']\n",
    "df.head()"
   ]
  },
  {
   "cell_type": "code",
   "execution_count": 127,
   "metadata": {
    "collapsed": true
   },
   "outputs": [],
   "source": [
    "df.to_csv('ana2_2_all_appear&population.csv', encoding='utf-8')"
   ]
  },
  {
   "cell_type": "code",
   "execution_count": 128,
   "metadata": {
    "collapsed": false
   },
   "outputs": [],
   "source": [
    "df_best = df.ix[rare_poke_list]"
   ]
  },
  {
   "cell_type": "code",
   "execution_count": 129,
   "metadata": {
    "collapsed": true
   },
   "outputs": [],
   "source": [
    "df_best.to_csv('ana2_2_best_appear&population.csv', encoding='utf-8')"
   ]
  },
  {
   "cell_type": "code",
   "execution_count": 130,
   "metadata": {
    "collapsed": true
   },
   "outputs": [],
   "source": [
    "df_best = df_best.loc[:,['l_evening','l_morn','l_night']]"
   ]
  }
 ],
 "metadata": {
  "kernelspec": {
   "display_name": "Python 3",
   "language": "python",
   "name": "python3"
  },
  "language_info": {
   "codemirror_mode": {
    "name": "ipython",
    "version": 3
   },
   "file_extension": ".py",
   "mimetype": "text/x-python",
   "name": "python",
   "nbconvert_exporter": "python",
   "pygments_lexer": "ipython3",
   "version": "3.6.0"
  }
 },
 "nbformat": 4,
 "nbformat_minor": 2
}
