{
 "cells": [
  {
   "cell_type": "markdown",
   "metadata": {},
   "source": [
    "# Analysis_4\n",
    "- find the pokemon capture rate"
   ]
  },
  {
   "cell_type": "code",
   "execution_count": 2,
   "metadata": {
    "collapsed": true
   },
   "outputs": [],
   "source": [
    "import oauth2 as oauth\n",
    "import json\n",
    "import argparse\n",
    "import pandas as pd\n",
    "import requests\n",
    "import time\n",
    "from pandas import Series, DataFrame\n",
    "import os"
   ]
  },
  {
   "cell_type": "code",
   "execution_count": 13,
   "metadata": {
    "collapsed": false
   },
   "outputs": [],
   "source": [
    "consumer_key = os.environ.get('consumer_key')\n",
    "consumer_secret = os.environ.get('consumer_secret')\n",
    "access_token_key = os.environ.get('access_token_key')\n",
    "access_token_secret = os.environ.get('access_token_secret')"
   ]
  },
  {
   "cell_type": "code",
   "execution_count": 4,
   "metadata": {
    "collapsed": true
   },
   "outputs": [],
   "source": [
    "consumer = oauth.Consumer(key=consumer_key, secret=consumer_secret)\n",
    "access_token = oauth.Token(key=access_token_key, secret=access_token_secret)\n",
    "client = oauth.Client(consumer, access_token)"
   ]
  },
  {
   "cell_type": "code",
   "execution_count": 15,
   "metadata": {
    "collapsed": true
   },
   "outputs": [],
   "source": [
    "url = \"https://api.twitter.com/1.1/search/tweets.json?\""
   ]
  },
  {
   "cell_type": "code",
   "execution_count": 47,
   "metadata": {
    "collapsed": false
   },
   "outputs": [],
   "source": [
    "def download_twitter(l):\n",
    "    for x in l:\n",
    "        time = 1\n",
    "        while time < 4:\n",
    "            if (time == 1):\n",
    "                s ='&q=%23' + x + '&count=100'\n",
    "            else:\n",
    "                name = 'ana_4_output/twitter_' + x + '_' + str(time - 1) + '.json'\n",
    "                P = json.load(open(name))\n",
    "                P['search_metadata']['max_id']\n",
    "                s ='q=%23' + x +'&since_id=' + str(P['search_metadata']['max_id'])  + '&count=100'\n",
    "                \n",
    "            response, data = client.request(url + s)\n",
    "            print(str(time),url,s)\n",
    "            tweets = json.loads(data.decode(\"utf-8\"))\n",
    "            fileN = 'ana_4_output/twitter_' + x + '_' + str(time) + '.json'\n",
    "            with open(fileN,'w')as f:\n",
    "                json.dump(tweets, f)\n",
    "            time = time + 1"
   ]
  },
  {
   "cell_type": "code",
   "execution_count": 21,
   "metadata": {
    "collapsed": false
   },
   "outputs": [
    {
     "data": {
      "text/html": [
       "<div>\n",
       "<table border=\"1\" class=\"dataframe\">\n",
       "  <thead>\n",
       "    <tr style=\"text-align: right;\">\n",
       "      <th></th>\n",
       "      <th>Pokemon No.</th>\n",
       "      <th>Name</th>\n",
       "      <th>Type 1</th>\n",
       "      <th>appear_rate</th>\n",
       "      <th>l_evening</th>\n",
       "      <th>l_morn</th>\n",
       "      <th>l_night</th>\n",
       "      <th>population_density</th>\n",
       "    </tr>\n",
       "  </thead>\n",
       "  <tbody>\n",
       "    <tr>\n",
       "      <th>0</th>\n",
       "      <td>149</td>\n",
       "      <td>Dragonite</td>\n",
       "      <td>Dragon</td>\n",
       "      <td>0.008000</td>\n",
       "      <td>0.461538</td>\n",
       "      <td>0.230769</td>\n",
       "      <td>0.307692</td>\n",
       "      <td>1396.411398</td>\n",
       "    </tr>\n",
       "    <tr>\n",
       "      <th>1</th>\n",
       "      <td>143</td>\n",
       "      <td>Snorlax</td>\n",
       "      <td>Normal</td>\n",
       "      <td>0.024333</td>\n",
       "      <td>0.280000</td>\n",
       "      <td>0.360000</td>\n",
       "      <td>0.360000</td>\n",
       "      <td>1381.407307</td>\n",
       "    </tr>\n",
       "    <tr>\n",
       "      <th>2</th>\n",
       "      <td>131</td>\n",
       "      <td>Lapras</td>\n",
       "      <td>Water</td>\n",
       "      <td>0.006667</td>\n",
       "      <td>0.166667</td>\n",
       "      <td>0.416667</td>\n",
       "      <td>0.416667</td>\n",
       "      <td>1151.883052</td>\n",
       "    </tr>\n",
       "    <tr>\n",
       "      <th>3</th>\n",
       "      <td>59</td>\n",
       "      <td>Arcanine</td>\n",
       "      <td>Fire</td>\n",
       "      <td>0.010667</td>\n",
       "      <td>0.272727</td>\n",
       "      <td>0.090909</td>\n",
       "      <td>0.636364</td>\n",
       "      <td>1296.309300</td>\n",
       "    </tr>\n",
       "    <tr>\n",
       "      <th>4</th>\n",
       "      <td>103</td>\n",
       "      <td>Exeggutor</td>\n",
       "      <td>Grass</td>\n",
       "      <td>0.009667</td>\n",
       "      <td>0.285714</td>\n",
       "      <td>0.214286</td>\n",
       "      <td>0.500000</td>\n",
       "      <td>1481.762987</td>\n",
       "    </tr>\n",
       "    <tr>\n",
       "      <th>5</th>\n",
       "      <td>89</td>\n",
       "      <td>Muk</td>\n",
       "      <td>Poison</td>\n",
       "      <td>0.001667</td>\n",
       "      <td>0.200000</td>\n",
       "      <td>0.400000</td>\n",
       "      <td>0.400000</td>\n",
       "      <td>1357.125044</td>\n",
       "    </tr>\n",
       "    <tr>\n",
       "      <th>6</th>\n",
       "      <td>68</td>\n",
       "      <td>Machamp</td>\n",
       "      <td>Fighting</td>\n",
       "      <td>NaN</td>\n",
       "      <td>NaN</td>\n",
       "      <td>NaN</td>\n",
       "      <td>NaN</td>\n",
       "      <td>NaN</td>\n",
       "    </tr>\n",
       "    <tr>\n",
       "      <th>7</th>\n",
       "      <td>36</td>\n",
       "      <td>Clefable</td>\n",
       "      <td>Fairy</td>\n",
       "      <td>0.021333</td>\n",
       "      <td>0.250000</td>\n",
       "      <td>0.250000</td>\n",
       "      <td>0.500000</td>\n",
       "      <td>1560.368241</td>\n",
       "    </tr>\n",
       "    <tr>\n",
       "      <th>8</th>\n",
       "      <td>76</td>\n",
       "      <td>Golem</td>\n",
       "      <td>Rock</td>\n",
       "      <td>0.006667</td>\n",
       "      <td>0.250000</td>\n",
       "      <td>0.250000</td>\n",
       "      <td>0.500000</td>\n",
       "      <td>794.467895</td>\n",
       "    </tr>\n",
       "    <tr>\n",
       "      <th>9</th>\n",
       "      <td>112</td>\n",
       "      <td>Rhydon</td>\n",
       "      <td>Ground</td>\n",
       "      <td>0.014333</td>\n",
       "      <td>0.285714</td>\n",
       "      <td>0.333333</td>\n",
       "      <td>0.380952</td>\n",
       "      <td>1903.292261</td>\n",
       "    </tr>\n",
       "    <tr>\n",
       "      <th>10</th>\n",
       "      <td>97</td>\n",
       "      <td>Hypno</td>\n",
       "      <td>Psychic</td>\n",
       "      <td>0.106000</td>\n",
       "      <td>0.278947</td>\n",
       "      <td>0.357895</td>\n",
       "      <td>0.363158</td>\n",
       "      <td>1643.564726</td>\n",
       "    </tr>\n",
       "    <tr>\n",
       "      <th>11</th>\n",
       "      <td>135</td>\n",
       "      <td>Jolteon</td>\n",
       "      <td>Electric</td>\n",
       "      <td>0.003333</td>\n",
       "      <td>0.000000</td>\n",
       "      <td>0.100000</td>\n",
       "      <td>0.900000</td>\n",
       "      <td>1299.177569</td>\n",
       "    </tr>\n",
       "    <tr>\n",
       "      <th>12</th>\n",
       "      <td>127</td>\n",
       "      <td>Pinsir</td>\n",
       "      <td>Bug</td>\n",
       "      <td>0.468000</td>\n",
       "      <td>0.234604</td>\n",
       "      <td>0.304985</td>\n",
       "      <td>0.460411</td>\n",
       "      <td>2449.282327</td>\n",
       "    </tr>\n",
       "    <tr>\n",
       "      <th>13</th>\n",
       "      <td>94</td>\n",
       "      <td>Gengar</td>\n",
       "      <td>Ghost</td>\n",
       "      <td>0.004000</td>\n",
       "      <td>0.333333</td>\n",
       "      <td>0.222222</td>\n",
       "      <td>0.444444</td>\n",
       "      <td>911.604196</td>\n",
       "    </tr>\n",
       "    <tr>\n",
       "      <th>14</th>\n",
       "      <td>124</td>\n",
       "      <td>Jynx</td>\n",
       "      <td>Ice</td>\n",
       "      <td>0.251667</td>\n",
       "      <td>0.274827</td>\n",
       "      <td>0.369515</td>\n",
       "      <td>0.355658</td>\n",
       "      <td>1861.907567</td>\n",
       "    </tr>\n",
       "  </tbody>\n",
       "</table>\n",
       "</div>"
      ],
      "text/plain": [
       "    Pokemon No.       Name    Type 1  appear_rate  l_evening    l_morn  \\\n",
       "0           149  Dragonite    Dragon     0.008000   0.461538  0.230769   \n",
       "1           143    Snorlax    Normal     0.024333   0.280000  0.360000   \n",
       "2           131     Lapras     Water     0.006667   0.166667  0.416667   \n",
       "3            59   Arcanine      Fire     0.010667   0.272727  0.090909   \n",
       "4           103  Exeggutor     Grass     0.009667   0.285714  0.214286   \n",
       "5            89        Muk    Poison     0.001667   0.200000  0.400000   \n",
       "6            68    Machamp  Fighting          NaN        NaN       NaN   \n",
       "7            36   Clefable     Fairy     0.021333   0.250000  0.250000   \n",
       "8            76      Golem      Rock     0.006667   0.250000  0.250000   \n",
       "9           112     Rhydon    Ground     0.014333   0.285714  0.333333   \n",
       "10           97      Hypno   Psychic     0.106000   0.278947  0.357895   \n",
       "11          135    Jolteon  Electric     0.003333   0.000000  0.100000   \n",
       "12          127     Pinsir       Bug     0.468000   0.234604  0.304985   \n",
       "13           94     Gengar     Ghost     0.004000   0.333333  0.222222   \n",
       "14          124       Jynx       Ice     0.251667   0.274827  0.369515   \n",
       "\n",
       "     l_night  population_density  \n",
       "0   0.307692         1396.411398  \n",
       "1   0.360000         1381.407307  \n",
       "2   0.416667         1151.883052  \n",
       "3   0.636364         1296.309300  \n",
       "4   0.500000         1481.762987  \n",
       "5   0.400000         1357.125044  \n",
       "6        NaN                 NaN  \n",
       "7   0.500000         1560.368241  \n",
       "8   0.500000          794.467895  \n",
       "9   0.380952         1903.292261  \n",
       "10  0.363158         1643.564726  \n",
       "11  0.900000         1299.177569  \n",
       "12  0.460411         2449.282327  \n",
       "13  0.444444          911.604196  \n",
       "14  0.355658         1861.907567  "
      ]
     },
     "execution_count": 21,
     "metadata": {},
     "output_type": "execute_result"
    }
   ],
   "source": [
    "best = pd.read_csv('ana_2_output/ana2_2_best_appear&population.csv')\n",
    "best"
   ]
  },
  {
   "cell_type": "code",
   "execution_count": 22,
   "metadata": {
    "collapsed": false
   },
   "outputs": [],
   "source": [
    "l_best_name = best['Name'].values"
   ]
  },
  {
   "cell_type": "code",
   "execution_count": null,
   "metadata": {
    "collapsed": false
   },
   "outputs": [],
   "source": [
    "download_twitter(l_best_name)"
   ]
  },
  {
   "cell_type": "code",
   "execution_count": 25,
   "metadata": {
    "collapsed": false,
    "scrolled": false
   },
   "outputs": [
    {
     "data": {
      "text/plain": [
       "100"
      ]
     },
     "execution_count": 25,
     "metadata": {},
     "output_type": "execute_result"
    }
   ],
   "source": [
    "P = json.load(open('../data/data_twitter_api/twitter_Dragonite_1.json'))\n",
    "P['search_metadata']['count']"
   ]
  },
  {
   "cell_type": "markdown",
   "metadata": {
    "collapsed": true
   },
   "source": [
    "# processing"
   ]
  },
  {
   "cell_type": "code",
   "execution_count": 26,
   "metadata": {
    "collapsed": true
   },
   "outputs": [],
   "source": [
    "import nltk\n",
    "from nltk import FreqDist\n",
    "from nltk.corpus import wordnet as wn"
   ]
  },
  {
   "cell_type": "code",
   "execution_count": 27,
   "metadata": {
    "collapsed": true
   },
   "outputs": [],
   "source": [
    "porter = nltk.PorterStemmer()"
   ]
  },
  {
   "cell_type": "code",
   "execution_count": 28,
   "metadata": {
    "collapsed": true
   },
   "outputs": [],
   "source": [
    "def find_verb(file):\n",
    "    P = json.load(open(file))\n",
    "    l_words = []\n",
    "    for x in P['statuses']:\n",
    "        a = [porter.stem(t.lower()) for t in  nltk.word_tokenize(x['text'])]\n",
    "        for y in nltk.pos_tag(a):\n",
    "            if 'VB' in y[1] :\n",
    "                l_words.append(y[0])\n",
    "    return l_words"
   ]
  },
  {
   "cell_type": "code",
   "execution_count": 29,
   "metadata": {
    "collapsed": true
   },
   "outputs": [],
   "source": [
    "def count_most(lists):\n",
    "    fd = FreqDist(lists) \n",
    "    word_list = []\n",
    "    for word in fd.keys():\n",
    "        word_list.append((word, fd[word])) \n",
    "    sorted_list = sorted(word_list, key=lambda t:t[1], reverse=True)\n",
    "    return sorted_list\n",
    "    print('Most Frequent Words in Persuasion:\\n', sorted_list[:10])"
   ]
  },
  {
   "cell_type": "code",
   "execution_count": 31,
   "metadata": {
    "collapsed": false
   },
   "outputs": [
    {
     "data": {
      "text/plain": [
       "92"
      ]
     },
     "execution_count": 31,
     "metadata": {},
     "output_type": "execute_result"
    }
   ],
   "source": [
    "l = []\n",
    "for x in range(1,4):\n",
    "    fileName ='../data/data_twitter_api/twitter_Dragonite_' + str(x) + '.json'\n",
    "    l = l + find_verb(fileName)\n",
    "len(l)"
   ]
  },
  {
   "cell_type": "code",
   "execution_count": 32,
   "metadata": {
    "collapsed": false
   },
   "outputs": [],
   "source": [
    "most_verb = count_most(l)"
   ]
  },
  {
   "cell_type": "code",
   "execution_count": 33,
   "metadata": {
    "collapsed": false
   },
   "outputs": [
    {
     "name": "stdout",
     "output_type": "stream",
     "text": [
      "[('♂', 8), ('see', 8), ('seen', 6), ('wing', 5), ('woke', 5), ('thi', 5), ('is', 4), ('be', 4), ('♀', 4), (\"'s\", 3), ('are', 2), ('caught', 2), ('win', 2), ('prem', 2), ('want', 2), ('got', 2), ('pokemongo100iv', 2), ('rodrocketmedesenha', 1), ('📱🐉', 1), ('drew', 1), ('complet', 1), ('wow', 1), ('keep', 1), ('send', 1), ('das_bibhutosh', 1), ('knew', 1), ('wa', 1), ('took', 1), ('go', 1), ('prox', 1), ('friggin', 1), ('catch', 1), ('made', 1), ('finish', 1), ('spawn', 1), ('love', 1), ('been', 1), ('know', 1), ('make', 1), ('left', 1), ('began', 1), ('hatch', 1), ('atrapar', 1)]\n"
     ]
    }
   ],
   "source": [
    "print(most_verb)"
   ]
  },
  {
   "cell_type": "code",
   "execution_count": 34,
   "metadata": {
    "collapsed": true
   },
   "outputs": [],
   "source": [
    "l_positive = ['see','is','get','catch','find','finish','make','love','appear','spawn']"
   ]
  },
  {
   "cell_type": "code",
   "execution_count": 35,
   "metadata": {
    "collapsed": true
   },
   "outputs": [],
   "source": [
    "l_negative = ['run','go','disappear','flee']"
   ]
  },
  {
   "cell_type": "code",
   "execution_count": 36,
   "metadata": {
    "collapsed": false
   },
   "outputs": [],
   "source": [
    "def find_sys(l):\n",
    "    l_all = l\n",
    "    for x in l:\n",
    "        sys = wn.synsets(x)[0].lemma_names()\n",
    "        l_all =l_all + sys\n",
    "        \n",
    "    return l_all"
   ]
  },
  {
   "cell_type": "code",
   "execution_count": 37,
   "metadata": {
    "collapsed": false
   },
   "outputs": [],
   "source": [
    "l_positive = find_sys(l_positive)"
   ]
  },
  {
   "cell_type": "code",
   "execution_count": 38,
   "metadata": {
    "collapsed": true
   },
   "outputs": [],
   "source": [
    "l_negative = find_sys(l_negative)"
   ]
  },
  {
   "cell_type": "code",
   "execution_count": 39,
   "metadata": {
    "collapsed": false
   },
   "outputs": [],
   "source": [
    "def count_rate(file,l_positive,l_negative):\n",
    "    P = json.load(open(file))\n",
    "    get = 0\n",
    "    gone = 0\n",
    "    answer = 0.5\n",
    "    for x in P['statuses']:\n",
    "        a = [porter.stem(t.lower()) for t in  nltk.word_tokenize(x['text'])]\n",
    "        for y in a:\n",
    "            if y in l_positive :\n",
    "                get = get + 1\n",
    "            elif y in l_negative:\n",
    "                gone = gone + 1\n",
    "        if (get+gone) != 0:\n",
    "            answer = get/(get+gone)\n",
    "    return [file.split('_')[-2],answer]"
   ]
  },
  {
   "cell_type": "code",
   "execution_count": 41,
   "metadata": {
    "collapsed": false
   },
   "outputs": [
    {
     "data": {
      "text/plain": [
       "['Dragonite', 0.92]"
      ]
     },
     "execution_count": 41,
     "metadata": {},
     "output_type": "execute_result"
    }
   ],
   "source": [
    "count_rate('../data/data_twitter_api//twitter_Dragonite_1.json',l_positive,l_negative)"
   ]
  },
  {
   "cell_type": "code",
   "execution_count": 42,
   "metadata": {
    "collapsed": true
   },
   "outputs": [],
   "source": [
    "l_json = os.listdir('../data/data_twitter_api')"
   ]
  },
  {
   "cell_type": "code",
   "execution_count": 44,
   "metadata": {
    "collapsed": false
   },
   "outputs": [],
   "source": [
    "l_all= []\n",
    "for x in l_json:\n",
    "    file = '../data/data_twitter_api/' + x\n",
    "    l_all.append(count_rate(file,l_positive,l_negative))"
   ]
  },
  {
   "cell_type": "code",
   "execution_count": 45,
   "metadata": {
    "collapsed": false
   },
   "outputs": [
    {
     "data": {
      "text/plain": [
       "[['Jynx', 0.5],\n",
       " ['Muk', 0.5],\n",
       " ['Muk', 0.5],\n",
       " ['Clefable', 0.8333333333333334],\n",
       " ['Exeggutor', 0.5],\n",
       " ['Clefable', 0.5],\n",
       " ['Pinsir', 0.5],\n",
       " ['Snorlax', 0.5],\n",
       " ['Golem', 0.5],\n",
       " ['Gengar', 0.5],\n",
       " ['Jolteon', 0.5],\n",
       " ['Hypno', 0.6060606060606061],\n",
       " ['Rhydon', 1.0],\n",
       " ['Snorlax', 1.0],\n",
       " ['Pinsir', 0.5],\n",
       " ['Gengar', 0.5],\n",
       " ['Jynx', 0.5],\n",
       " ['Dragonite', 0.92],\n",
       " ['Gengar', 0.9444444444444444],\n",
       " ['Rhydon', 0.5],\n",
       " ['Arcanine', 0.8846153846153846],\n",
       " ['Lapras', 1.0],\n",
       " ['Lapras', 0.5],\n",
       " ['Arcanine', 0.5],\n",
       " ['Dragonite', 0.5],\n",
       " ['Arcanine', 0.5],\n",
       " ['Pinsir', 1.0],\n",
       " ['Muk', 0.5],\n",
       " ['Machamp', 0.5],\n",
       " ['Hypno', 0.5],\n",
       " ['Exeggutor', 1.0],\n",
       " ['Golem', 0.5],\n",
       " ['Machamp', 0.5],\n",
       " ['Dragonite', 0.5],\n",
       " ['Exeggutor', 0.5],\n",
       " ['Snorlax', 0.5],\n",
       " ['Hypno', 0.5],\n",
       " ['Rhydon', 0.5],\n",
       " ['Clefable', 0.5],\n",
       " ['Jolteon', 1.0],\n",
       " ['Golem', 1.0],\n",
       " ['Jynx', 0.5151515151515151],\n",
       " ['Jolteon', 0.5],\n",
       " ['Lapras', 0.5],\n",
       " ['Machamp', 1.0]]"
      ]
     },
     "execution_count": 45,
     "metadata": {},
     "output_type": "execute_result"
    }
   ],
   "source": [
    "l_all"
   ]
  },
  {
   "cell_type": "code",
   "execution_count": 46,
   "metadata": {
    "collapsed": false
   },
   "outputs": [
    {
     "data": {
      "text/plain": [
       "array(['Dragonite', 'Snorlax', 'Lapras', 'Arcanine', 'Exeggutor', 'Muk',\n",
       "       'Machamp', 'Clefable', 'Golem', 'Rhydon', 'Hypno', 'Jolteon',\n",
       "       'Pinsir', 'Gengar', 'Jynx'], dtype=object)"
      ]
     },
     "execution_count": 46,
     "metadata": {},
     "output_type": "execute_result"
    }
   ],
   "source": [
    "l_best_name"
   ]
  },
  {
   "cell_type": "code",
   "execution_count": 47,
   "metadata": {
    "collapsed": false
   },
   "outputs": [],
   "source": [
    "l_sum = []\n",
    "for x in l_best_name:\n",
    "    l_sum.append([x,0])"
   ]
  },
  {
   "cell_type": "code",
   "execution_count": 48,
   "metadata": {
    "collapsed": false
   },
   "outputs": [],
   "source": [
    "l_all\n",
    "for x in l_all:\n",
    "    for y in l_sum:\n",
    "        if x[0] == y[0]:\n",
    "            y[1] = y[1] + x[1]"
   ]
  },
  {
   "cell_type": "code",
   "execution_count": 49,
   "metadata": {
    "collapsed": false
   },
   "outputs": [
    {
     "data": {
      "text/plain": [
       "[['Dragonite', 1.92],\n",
       " ['Snorlax', 2.0],\n",
       " ['Lapras', 2.0],\n",
       " ['Arcanine', 1.8846153846153846],\n",
       " ['Exeggutor', 2.0],\n",
       " ['Muk', 1.5],\n",
       " ['Machamp', 2.0],\n",
       " ['Clefable', 1.8333333333333335],\n",
       " ['Golem', 2.0],\n",
       " ['Rhydon', 2.0],\n",
       " ['Hypno', 1.606060606060606],\n",
       " ['Jolteon', 2.0],\n",
       " ['Pinsir', 2.0],\n",
       " ['Gengar', 1.9444444444444444],\n",
       " ['Jynx', 1.5151515151515151]]"
      ]
     },
     "execution_count": 49,
     "metadata": {},
     "output_type": "execute_result"
    }
   ],
   "source": [
    "l_sum"
   ]
  },
  {
   "cell_type": "code",
   "execution_count": 50,
   "metadata": {
    "collapsed": false
   },
   "outputs": [],
   "source": [
    "l_name = []\n",
    "l_rate = []\n",
    "for x in l_sum:\n",
    "    l_name.append(x[0])\n",
    "    l_rate.append(x[1]/3)"
   ]
  },
  {
   "cell_type": "code",
   "execution_count": 51,
   "metadata": {
    "collapsed": false
   },
   "outputs": [],
   "source": [
    "df_rate = pd.DataFrame({'Name': l_name, 'Capture_rate': l_rate})"
   ]
  },
  {
   "cell_type": "code",
   "execution_count": 52,
   "metadata": {
    "collapsed": false
   },
   "outputs": [
    {
     "data": {
      "text/html": [
       "<div>\n",
       "<table border=\"1\" class=\"dataframe\">\n",
       "  <thead>\n",
       "    <tr style=\"text-align: right;\">\n",
       "      <th></th>\n",
       "      <th>Capture_rate</th>\n",
       "      <th>Name</th>\n",
       "    </tr>\n",
       "  </thead>\n",
       "  <tbody>\n",
       "    <tr>\n",
       "      <th>0</th>\n",
       "      <td>0.640000</td>\n",
       "      <td>Dragonite</td>\n",
       "    </tr>\n",
       "    <tr>\n",
       "      <th>1</th>\n",
       "      <td>0.666667</td>\n",
       "      <td>Snorlax</td>\n",
       "    </tr>\n",
       "    <tr>\n",
       "      <th>2</th>\n",
       "      <td>0.666667</td>\n",
       "      <td>Lapras</td>\n",
       "    </tr>\n",
       "    <tr>\n",
       "      <th>3</th>\n",
       "      <td>0.628205</td>\n",
       "      <td>Arcanine</td>\n",
       "    </tr>\n",
       "    <tr>\n",
       "      <th>4</th>\n",
       "      <td>0.666667</td>\n",
       "      <td>Exeggutor</td>\n",
       "    </tr>\n",
       "    <tr>\n",
       "      <th>5</th>\n",
       "      <td>0.500000</td>\n",
       "      <td>Muk</td>\n",
       "    </tr>\n",
       "    <tr>\n",
       "      <th>6</th>\n",
       "      <td>0.666667</td>\n",
       "      <td>Machamp</td>\n",
       "    </tr>\n",
       "    <tr>\n",
       "      <th>7</th>\n",
       "      <td>0.611111</td>\n",
       "      <td>Clefable</td>\n",
       "    </tr>\n",
       "    <tr>\n",
       "      <th>8</th>\n",
       "      <td>0.666667</td>\n",
       "      <td>Golem</td>\n",
       "    </tr>\n",
       "    <tr>\n",
       "      <th>9</th>\n",
       "      <td>0.666667</td>\n",
       "      <td>Rhydon</td>\n",
       "    </tr>\n",
       "    <tr>\n",
       "      <th>10</th>\n",
       "      <td>0.535354</td>\n",
       "      <td>Hypno</td>\n",
       "    </tr>\n",
       "    <tr>\n",
       "      <th>11</th>\n",
       "      <td>0.666667</td>\n",
       "      <td>Jolteon</td>\n",
       "    </tr>\n",
       "    <tr>\n",
       "      <th>12</th>\n",
       "      <td>0.666667</td>\n",
       "      <td>Pinsir</td>\n",
       "    </tr>\n",
       "    <tr>\n",
       "      <th>13</th>\n",
       "      <td>0.648148</td>\n",
       "      <td>Gengar</td>\n",
       "    </tr>\n",
       "    <tr>\n",
       "      <th>14</th>\n",
       "      <td>0.505051</td>\n",
       "      <td>Jynx</td>\n",
       "    </tr>\n",
       "  </tbody>\n",
       "</table>\n",
       "</div>"
      ],
      "text/plain": [
       "    Capture_rate       Name\n",
       "0       0.640000  Dragonite\n",
       "1       0.666667    Snorlax\n",
       "2       0.666667     Lapras\n",
       "3       0.628205   Arcanine\n",
       "4       0.666667  Exeggutor\n",
       "5       0.500000        Muk\n",
       "6       0.666667    Machamp\n",
       "7       0.611111   Clefable\n",
       "8       0.666667      Golem\n",
       "9       0.666667     Rhydon\n",
       "10      0.535354      Hypno\n",
       "11      0.666667    Jolteon\n",
       "12      0.666667     Pinsir\n",
       "13      0.648148     Gengar\n",
       "14      0.505051       Jynx"
      ]
     },
     "execution_count": 52,
     "metadata": {},
     "output_type": "execute_result"
    }
   ],
   "source": [
    "df_rate"
   ]
  },
  {
   "cell_type": "code",
   "execution_count": 53,
   "metadata": {
    "collapsed": true
   },
   "outputs": [],
   "source": [
    "df = pd.DataFrame.merge(df_rate,best,on='Name')"
   ]
  },
  {
   "cell_type": "code",
   "execution_count": 54,
   "metadata": {
    "collapsed": false
   },
   "outputs": [
    {
     "data": {
      "text/html": [
       "<div>\n",
       "<table border=\"1\" class=\"dataframe\">\n",
       "  <thead>\n",
       "    <tr style=\"text-align: right;\">\n",
       "      <th></th>\n",
       "      <th>Capture_rate</th>\n",
       "      <th>Name</th>\n",
       "      <th>Pokemon No.</th>\n",
       "      <th>Type 1</th>\n",
       "      <th>appear_rate</th>\n",
       "      <th>l_evening</th>\n",
       "      <th>l_morn</th>\n",
       "      <th>l_night</th>\n",
       "      <th>population_density</th>\n",
       "    </tr>\n",
       "  </thead>\n",
       "  <tbody>\n",
       "    <tr>\n",
       "      <th>0</th>\n",
       "      <td>0.640000</td>\n",
       "      <td>Dragonite</td>\n",
       "      <td>149</td>\n",
       "      <td>Dragon</td>\n",
       "      <td>0.008000</td>\n",
       "      <td>0.461538</td>\n",
       "      <td>0.230769</td>\n",
       "      <td>0.307692</td>\n",
       "      <td>1396.411398</td>\n",
       "    </tr>\n",
       "    <tr>\n",
       "      <th>1</th>\n",
       "      <td>0.666667</td>\n",
       "      <td>Snorlax</td>\n",
       "      <td>143</td>\n",
       "      <td>Normal</td>\n",
       "      <td>0.024333</td>\n",
       "      <td>0.280000</td>\n",
       "      <td>0.360000</td>\n",
       "      <td>0.360000</td>\n",
       "      <td>1381.407307</td>\n",
       "    </tr>\n",
       "    <tr>\n",
       "      <th>2</th>\n",
       "      <td>0.666667</td>\n",
       "      <td>Lapras</td>\n",
       "      <td>131</td>\n",
       "      <td>Water</td>\n",
       "      <td>0.006667</td>\n",
       "      <td>0.166667</td>\n",
       "      <td>0.416667</td>\n",
       "      <td>0.416667</td>\n",
       "      <td>1151.883052</td>\n",
       "    </tr>\n",
       "    <tr>\n",
       "      <th>3</th>\n",
       "      <td>0.628205</td>\n",
       "      <td>Arcanine</td>\n",
       "      <td>59</td>\n",
       "      <td>Fire</td>\n",
       "      <td>0.010667</td>\n",
       "      <td>0.272727</td>\n",
       "      <td>0.090909</td>\n",
       "      <td>0.636364</td>\n",
       "      <td>1296.309300</td>\n",
       "    </tr>\n",
       "    <tr>\n",
       "      <th>4</th>\n",
       "      <td>0.666667</td>\n",
       "      <td>Exeggutor</td>\n",
       "      <td>103</td>\n",
       "      <td>Grass</td>\n",
       "      <td>0.009667</td>\n",
       "      <td>0.285714</td>\n",
       "      <td>0.214286</td>\n",
       "      <td>0.500000</td>\n",
       "      <td>1481.762987</td>\n",
       "    </tr>\n",
       "    <tr>\n",
       "      <th>5</th>\n",
       "      <td>0.500000</td>\n",
       "      <td>Muk</td>\n",
       "      <td>89</td>\n",
       "      <td>Poison</td>\n",
       "      <td>0.001667</td>\n",
       "      <td>0.200000</td>\n",
       "      <td>0.400000</td>\n",
       "      <td>0.400000</td>\n",
       "      <td>1357.125044</td>\n",
       "    </tr>\n",
       "    <tr>\n",
       "      <th>6</th>\n",
       "      <td>0.666667</td>\n",
       "      <td>Machamp</td>\n",
       "      <td>68</td>\n",
       "      <td>Fighting</td>\n",
       "      <td>NaN</td>\n",
       "      <td>NaN</td>\n",
       "      <td>NaN</td>\n",
       "      <td>NaN</td>\n",
       "      <td>NaN</td>\n",
       "    </tr>\n",
       "    <tr>\n",
       "      <th>7</th>\n",
       "      <td>0.611111</td>\n",
       "      <td>Clefable</td>\n",
       "      <td>36</td>\n",
       "      <td>Fairy</td>\n",
       "      <td>0.021333</td>\n",
       "      <td>0.250000</td>\n",
       "      <td>0.250000</td>\n",
       "      <td>0.500000</td>\n",
       "      <td>1560.368241</td>\n",
       "    </tr>\n",
       "    <tr>\n",
       "      <th>8</th>\n",
       "      <td>0.666667</td>\n",
       "      <td>Golem</td>\n",
       "      <td>76</td>\n",
       "      <td>Rock</td>\n",
       "      <td>0.006667</td>\n",
       "      <td>0.250000</td>\n",
       "      <td>0.250000</td>\n",
       "      <td>0.500000</td>\n",
       "      <td>794.467895</td>\n",
       "    </tr>\n",
       "    <tr>\n",
       "      <th>9</th>\n",
       "      <td>0.666667</td>\n",
       "      <td>Rhydon</td>\n",
       "      <td>112</td>\n",
       "      <td>Ground</td>\n",
       "      <td>0.014333</td>\n",
       "      <td>0.285714</td>\n",
       "      <td>0.333333</td>\n",
       "      <td>0.380952</td>\n",
       "      <td>1903.292261</td>\n",
       "    </tr>\n",
       "    <tr>\n",
       "      <th>10</th>\n",
       "      <td>0.535354</td>\n",
       "      <td>Hypno</td>\n",
       "      <td>97</td>\n",
       "      <td>Psychic</td>\n",
       "      <td>0.106000</td>\n",
       "      <td>0.278947</td>\n",
       "      <td>0.357895</td>\n",
       "      <td>0.363158</td>\n",
       "      <td>1643.564726</td>\n",
       "    </tr>\n",
       "    <tr>\n",
       "      <th>11</th>\n",
       "      <td>0.666667</td>\n",
       "      <td>Jolteon</td>\n",
       "      <td>135</td>\n",
       "      <td>Electric</td>\n",
       "      <td>0.003333</td>\n",
       "      <td>0.000000</td>\n",
       "      <td>0.100000</td>\n",
       "      <td>0.900000</td>\n",
       "      <td>1299.177569</td>\n",
       "    </tr>\n",
       "    <tr>\n",
       "      <th>12</th>\n",
       "      <td>0.666667</td>\n",
       "      <td>Pinsir</td>\n",
       "      <td>127</td>\n",
       "      <td>Bug</td>\n",
       "      <td>0.468000</td>\n",
       "      <td>0.234604</td>\n",
       "      <td>0.304985</td>\n",
       "      <td>0.460411</td>\n",
       "      <td>2449.282327</td>\n",
       "    </tr>\n",
       "    <tr>\n",
       "      <th>13</th>\n",
       "      <td>0.648148</td>\n",
       "      <td>Gengar</td>\n",
       "      <td>94</td>\n",
       "      <td>Ghost</td>\n",
       "      <td>0.004000</td>\n",
       "      <td>0.333333</td>\n",
       "      <td>0.222222</td>\n",
       "      <td>0.444444</td>\n",
       "      <td>911.604196</td>\n",
       "    </tr>\n",
       "    <tr>\n",
       "      <th>14</th>\n",
       "      <td>0.505051</td>\n",
       "      <td>Jynx</td>\n",
       "      <td>124</td>\n",
       "      <td>Ice</td>\n",
       "      <td>0.251667</td>\n",
       "      <td>0.274827</td>\n",
       "      <td>0.369515</td>\n",
       "      <td>0.355658</td>\n",
       "      <td>1861.907567</td>\n",
       "    </tr>\n",
       "  </tbody>\n",
       "</table>\n",
       "</div>"
      ],
      "text/plain": [
       "    Capture_rate       Name  Pokemon No.    Type 1  appear_rate  l_evening  \\\n",
       "0       0.640000  Dragonite          149    Dragon     0.008000   0.461538   \n",
       "1       0.666667    Snorlax          143    Normal     0.024333   0.280000   \n",
       "2       0.666667     Lapras          131     Water     0.006667   0.166667   \n",
       "3       0.628205   Arcanine           59      Fire     0.010667   0.272727   \n",
       "4       0.666667  Exeggutor          103     Grass     0.009667   0.285714   \n",
       "5       0.500000        Muk           89    Poison     0.001667   0.200000   \n",
       "6       0.666667    Machamp           68  Fighting          NaN        NaN   \n",
       "7       0.611111   Clefable           36     Fairy     0.021333   0.250000   \n",
       "8       0.666667      Golem           76      Rock     0.006667   0.250000   \n",
       "9       0.666667     Rhydon          112    Ground     0.014333   0.285714   \n",
       "10      0.535354      Hypno           97   Psychic     0.106000   0.278947   \n",
       "11      0.666667    Jolteon          135  Electric     0.003333   0.000000   \n",
       "12      0.666667     Pinsir          127       Bug     0.468000   0.234604   \n",
       "13      0.648148     Gengar           94     Ghost     0.004000   0.333333   \n",
       "14      0.505051       Jynx          124       Ice     0.251667   0.274827   \n",
       "\n",
       "      l_morn   l_night  population_density  \n",
       "0   0.230769  0.307692         1396.411398  \n",
       "1   0.360000  0.360000         1381.407307  \n",
       "2   0.416667  0.416667         1151.883052  \n",
       "3   0.090909  0.636364         1296.309300  \n",
       "4   0.214286  0.500000         1481.762987  \n",
       "5   0.400000  0.400000         1357.125044  \n",
       "6        NaN       NaN                 NaN  \n",
       "7   0.250000  0.500000         1560.368241  \n",
       "8   0.250000  0.500000          794.467895  \n",
       "9   0.333333  0.380952         1903.292261  \n",
       "10  0.357895  0.363158         1643.564726  \n",
       "11  0.100000  0.900000         1299.177569  \n",
       "12  0.304985  0.460411         2449.282327  \n",
       "13  0.222222  0.444444          911.604196  \n",
       "14  0.369515  0.355658         1861.907567  "
      ]
     },
     "execution_count": 54,
     "metadata": {},
     "output_type": "execute_result"
    }
   ],
   "source": [
    "df"
   ]
  },
  {
   "cell_type": "code",
   "execution_count": 55,
   "metadata": {
    "collapsed": false
   },
   "outputs": [
    {
     "data": {
      "text/html": [
       "<div>\n",
       "<table border=\"1\" class=\"dataframe\">\n",
       "  <thead>\n",
       "    <tr style=\"text-align: right;\">\n",
       "      <th></th>\n",
       "      <th>Name</th>\n",
       "      <th>Pokemon No.</th>\n",
       "      <th>Type 1</th>\n",
       "      <th>appear_rate</th>\n",
       "      <th>l_evening</th>\n",
       "      <th>Capture_rate</th>\n",
       "      <th>l_morn</th>\n",
       "      <th>l_night</th>\n",
       "      <th>population_density</th>\n",
       "    </tr>\n",
       "  </thead>\n",
       "  <tbody>\n",
       "    <tr>\n",
       "      <th>0</th>\n",
       "      <td>Dragonite</td>\n",
       "      <td>149</td>\n",
       "      <td>Dragon</td>\n",
       "      <td>0.008000</td>\n",
       "      <td>0.461538</td>\n",
       "      <td>0.640000</td>\n",
       "      <td>0.230769</td>\n",
       "      <td>0.307692</td>\n",
       "      <td>1396.411398</td>\n",
       "    </tr>\n",
       "    <tr>\n",
       "      <th>1</th>\n",
       "      <td>Snorlax</td>\n",
       "      <td>143</td>\n",
       "      <td>Normal</td>\n",
       "      <td>0.024333</td>\n",
       "      <td>0.280000</td>\n",
       "      <td>0.666667</td>\n",
       "      <td>0.360000</td>\n",
       "      <td>0.360000</td>\n",
       "      <td>1381.407307</td>\n",
       "    </tr>\n",
       "    <tr>\n",
       "      <th>2</th>\n",
       "      <td>Lapras</td>\n",
       "      <td>131</td>\n",
       "      <td>Water</td>\n",
       "      <td>0.006667</td>\n",
       "      <td>0.166667</td>\n",
       "      <td>0.666667</td>\n",
       "      <td>0.416667</td>\n",
       "      <td>0.416667</td>\n",
       "      <td>1151.883052</td>\n",
       "    </tr>\n",
       "    <tr>\n",
       "      <th>3</th>\n",
       "      <td>Arcanine</td>\n",
       "      <td>59</td>\n",
       "      <td>Fire</td>\n",
       "      <td>0.010667</td>\n",
       "      <td>0.272727</td>\n",
       "      <td>0.628205</td>\n",
       "      <td>0.090909</td>\n",
       "      <td>0.636364</td>\n",
       "      <td>1296.309300</td>\n",
       "    </tr>\n",
       "    <tr>\n",
       "      <th>4</th>\n",
       "      <td>Exeggutor</td>\n",
       "      <td>103</td>\n",
       "      <td>Grass</td>\n",
       "      <td>0.009667</td>\n",
       "      <td>0.285714</td>\n",
       "      <td>0.666667</td>\n",
       "      <td>0.214286</td>\n",
       "      <td>0.500000</td>\n",
       "      <td>1481.762987</td>\n",
       "    </tr>\n",
       "    <tr>\n",
       "      <th>5</th>\n",
       "      <td>Muk</td>\n",
       "      <td>89</td>\n",
       "      <td>Poison</td>\n",
       "      <td>0.001667</td>\n",
       "      <td>0.200000</td>\n",
       "      <td>0.500000</td>\n",
       "      <td>0.400000</td>\n",
       "      <td>0.400000</td>\n",
       "      <td>1357.125044</td>\n",
       "    </tr>\n",
       "    <tr>\n",
       "      <th>6</th>\n",
       "      <td>Machamp</td>\n",
       "      <td>68</td>\n",
       "      <td>Fighting</td>\n",
       "      <td>NaN</td>\n",
       "      <td>NaN</td>\n",
       "      <td>0.666667</td>\n",
       "      <td>NaN</td>\n",
       "      <td>NaN</td>\n",
       "      <td>NaN</td>\n",
       "    </tr>\n",
       "    <tr>\n",
       "      <th>7</th>\n",
       "      <td>Clefable</td>\n",
       "      <td>36</td>\n",
       "      <td>Fairy</td>\n",
       "      <td>0.021333</td>\n",
       "      <td>0.250000</td>\n",
       "      <td>0.611111</td>\n",
       "      <td>0.250000</td>\n",
       "      <td>0.500000</td>\n",
       "      <td>1560.368241</td>\n",
       "    </tr>\n",
       "    <tr>\n",
       "      <th>8</th>\n",
       "      <td>Golem</td>\n",
       "      <td>76</td>\n",
       "      <td>Rock</td>\n",
       "      <td>0.006667</td>\n",
       "      <td>0.250000</td>\n",
       "      <td>0.666667</td>\n",
       "      <td>0.250000</td>\n",
       "      <td>0.500000</td>\n",
       "      <td>794.467895</td>\n",
       "    </tr>\n",
       "    <tr>\n",
       "      <th>9</th>\n",
       "      <td>Rhydon</td>\n",
       "      <td>112</td>\n",
       "      <td>Ground</td>\n",
       "      <td>0.014333</td>\n",
       "      <td>0.285714</td>\n",
       "      <td>0.666667</td>\n",
       "      <td>0.333333</td>\n",
       "      <td>0.380952</td>\n",
       "      <td>1903.292261</td>\n",
       "    </tr>\n",
       "    <tr>\n",
       "      <th>10</th>\n",
       "      <td>Hypno</td>\n",
       "      <td>97</td>\n",
       "      <td>Psychic</td>\n",
       "      <td>0.106000</td>\n",
       "      <td>0.278947</td>\n",
       "      <td>0.535354</td>\n",
       "      <td>0.357895</td>\n",
       "      <td>0.363158</td>\n",
       "      <td>1643.564726</td>\n",
       "    </tr>\n",
       "    <tr>\n",
       "      <th>11</th>\n",
       "      <td>Jolteon</td>\n",
       "      <td>135</td>\n",
       "      <td>Electric</td>\n",
       "      <td>0.003333</td>\n",
       "      <td>0.000000</td>\n",
       "      <td>0.666667</td>\n",
       "      <td>0.100000</td>\n",
       "      <td>0.900000</td>\n",
       "      <td>1299.177569</td>\n",
       "    </tr>\n",
       "    <tr>\n",
       "      <th>12</th>\n",
       "      <td>Pinsir</td>\n",
       "      <td>127</td>\n",
       "      <td>Bug</td>\n",
       "      <td>0.468000</td>\n",
       "      <td>0.234604</td>\n",
       "      <td>0.666667</td>\n",
       "      <td>0.304985</td>\n",
       "      <td>0.460411</td>\n",
       "      <td>2449.282327</td>\n",
       "    </tr>\n",
       "    <tr>\n",
       "      <th>13</th>\n",
       "      <td>Gengar</td>\n",
       "      <td>94</td>\n",
       "      <td>Ghost</td>\n",
       "      <td>0.004000</td>\n",
       "      <td>0.333333</td>\n",
       "      <td>0.648148</td>\n",
       "      <td>0.222222</td>\n",
       "      <td>0.444444</td>\n",
       "      <td>911.604196</td>\n",
       "    </tr>\n",
       "    <tr>\n",
       "      <th>14</th>\n",
       "      <td>Jynx</td>\n",
       "      <td>124</td>\n",
       "      <td>Ice</td>\n",
       "      <td>0.251667</td>\n",
       "      <td>0.274827</td>\n",
       "      <td>0.505051</td>\n",
       "      <td>0.369515</td>\n",
       "      <td>0.355658</td>\n",
       "      <td>1861.907567</td>\n",
       "    </tr>\n",
       "  </tbody>\n",
       "</table>\n",
       "</div>"
      ],
      "text/plain": [
       "         Name  Pokemon No.    Type 1  appear_rate  l_evening  Capture_rate  \\\n",
       "0   Dragonite          149    Dragon     0.008000   0.461538      0.640000   \n",
       "1     Snorlax          143    Normal     0.024333   0.280000      0.666667   \n",
       "2      Lapras          131     Water     0.006667   0.166667      0.666667   \n",
       "3    Arcanine           59      Fire     0.010667   0.272727      0.628205   \n",
       "4   Exeggutor          103     Grass     0.009667   0.285714      0.666667   \n",
       "5         Muk           89    Poison     0.001667   0.200000      0.500000   \n",
       "6     Machamp           68  Fighting          NaN        NaN      0.666667   \n",
       "7    Clefable           36     Fairy     0.021333   0.250000      0.611111   \n",
       "8       Golem           76      Rock     0.006667   0.250000      0.666667   \n",
       "9      Rhydon          112    Ground     0.014333   0.285714      0.666667   \n",
       "10      Hypno           97   Psychic     0.106000   0.278947      0.535354   \n",
       "11    Jolteon          135  Electric     0.003333   0.000000      0.666667   \n",
       "12     Pinsir          127       Bug     0.468000   0.234604      0.666667   \n",
       "13     Gengar           94     Ghost     0.004000   0.333333      0.648148   \n",
       "14       Jynx          124       Ice     0.251667   0.274827      0.505051   \n",
       "\n",
       "      l_morn   l_night  population_density  \n",
       "0   0.230769  0.307692         1396.411398  \n",
       "1   0.360000  0.360000         1381.407307  \n",
       "2   0.416667  0.416667         1151.883052  \n",
       "3   0.090909  0.636364         1296.309300  \n",
       "4   0.214286  0.500000         1481.762987  \n",
       "5   0.400000  0.400000         1357.125044  \n",
       "6        NaN       NaN                 NaN  \n",
       "7   0.250000  0.500000         1560.368241  \n",
       "8   0.250000  0.500000          794.467895  \n",
       "9   0.333333  0.380952         1903.292261  \n",
       "10  0.357895  0.363158         1643.564726  \n",
       "11  0.100000  0.900000         1299.177569  \n",
       "12  0.304985  0.460411         2449.282327  \n",
       "13  0.222222  0.444444          911.604196  \n",
       "14  0.369515  0.355658         1861.907567  "
      ]
     },
     "execution_count": 55,
     "metadata": {},
     "output_type": "execute_result"
    }
   ],
   "source": [
    "# get a list of columns\n",
    "cols = list(df)\n",
    "# move the column to head of list using index, pop and insert\n",
    "cols.insert(5, cols.pop(cols.index('Capture_rate')))\n",
    "df = df.ix[:, cols]\n",
    "df"
   ]
  },
  {
   "cell_type": "code",
   "execution_count": 56,
   "metadata": {
    "collapsed": false
   },
   "outputs": [
    {
     "data": {
      "text/html": [
       "<div>\n",
       "<table border=\"1\" class=\"dataframe\">\n",
       "  <thead>\n",
       "    <tr style=\"text-align: right;\">\n",
       "      <th></th>\n",
       "      <th>Name</th>\n",
       "      <th>Type 1</th>\n",
       "      <th>appear_rate</th>\n",
       "      <th>l_evening</th>\n",
       "      <th>Capture_rate</th>\n",
       "      <th>l_morn</th>\n",
       "      <th>l_night</th>\n",
       "      <th>population_density</th>\n",
       "    </tr>\n",
       "    <tr>\n",
       "      <th>Pokemon No.</th>\n",
       "      <th></th>\n",
       "      <th></th>\n",
       "      <th></th>\n",
       "      <th></th>\n",
       "      <th></th>\n",
       "      <th></th>\n",
       "      <th></th>\n",
       "      <th></th>\n",
       "    </tr>\n",
       "  </thead>\n",
       "  <tbody>\n",
       "    <tr>\n",
       "      <th>149</th>\n",
       "      <td>Dragonite</td>\n",
       "      <td>Dragon</td>\n",
       "      <td>0.008000</td>\n",
       "      <td>0.461538</td>\n",
       "      <td>0.640000</td>\n",
       "      <td>0.230769</td>\n",
       "      <td>0.307692</td>\n",
       "      <td>1396.411398</td>\n",
       "    </tr>\n",
       "    <tr>\n",
       "      <th>143</th>\n",
       "      <td>Snorlax</td>\n",
       "      <td>Normal</td>\n",
       "      <td>0.024333</td>\n",
       "      <td>0.280000</td>\n",
       "      <td>0.666667</td>\n",
       "      <td>0.360000</td>\n",
       "      <td>0.360000</td>\n",
       "      <td>1381.407307</td>\n",
       "    </tr>\n",
       "    <tr>\n",
       "      <th>131</th>\n",
       "      <td>Lapras</td>\n",
       "      <td>Water</td>\n",
       "      <td>0.006667</td>\n",
       "      <td>0.166667</td>\n",
       "      <td>0.666667</td>\n",
       "      <td>0.416667</td>\n",
       "      <td>0.416667</td>\n",
       "      <td>1151.883052</td>\n",
       "    </tr>\n",
       "    <tr>\n",
       "      <th>59</th>\n",
       "      <td>Arcanine</td>\n",
       "      <td>Fire</td>\n",
       "      <td>0.010667</td>\n",
       "      <td>0.272727</td>\n",
       "      <td>0.628205</td>\n",
       "      <td>0.090909</td>\n",
       "      <td>0.636364</td>\n",
       "      <td>1296.309300</td>\n",
       "    </tr>\n",
       "    <tr>\n",
       "      <th>103</th>\n",
       "      <td>Exeggutor</td>\n",
       "      <td>Grass</td>\n",
       "      <td>0.009667</td>\n",
       "      <td>0.285714</td>\n",
       "      <td>0.666667</td>\n",
       "      <td>0.214286</td>\n",
       "      <td>0.500000</td>\n",
       "      <td>1481.762987</td>\n",
       "    </tr>\n",
       "    <tr>\n",
       "      <th>89</th>\n",
       "      <td>Muk</td>\n",
       "      <td>Poison</td>\n",
       "      <td>0.001667</td>\n",
       "      <td>0.200000</td>\n",
       "      <td>0.500000</td>\n",
       "      <td>0.400000</td>\n",
       "      <td>0.400000</td>\n",
       "      <td>1357.125044</td>\n",
       "    </tr>\n",
       "    <tr>\n",
       "      <th>68</th>\n",
       "      <td>Machamp</td>\n",
       "      <td>Fighting</td>\n",
       "      <td>NaN</td>\n",
       "      <td>NaN</td>\n",
       "      <td>0.666667</td>\n",
       "      <td>NaN</td>\n",
       "      <td>NaN</td>\n",
       "      <td>NaN</td>\n",
       "    </tr>\n",
       "    <tr>\n",
       "      <th>36</th>\n",
       "      <td>Clefable</td>\n",
       "      <td>Fairy</td>\n",
       "      <td>0.021333</td>\n",
       "      <td>0.250000</td>\n",
       "      <td>0.611111</td>\n",
       "      <td>0.250000</td>\n",
       "      <td>0.500000</td>\n",
       "      <td>1560.368241</td>\n",
       "    </tr>\n",
       "    <tr>\n",
       "      <th>76</th>\n",
       "      <td>Golem</td>\n",
       "      <td>Rock</td>\n",
       "      <td>0.006667</td>\n",
       "      <td>0.250000</td>\n",
       "      <td>0.666667</td>\n",
       "      <td>0.250000</td>\n",
       "      <td>0.500000</td>\n",
       "      <td>794.467895</td>\n",
       "    </tr>\n",
       "    <tr>\n",
       "      <th>112</th>\n",
       "      <td>Rhydon</td>\n",
       "      <td>Ground</td>\n",
       "      <td>0.014333</td>\n",
       "      <td>0.285714</td>\n",
       "      <td>0.666667</td>\n",
       "      <td>0.333333</td>\n",
       "      <td>0.380952</td>\n",
       "      <td>1903.292261</td>\n",
       "    </tr>\n",
       "    <tr>\n",
       "      <th>97</th>\n",
       "      <td>Hypno</td>\n",
       "      <td>Psychic</td>\n",
       "      <td>0.106000</td>\n",
       "      <td>0.278947</td>\n",
       "      <td>0.535354</td>\n",
       "      <td>0.357895</td>\n",
       "      <td>0.363158</td>\n",
       "      <td>1643.564726</td>\n",
       "    </tr>\n",
       "    <tr>\n",
       "      <th>135</th>\n",
       "      <td>Jolteon</td>\n",
       "      <td>Electric</td>\n",
       "      <td>0.003333</td>\n",
       "      <td>0.000000</td>\n",
       "      <td>0.666667</td>\n",
       "      <td>0.100000</td>\n",
       "      <td>0.900000</td>\n",
       "      <td>1299.177569</td>\n",
       "    </tr>\n",
       "    <tr>\n",
       "      <th>127</th>\n",
       "      <td>Pinsir</td>\n",
       "      <td>Bug</td>\n",
       "      <td>0.468000</td>\n",
       "      <td>0.234604</td>\n",
       "      <td>0.666667</td>\n",
       "      <td>0.304985</td>\n",
       "      <td>0.460411</td>\n",
       "      <td>2449.282327</td>\n",
       "    </tr>\n",
       "    <tr>\n",
       "      <th>94</th>\n",
       "      <td>Gengar</td>\n",
       "      <td>Ghost</td>\n",
       "      <td>0.004000</td>\n",
       "      <td>0.333333</td>\n",
       "      <td>0.648148</td>\n",
       "      <td>0.222222</td>\n",
       "      <td>0.444444</td>\n",
       "      <td>911.604196</td>\n",
       "    </tr>\n",
       "    <tr>\n",
       "      <th>124</th>\n",
       "      <td>Jynx</td>\n",
       "      <td>Ice</td>\n",
       "      <td>0.251667</td>\n",
       "      <td>0.274827</td>\n",
       "      <td>0.505051</td>\n",
       "      <td>0.369515</td>\n",
       "      <td>0.355658</td>\n",
       "      <td>1861.907567</td>\n",
       "    </tr>\n",
       "  </tbody>\n",
       "</table>\n",
       "</div>"
      ],
      "text/plain": [
       "                  Name    Type 1  appear_rate  l_evening  Capture_rate  \\\n",
       "Pokemon No.                                                              \n",
       "149          Dragonite    Dragon     0.008000   0.461538      0.640000   \n",
       "143            Snorlax    Normal     0.024333   0.280000      0.666667   \n",
       "131             Lapras     Water     0.006667   0.166667      0.666667   \n",
       "59            Arcanine      Fire     0.010667   0.272727      0.628205   \n",
       "103          Exeggutor     Grass     0.009667   0.285714      0.666667   \n",
       "89                 Muk    Poison     0.001667   0.200000      0.500000   \n",
       "68             Machamp  Fighting          NaN        NaN      0.666667   \n",
       "36            Clefable     Fairy     0.021333   0.250000      0.611111   \n",
       "76               Golem      Rock     0.006667   0.250000      0.666667   \n",
       "112             Rhydon    Ground     0.014333   0.285714      0.666667   \n",
       "97               Hypno   Psychic     0.106000   0.278947      0.535354   \n",
       "135            Jolteon  Electric     0.003333   0.000000      0.666667   \n",
       "127             Pinsir       Bug     0.468000   0.234604      0.666667   \n",
       "94              Gengar     Ghost     0.004000   0.333333      0.648148   \n",
       "124               Jynx       Ice     0.251667   0.274827      0.505051   \n",
       "\n",
       "               l_morn   l_night  population_density  \n",
       "Pokemon No.                                          \n",
       "149          0.230769  0.307692         1396.411398  \n",
       "143          0.360000  0.360000         1381.407307  \n",
       "131          0.416667  0.416667         1151.883052  \n",
       "59           0.090909  0.636364         1296.309300  \n",
       "103          0.214286  0.500000         1481.762987  \n",
       "89           0.400000  0.400000         1357.125044  \n",
       "68                NaN       NaN                 NaN  \n",
       "36           0.250000  0.500000         1560.368241  \n",
       "76           0.250000  0.500000          794.467895  \n",
       "112          0.333333  0.380952         1903.292261  \n",
       "97           0.357895  0.363158         1643.564726  \n",
       "135          0.100000  0.900000         1299.177569  \n",
       "127          0.304985  0.460411         2449.282327  \n",
       "94           0.222222  0.444444          911.604196  \n",
       "124          0.369515  0.355658         1861.907567  "
      ]
     },
     "execution_count": 56,
     "metadata": {},
     "output_type": "execute_result"
    }
   ],
   "source": [
    "df = df.set_index('Pokemon No.')\n",
    "df"
   ]
  },
  {
   "cell_type": "code",
   "execution_count": 57,
   "metadata": {
    "collapsed": true
   },
   "outputs": [],
   "source": [
    "df.to_csv('df_poke_best_Capture.csv', encoding='utf-8')"
   ]
  },
  {
   "cell_type": "code",
   "execution_count": 58,
   "metadata": {
    "collapsed": false
   },
   "outputs": [
    {
     "name": "stderr",
     "output_type": "stream",
     "text": [
      "/home/pandakillalot/anaconda3/lib/python3.6/site-packages/ipykernel/__main__.py:4: FutureWarning: sort(columns=....) is deprecated, use sort_values(by=.....)\n"
     ]
    },
    {
     "data": {
      "text/html": [
       "<div>\n",
       "<table border=\"1\" class=\"dataframe\">\n",
       "  <thead>\n",
       "    <tr style=\"text-align: right;\">\n",
       "      <th></th>\n",
       "      <th>Pokemon No.</th>\n",
       "      <th>Name</th>\n",
       "      <th>Type 1</th>\n",
       "      <th>Total_values</th>\n",
       "      <th>appear_rate</th>\n",
       "      <th>Capture_rate</th>\n",
       "    </tr>\n",
       "  </thead>\n",
       "  <tbody>\n",
       "    <tr>\n",
       "      <th>14</th>\n",
       "      <td>124</td>\n",
       "      <td>Jynx</td>\n",
       "      <td>Ice</td>\n",
       "      <td>1820.0</td>\n",
       "      <td>0.251667</td>\n",
       "      <td>0.505051</td>\n",
       "    </tr>\n",
       "    <tr>\n",
       "      <th>13</th>\n",
       "      <td>94</td>\n",
       "      <td>Gengar</td>\n",
       "      <td>Ghost</td>\n",
       "      <td>2178.6</td>\n",
       "      <td>0.004000</td>\n",
       "      <td>0.648148</td>\n",
       "    </tr>\n",
       "    <tr>\n",
       "      <th>12</th>\n",
       "      <td>127</td>\n",
       "      <td>Pinsir</td>\n",
       "      <td>Bug</td>\n",
       "      <td>2229.0</td>\n",
       "      <td>0.468000</td>\n",
       "      <td>0.666667</td>\n",
       "    </tr>\n",
       "    <tr>\n",
       "      <th>11</th>\n",
       "      <td>135</td>\n",
       "      <td>Jolteon</td>\n",
       "      <td>Electric</td>\n",
       "      <td>2247.0</td>\n",
       "      <td>0.003333</td>\n",
       "      <td>0.666667</td>\n",
       "    </tr>\n",
       "    <tr>\n",
       "      <th>10</th>\n",
       "      <td>97</td>\n",
       "      <td>Hypno</td>\n",
       "      <td>Psychic</td>\n",
       "      <td>2315.8</td>\n",
       "      <td>0.106000</td>\n",
       "      <td>0.535354</td>\n",
       "    </tr>\n",
       "  </tbody>\n",
       "</table>\n",
       "</div>"
      ],
      "text/plain": [
       "    Pokemon No.     Name    Type 1  Total_values  appear_rate  Capture_rate\n",
       "14          124     Jynx       Ice        1820.0     0.251667      0.505051\n",
       "13           94   Gengar     Ghost        2178.6     0.004000      0.648148\n",
       "12          127   Pinsir       Bug        2229.0     0.468000      0.666667\n",
       "11          135  Jolteon  Electric        2247.0     0.003333      0.666667\n",
       "10           97    Hypno   Psychic        2315.8     0.106000      0.535354"
      ]
     },
     "execution_count": 58,
     "metadata": {},
     "output_type": "execute_result"
    }
   ],
   "source": [
    "%matplotlib inline\n",
    "import matplotlib.pyplot as plt\n",
    "import seaborn as sns\n",
    "df = pd.read_csv('ana_4_output/df_poke_best_Capture.csv').sort(columns='Total_values', axis=0, ascending=True)\n",
    "df.head()"
   ]
  },
  {
   "cell_type": "code",
   "execution_count": 59,
   "metadata": {
    "collapsed": false
   },
   "outputs": [
    {
     "data": {
      "text/plain": [
       "<matplotlib.text.Text at 0x7f69c41ee908>"
      ]
     },
     "execution_count": 59,
     "metadata": {},
     "output_type": "execute_result"
    },
    {
     "data": {
      "image/png": "[encoded data removed]",
      "text/plain": [
       "<matplotlib.figure.Figure at 0x7f69c41fe1d0>"
      ]
     },
     "metadata": {},
     "output_type": "display_data"
    }
   ],
   "source": [
    "a4_dims = (11.7, 8.27)\n",
    "fig, ax = plt.subplots(figsize=a4_dims)\n",
    "ax = sns.barplot(x=\"Total_values\", y=\"Capture_rate\", data=df)\n",
    "i  = 0\n",
    "for p in ax.patches:\n",
    "    height = p.get_height()\n",
    "    ax.text(p.get_x()+p.get_width()/2.,\n",
    "            height + 0.0001,\n",
    "            df['Name'].values[i],\n",
    "            ha=\"center\")\n",
    "    i = i+1\n",
    "sns.plt.title('Best Pokemon of Each Type')"
   ]
  },
  {
   "cell_type": "code",
   "execution_count": 60,
   "metadata": {
    "collapsed": true
   },
   "outputs": [],
   "source": [
    "fig.savefig('ana_4_capture_rate.png')"
   ]
  },
  {
   "cell_type": "code",
   "execution_count": null,
   "metadata": {
    "collapsed": true
   },
   "outputs": [],
   "source": []
  }
 ],
 "metadata": {
  "kernelspec": {
   "display_name": "Python 3",
   "language": "python",
   "name": "python3"
  },
  "language_info": {
   "codemirror_mode": {
    "name": "ipython",
    "version": 3
   },
   "file_extension": ".py",
   "mimetype": "text/x-python",
   "name": "python",
   "nbconvert_exporter": "python",
   "pygments_lexer": "ipython3",
   "version": "3.6.0"
  }
 },
 "nbformat": 4,
 "nbformat_minor": 2
}
