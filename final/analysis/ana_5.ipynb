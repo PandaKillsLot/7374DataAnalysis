{
 "cells": [
  {
   "cell_type": "markdown",
   "metadata": {},
   "source": [
    "# Analysis_5\n",
    "- find the pokemon 'nest' in New York according to the coordinates "
   ]
  },
  {
   "cell_type": "code",
   "execution_count": 4,
   "metadata": {
    "collapsed": true
   },
   "outputs": [],
   "source": [
    "import requests\n",
    "import time\n",
    "import json\n",
    "import pandas as pd\n",
    "from pandas import Series, DataFrame\n",
    "import os"
   ]
  },
  {
   "cell_type": "code",
   "execution_count": 22,
   "metadata": {
    "collapsed": false
   },
   "outputs": [
    {
     "name": "stderr",
     "output_type": "stream",
     "text": [
      "/home/pandakillalot/anaconda3/lib/python3.6/site-packages/IPython/core/interactiveshell.py:2717: DtypeWarning: Columns (49) have mixed types. Specify dtype option on import or set low_memory=False.\n",
      "  interactivity=interactivity, compiler=compiler, result=result)\n"
     ]
    },
    {
     "data": {
      "text/html": [
       "<div>\n",
       "<table border=\"1\" class=\"dataframe\">\n",
       "  <thead>\n",
       "    <tr style=\"text-align: right;\">\n",
       "      <th></th>\n",
       "      <th>pokemonId</th>\n",
       "      <th>latitude</th>\n",
       "      <th>longitude</th>\n",
       "      <th>appearedLocalTime</th>\n",
       "      <th>appearedTimeOfDay</th>\n",
       "      <th>city</th>\n",
       "      <th>continent</th>\n",
       "      <th>weather</th>\n",
       "      <th>population_density</th>\n",
       "      <th>urban</th>\n",
       "      <th>suburban</th>\n",
       "      <th>midurban</th>\n",
       "    </tr>\n",
       "  </thead>\n",
       "  <tbody>\n",
       "    <tr>\n",
       "      <th>0</th>\n",
       "      <td>16</td>\n",
       "      <td>20.525745</td>\n",
       "      <td>-97.460829</td>\n",
       "      <td>2016-09-08T03:57:45</td>\n",
       "      <td>night</td>\n",
       "      <td>Mexico_City</td>\n",
       "      <td>America</td>\n",
       "      <td>Foggy</td>\n",
       "      <td>2431.2341</td>\n",
       "      <td>True</td>\n",
       "      <td>True</td>\n",
       "      <td>True</td>\n",
       "    </tr>\n",
       "    <tr>\n",
       "      <th>1</th>\n",
       "      <td>133</td>\n",
       "      <td>20.523695</td>\n",
       "      <td>-97.461167</td>\n",
       "      <td>2016-09-08T03:57:37</td>\n",
       "      <td>night</td>\n",
       "      <td>Mexico_City</td>\n",
       "      <td>America</td>\n",
       "      <td>Foggy</td>\n",
       "      <td>2431.2341</td>\n",
       "      <td>True</td>\n",
       "      <td>True</td>\n",
       "      <td>True</td>\n",
       "    </tr>\n",
       "    <tr>\n",
       "      <th>2</th>\n",
       "      <td>16</td>\n",
       "      <td>38.903590</td>\n",
       "      <td>-77.199780</td>\n",
       "      <td>2016-09-08T03:57:25</td>\n",
       "      <td>night</td>\n",
       "      <td>New_York</td>\n",
       "      <td>America</td>\n",
       "      <td>Clear</td>\n",
       "      <td>761.8856</td>\n",
       "      <td>False</td>\n",
       "      <td>True</td>\n",
       "      <td>True</td>\n",
       "    </tr>\n",
       "    <tr>\n",
       "      <th>3</th>\n",
       "      <td>13</td>\n",
       "      <td>47.665903</td>\n",
       "      <td>-122.312561</td>\n",
       "      <td>2016-09-08T03:56:22</td>\n",
       "      <td>night</td>\n",
       "      <td>Los_Angeles</td>\n",
       "      <td>America</td>\n",
       "      <td>PartlyCloudy</td>\n",
       "      <td>4842.1626</td>\n",
       "      <td>True</td>\n",
       "      <td>True</td>\n",
       "      <td>True</td>\n",
       "    </tr>\n",
       "    <tr>\n",
       "      <th>4</th>\n",
       "      <td>133</td>\n",
       "      <td>47.666454</td>\n",
       "      <td>-122.311628</td>\n",
       "      <td>2016-09-08T03:56:08</td>\n",
       "      <td>night</td>\n",
       "      <td>Los_Angeles</td>\n",
       "      <td>America</td>\n",
       "      <td>PartlyCloudy</td>\n",
       "      <td>4842.1626</td>\n",
       "      <td>True</td>\n",
       "      <td>True</td>\n",
       "      <td>True</td>\n",
       "    </tr>\n",
       "  </tbody>\n",
       "</table>\n",
       "</div>"
      ],
      "text/plain": [
       "   pokemonId   latitude   longitude    appearedLocalTime appearedTimeOfDay  \\\n",
       "0         16  20.525745  -97.460829  2016-09-08T03:57:45             night   \n",
       "1        133  20.523695  -97.461167  2016-09-08T03:57:37             night   \n",
       "2         16  38.903590  -77.199780  2016-09-08T03:57:25             night   \n",
       "3         13  47.665903 -122.312561  2016-09-08T03:56:22             night   \n",
       "4        133  47.666454 -122.311628  2016-09-08T03:56:08             night   \n",
       "\n",
       "          city continent       weather  population_density  urban suburban  \\\n",
       "0  Mexico_City   America         Foggy           2431.2341   True     True   \n",
       "1  Mexico_City   America         Foggy           2431.2341   True     True   \n",
       "2     New_York   America         Clear            761.8856  False     True   \n",
       "3  Los_Angeles   America  PartlyCloudy           4842.1626   True     True   \n",
       "4  Los_Angeles   America  PartlyCloudy           4842.1626   True     True   \n",
       "\n",
       "  midurban  \n",
       "0     True  \n",
       "1     True  \n",
       "2     True  \n",
       "3     True  \n",
       "4     True  "
      ]
     },
     "execution_count": 22,
     "metadata": {},
     "output_type": "execute_result"
    }
   ],
   "source": [
    "# Dataset consists of roughly 293,000 historical appearances of Pokemon\n",
    "GO_data = pd.read_csv('../data/300k.csv')\n",
    "# filter cols\n",
    "GO_data = GO_data.loc[:,['pokemonId','latitude','longitude','appearedLocalTime','appearedTimeOfDay','city','continent','weather','population_density','urban','suburban','midurban']] \n",
    "GO_data.head()"
   ]
  },
  {
   "cell_type": "code",
   "execution_count": 23,
   "metadata": {
    "collapsed": false
   },
   "outputs": [
    {
     "data": {
      "text/plain": [
       "(296021, 12)"
      ]
     },
     "execution_count": 23,
     "metadata": {},
     "output_type": "execute_result"
    }
   ],
   "source": [
    "# all data size\n",
    "GO_data.shape"
   ]
  },
  {
   "cell_type": "code",
   "execution_count": 24,
   "metadata": {
    "collapsed": false
   },
   "outputs": [
    {
     "data": {
      "text/plain": [
       "(150545, 12)"
      ]
     },
     "execution_count": 24,
     "metadata": {},
     "output_type": "execute_result"
    }
   ],
   "source": [
    "# 'New_York' data size \n",
    "GO_data = GO_data[GO_data['continent'] == 'America']\n",
    "GO_data.shape"
   ]
  },
  {
   "cell_type": "code",
   "execution_count": 25,
   "metadata": {
    "collapsed": false
   },
   "outputs": [
    {
     "data": {
      "text/html": [
       "<div>\n",
       "<table border=\"1\" class=\"dataframe\">\n",
       "  <thead>\n",
       "    <tr style=\"text-align: right;\">\n",
       "      <th></th>\n",
       "      <th>pokemonId</th>\n",
       "      <th>latitude</th>\n",
       "      <th>longitude</th>\n",
       "      <th>appearedLocalTime</th>\n",
       "      <th>appearedTimeOfDay</th>\n",
       "      <th>city</th>\n",
       "      <th>continent</th>\n",
       "      <th>weather</th>\n",
       "      <th>population_density</th>\n",
       "      <th>urban</th>\n",
       "      <th>suburban</th>\n",
       "      <th>midurban</th>\n",
       "    </tr>\n",
       "  </thead>\n",
       "  <tbody>\n",
       "    <tr>\n",
       "      <th>0</th>\n",
       "      <td>16</td>\n",
       "      <td>20.525745</td>\n",
       "      <td>-97.460829</td>\n",
       "      <td>2016-09-08T03:57:45</td>\n",
       "      <td>night</td>\n",
       "      <td>Mexico_City</td>\n",
       "      <td>America</td>\n",
       "      <td>Foggy</td>\n",
       "      <td>2431.2341</td>\n",
       "      <td>True</td>\n",
       "      <td>True</td>\n",
       "      <td>True</td>\n",
       "    </tr>\n",
       "    <tr>\n",
       "      <th>1</th>\n",
       "      <td>133</td>\n",
       "      <td>20.523695</td>\n",
       "      <td>-97.461167</td>\n",
       "      <td>2016-09-08T03:57:37</td>\n",
       "      <td>night</td>\n",
       "      <td>Mexico_City</td>\n",
       "      <td>America</td>\n",
       "      <td>Foggy</td>\n",
       "      <td>2431.2341</td>\n",
       "      <td>True</td>\n",
       "      <td>True</td>\n",
       "      <td>True</td>\n",
       "    </tr>\n",
       "    <tr>\n",
       "      <th>2</th>\n",
       "      <td>16</td>\n",
       "      <td>38.903590</td>\n",
       "      <td>-77.199780</td>\n",
       "      <td>2016-09-08T03:57:25</td>\n",
       "      <td>night</td>\n",
       "      <td>New_York</td>\n",
       "      <td>America</td>\n",
       "      <td>Clear</td>\n",
       "      <td>761.8856</td>\n",
       "      <td>False</td>\n",
       "      <td>True</td>\n",
       "      <td>True</td>\n",
       "    </tr>\n",
       "    <tr>\n",
       "      <th>3</th>\n",
       "      <td>13</td>\n",
       "      <td>47.665903</td>\n",
       "      <td>-122.312561</td>\n",
       "      <td>2016-09-08T03:56:22</td>\n",
       "      <td>night</td>\n",
       "      <td>Los_Angeles</td>\n",
       "      <td>America</td>\n",
       "      <td>PartlyCloudy</td>\n",
       "      <td>4842.1626</td>\n",
       "      <td>True</td>\n",
       "      <td>True</td>\n",
       "      <td>True</td>\n",
       "    </tr>\n",
       "    <tr>\n",
       "      <th>4</th>\n",
       "      <td>133</td>\n",
       "      <td>47.666454</td>\n",
       "      <td>-122.311628</td>\n",
       "      <td>2016-09-08T03:56:08</td>\n",
       "      <td>night</td>\n",
       "      <td>Los_Angeles</td>\n",
       "      <td>America</td>\n",
       "      <td>PartlyCloudy</td>\n",
       "      <td>4842.1626</td>\n",
       "      <td>True</td>\n",
       "      <td>True</td>\n",
       "      <td>True</td>\n",
       "    </tr>\n",
       "  </tbody>\n",
       "</table>\n",
       "</div>"
      ],
      "text/plain": [
       "   pokemonId   latitude   longitude    appearedLocalTime appearedTimeOfDay  \\\n",
       "0         16  20.525745  -97.460829  2016-09-08T03:57:45             night   \n",
       "1        133  20.523695  -97.461167  2016-09-08T03:57:37             night   \n",
       "2         16  38.903590  -77.199780  2016-09-08T03:57:25             night   \n",
       "3         13  47.665903 -122.312561  2016-09-08T03:56:22             night   \n",
       "4        133  47.666454 -122.311628  2016-09-08T03:56:08             night   \n",
       "\n",
       "          city continent       weather  population_density  urban suburban  \\\n",
       "0  Mexico_City   America         Foggy           2431.2341   True     True   \n",
       "1  Mexico_City   America         Foggy           2431.2341   True     True   \n",
       "2     New_York   America         Clear            761.8856  False     True   \n",
       "3  Los_Angeles   America  PartlyCloudy           4842.1626   True     True   \n",
       "4  Los_Angeles   America  PartlyCloudy           4842.1626   True     True   \n",
       "\n",
       "  midurban  \n",
       "0     True  \n",
       "1     True  \n",
       "2     True  \n",
       "3     True  \n",
       "4     True  "
      ]
     },
     "execution_count": 25,
     "metadata": {},
     "output_type": "execute_result"
    }
   ],
   "source": [
    "GO_data.head()"
   ]
  },
  {
   "cell_type": "markdown",
   "metadata": {},
   "source": [
    "# Use google map api to turn coordinate into real location"
   ]
  },
  {
   "cell_type": "code",
   "execution_count": 26,
   "metadata": {
    "collapsed": true
   },
   "outputs": [],
   "source": [
    "# use google map to know the  location that the coordinate stand for"
   ]
  },
  {
   "cell_type": "code",
   "execution_count": 7,
   "metadata": {
    "collapsed": true
   },
   "outputs": [],
   "source": [
    "url = 'https://maps.googleapis.com/maps/api/geocode/json?latlng='"
   ]
  },
  {
   "cell_type": "code",
   "execution_count": 8,
   "metadata": {
    "collapsed": true
   },
   "outputs": [],
   "source": [
    "# get key from envirn\n",
    "key = '&key=' + os.environ.get('google_key')"
   ]
  },
  {
   "cell_type": "code",
   "execution_count": 9,
   "metadata": {
    "collapsed": false
   },
   "outputs": [],
   "source": [
    "#GO_data['location_geo'] = str(GO_data['latitude']) +\",\"+ str(GO_data['longitude'])\n",
    "#GO_data.head()"
   ]
  },
  {
   "cell_type": "code",
   "execution_count": 15,
   "metadata": {
    "collapsed": true
   },
   "outputs": [],
   "source": [
    "# get lat&lon coordinate from the row and apply it to the search url\n",
    "def my_test2(row):\n",
    "    urrl = url + str(row['latitude']) +\",\"+str(row['longitude']) + key\n",
    "    aaa = requests.get(urrl)\n",
    "    j = aaa.json()\n",
    "    return j['results'][0]['address_components'][3]['long_name'] + \"，\" + j['results'][0]['address_components'][4]['long_name']"
   ]
  },
  {
   "cell_type": "code",
   "execution_count": 16,
   "metadata": {
    "collapsed": true
   },
   "outputs": [],
   "source": [
    "# def to do an 'for (int i = 0; i < 100; i++) like loop'\n",
    "def my_range(start, end, step):\n",
    "    while start <= end:\n",
    "        yield start\n",
    "        start += step"
   ]
  },
  {
   "cell_type": "code",
   "execution_count": 17,
   "metadata": {
    "collapsed": true
   },
   "outputs": [],
   "source": [
    "# divde the dataframe in to small dataframe\n",
    "# get the neighbour info from the response json and write\n",
    "# write the answer  to the csv file\n",
    "def copy_transfer(df,start,end,step,name):\n",
    "    turn = name\n",
    "    for x in my_range(start, end, step):\n",
    "        df_copy = df[x - 100:x].copy()\n",
    "        df_copy['neigbour'] = df_copy.apply(my_test2,axis = 1)\n",
    "        name ='ana_3_output/GO_data_'+ str(turn)+ '.csv' \n",
    "        df_copy.to_csv(name, encoding='utf-8')\n",
    "        turn = turn + 1\n",
    "        time.sleep(50)"
   ]
  },
  {
   "cell_type": "code",
   "execution_count": 19,
   "metadata": {
    "collapsed": false
   },
   "outputs": [],
   "source": [
    "copy_transfer(GO_data,2400,3200,100,22)"
   ]
  },
  {
   "cell_type": "markdown",
   "metadata": {
    "collapsed": true
   },
   "source": [
    "# Find the most popular neighbourhood in United Stats"
   ]
  },
  {
   "cell_type": "code",
   "execution_count": 9,
   "metadata": {
    "collapsed": false
   },
   "outputs": [],
   "source": [
    "l_csv = os.listdir('../data/data_google_map')"
   ]
  },
  {
   "cell_type": "code",
   "execution_count": 10,
   "metadata": {
    "collapsed": false
   },
   "outputs": [
    {
     "data": {
      "text/plain": [
       "30"
      ]
     },
     "execution_count": 10,
     "metadata": {},
     "output_type": "execute_result"
    }
   ],
   "source": [
    "len(l_csv)"
   ]
  },
  {
   "cell_type": "code",
   "execution_count": 15,
   "metadata": {
    "collapsed": true
   },
   "outputs": [],
   "source": [
    "def read_all_neigbour(list_file_name):\n",
    "    l_all =[]\n",
    "    for x in list_file_name:\n",
    "        csv_1 = pd.read_csv('../data/data_google_map/' + x)\n",
    "        s = list(csv_1['neigbour'].values)\n",
    "        l_all = l_all + s\n",
    "    return l_all"
   ]
  },
  {
   "cell_type": "code",
   "execution_count": 16,
   "metadata": {
    "collapsed": false
   },
   "outputs": [
    {
     "data": {
      "text/plain": [
       "3000"
      ]
     },
     "execution_count": 16,
     "metadata": {},
     "output_type": "execute_result"
    }
   ],
   "source": [
    "l_nei = read_all_neigbour(os.listdir('../data/data_google_map'))\n",
    "len(l_nei)"
   ]
  },
  {
   "cell_type": "code",
   "execution_count": 17,
   "metadata": {
    "collapsed": false
   },
   "outputs": [],
   "source": [
    "l_county = [x.split('，')[1] for x in l_nei]"
   ]
  },
  {
   "cell_type": "code",
   "execution_count": 18,
   "metadata": {
    "collapsed": true
   },
   "outputs": [],
   "source": [
    "from nltk import FreqDist"
   ]
  },
  {
   "cell_type": "code",
   "execution_count": 37,
   "metadata": {
    "collapsed": true
   },
   "outputs": [],
   "source": [
    "def count_most(lists):\n",
    "    fd = FreqDist(lists) \n",
    "    word_list = []\n",
    "    for word in fd.keys():\n",
    "        word_list.append((word, fd[word])) \n",
    "    sorted_list = sorted(word_list, key=lambda t:t[1], reverse=True)\n",
    "    print('Most Frequent Words in Persuasion:\\n', sorted_list[:10])\n",
    "    return sorted_list"
   ]
  },
  {
   "cell_type": "code",
   "execution_count": 39,
   "metadata": {
    "collapsed": false
   },
   "outputs": [
    {
     "name": "stdout",
     "output_type": "stream",
     "text": [
      "Most Frequent Words in Persuasion:\n",
      " [('Poza Rica', 202), ('Texas', 180), ('Georgia', 132), ('Chittenden County', 129), ('DuPage County', 117), ('Division No. 11', 106), ('United States', 95), ('Frederick County', 95), ('California', 93), ('Toronto', 78)]\n"
     ]
    }
   ],
   "source": [
    "hot_county = count_most(l_county)"
   ]
  },
  {
   "cell_type": "code",
   "execution_count": 40,
   "metadata": {
    "collapsed": true
   },
   "outputs": [],
   "source": [
    "l_neigbour = [x.split('，')[0] for x in l_nei if x.split('，')[1]]"
   ]
  },
  {
   "cell_type": "code",
   "execution_count": 41,
   "metadata": {
    "collapsed": false
   },
   "outputs": [],
   "source": [
    "def find_neighbour(county):\n",
    "    l_neigbour = [x.split('，')[0] for x in l_nei if x.split('，')[1] == county]\n",
    "    return l_neigbour"
   ]
  },
  {
   "cell_type": "code",
   "execution_count": 42,
   "metadata": {
    "collapsed": false
   },
   "outputs": [],
   "source": [
    "l = find_neighbour('Texas')"
   ]
  },
  {
   "cell_type": "code",
   "execution_count": 43,
   "metadata": {
    "collapsed": false
   },
   "outputs": [
    {
     "name": "stdout",
     "output_type": "stream",
     "text": [
      "Most Frequent Words in Persuasion:\n",
      " [('Hidalgo County', 55), ('Tarrant County', 42), ('Denton County', 37), ('Galveston County', 27), ('Cameron County', 11), ('Fort Bend County', 8)]\n"
     ]
    }
   ],
   "source": [
    "hot_neighbour = count_most(l)"
   ]
  },
  {
   "cell_type": "code",
   "execution_count": 45,
   "metadata": {
    "collapsed": false
   },
   "outputs": [
    {
     "name": "stdout",
     "output_type": "stream",
     "text": [
      "Most Frequent Words in Persuasion:\n",
      " [('Poza Rica', 202)]\n",
      "Most Frequent Words in Persuasion:\n",
      " [('Hidalgo County', 55), ('Tarrant County', 42), ('Denton County', 37), ('Galveston County', 27), ('Cameron County', 11), ('Fort Bend County', 8)]\n",
      "Most Frequent Words in Persuasion:\n",
      " [('Clayton County', 79), ('Upson County', 32), ('Fulton County', 21)]\n",
      "Most Frequent Words in Persuasion:\n",
      " [('Burlington', 129)]\n",
      "Most Frequent Words in Persuasion:\n",
      " [('Naperville Township', 117)]\n",
      "Most Frequent Words in Persuasion:\n",
      " [('Edmonton', 105), ('Winnipeg', 1)]\n",
      "Most Frequent Words in Persuasion:\n",
      " [('California', 33), ('Texas', 15), ('Florida', 11), ('Washington', 8), ('Georgia', 8), ('Massachusetts', 7), ('Virginia', 4), ('Colorado', 3), ('South Carolina', 3), ('Vermont', 1)]\n",
      "Most Frequent Words in Persuasion:\n",
      " [('2, Frederick', 95)]\n",
      "Most Frequent Words in Persuasion:\n",
      " [('Los Angeles County', 44), ('Merced County', 20), ('San Mateo County', 12), ('San Diego County', 11), ('Sonoma County', 5), ('San Francisco County', 1)]\n",
      "Most Frequent Words in Persuasion:\n",
      " [('Scarborough', 52), ('Old Toronto', 25), ('North York', 1)]\n",
      "Most Frequent Words in Persuasion:\n",
      " [('Suffolk County', 45), ('Middlesex County', 30), ('Bristol County', 3)]\n",
      "Most Frequent Words in Persuasion:\n",
      " [('Rainy River District', 75)]\n",
      "Most Frequent Words in Persuasion:\n",
      " [('Palm Beach County', 32), ('Orange County', 30), ('Lee County', 11)]\n",
      "Most Frequent Words in Persuasion:\n",
      " [('Bremen Township', 44), ('Orland Township', 24)]\n",
      "Most Frequent Words in Persuasion:\n",
      " [('New Orleans', 66)]\n",
      "Most Frequent Words in Persuasion:\n",
      " [('Monterrey', 66)]\n",
      "Most Frequent Words in Persuasion:\n",
      " [('Horry County', 61), ('Lexington County', 5)]\n",
      "Most Frequent Words in Persuasion:\n",
      " [('Boston', 66)]\n",
      "Most Frequent Words in Persuasion:\n",
      " [('Springfield', 65)]\n",
      "Most Frequent Words in Persuasion:\n",
      " [('Phoenix', 49), ('Chandler', 9)]\n",
      "Most Frequent Words in Persuasion:\n",
      " [('Metepec', 39), ('Santa Cruz-Barrio-', 5), ('Santiaguito-Barrio-', 4), ('Espiritu Santo-Barrio-', 3), ('Espiritu Santo', 3), ('Santiaguito', 1), ('San Gabriel', 1)]\n",
      "Most Frequent Words in Persuasion:\n",
      " [('5', 34), ('4', 11), ('3', 9)]\n",
      "Most Frequent Words in Persuasion:\n",
      " [('Golden', 47), ('Littleton', 4)]\n",
      "Most Frequent Words in Persuasion:\n",
      " [('Dulles', 27), ('Sterling', 14), ('Broad Run', 3)]\n",
      "Most Frequent Words in Persuasion:\n",
      " [('Halifax', 43), ('Downtown Halifax', 1)]\n",
      "Most Frequent Words in Persuasion:\n",
      " [('San Francisco', 39)]\n",
      "Most Frequent Words in Persuasion:\n",
      " [('Weld County', 38), ('Adams County', 1)]\n",
      "Most Frequent Words in Persuasion:\n",
      " [('Libertyville Township', 16), ('Shields Township', 14), ('Vernon Township', 8)]\n",
      "Most Frequent Words in Persuasion:\n",
      " [('Los Angeles', 34), ('West Covina', 1)]\n",
      "Most Frequent Words in Persuasion:\n",
      " [('Coatzintla', 35)]\n",
      "Most Frequent Words in Persuasion:\n",
      " [('Waterbury', 15), ('22, Hagerstown', 10), ('21, Hagerstown', 9)]\n",
      "Most Frequent Words in Persuasion:\n",
      " [('Monterrey', 32)]\n",
      "Most Frequent Words in Persuasion:\n",
      " [('3', 25), ('1', 5)]\n",
      "Most Frequent Words in Persuasion:\n",
      " [('Jefferson Parish', 21), ('Ascension Parish', 5), ('Orleans Parish', 3)]\n",
      "Most Frequent Words in Persuasion:\n",
      " [('Rio de Janeiro', 26), ('Vila Isabel', 3)]\n",
      "Most Frequent Words in Persuasion:\n",
      " [('Sugar Land', 28)]\n",
      "Most Frequent Words in Persuasion:\n",
      " [('Vancouver', 27)]\n",
      "Most Frequent Words in Persuasion:\n",
      " [('Richlands', 27)]\n",
      "Most Frequent Words in Persuasion:\n",
      " [('Akron', 25)]\n",
      "Most Frequent Words in Persuasion:\n",
      " [('Poza Rica', 16), ('Papantla', 5), ('Coatzintla', 3)]\n",
      "Most Frequent Words in Persuasion:\n",
      " [('Shawnee', 24)]\n",
      "Most Frequent Words in Persuasion:\n",
      " [('Maricopa County', 22)]\n",
      "Most Frequent Words in Persuasion:\n",
      " [('Lorain County', 15), ('Butler County', 3)]\n",
      "Most Frequent Words in Persuasion:\n",
      " [('Papantla de Olarte', 17)]\n",
      "Most Frequent Words in Persuasion:\n",
      " [('Chittenden County', 15), ('Washington County', 1)]\n",
      "Most Frequent Words in Persuasion:\n",
      " [('Cambridge', 13), ('Lowell', 3)]\n",
      "Most Frequent Words in Persuasion:\n",
      " [('Raleigh', 15)]\n",
      "Most Frequent Words in Persuasion:\n",
      " [('East Lampeter Township', 14)]\n",
      "Most Frequent Words in Persuasion:\n",
      " [('Division No. 7', 14)]\n",
      "Most Frequent Words in Persuasion:\n",
      " [('Camuy', 14)]\n",
      "Most Frequent Words in Persuasion:\n",
      " [('12, Oxon Hill', 13)]\n",
      "Most Frequent Words in Persuasion:\n",
      " [('Greater Vancouver', 12)]\n",
      "Most Frequent Words in Persuasion:\n",
      " [('Dranesville', 7), ('Sully', 4), ('Hunter Mill', 1)]\n",
      "Most Frequent Words in Persuasion:\n",
      " [('Wheatland Township', 11)]\n",
      "Most Frequent Words in Persuasion:\n",
      " [('Frederick', 11)]\n",
      "Most Frequent Words in Persuasion:\n",
      " [('Frederick County', 5), (\"Prince George's County\", 5)]\n",
      "Most Frequent Words in Persuasion:\n",
      " [('Hartford County', 10)]\n",
      "Most Frequent Words in Persuasion:\n",
      " [('South San Francisco', 10)]\n",
      "Most Frequent Words in Persuasion:\n",
      " [('Frederick', 10)]\n",
      "Most Frequent Words in Persuasion:\n",
      " [('Mechanicsville', 9)]\n",
      "Most Frequent Words in Persuasion:\n",
      " [('Loudoun County', 8), ('Fairfax County', 1)]\n",
      "Most Frequent Words in Persuasion:\n",
      " [('Northeast Edmonton', 8)]\n",
      "Most Frequent Words in Persuasion:\n",
      " [('Longview', 7)]\n",
      "Most Frequent Words in Persuasion:\n",
      " [('Jefferson County', 5)]\n",
      "Most Frequent Words in Persuasion:\n",
      " [('Langley', 5)]\n",
      "Most Frequent Words in Persuasion:\n",
      " [('Seattle', 5)]\n",
      "Most Frequent Words in Persuasion:\n",
      " [('Division No. 11', 4)]\n",
      "Most Frequent Words in Persuasion:\n",
      " [('Cook County', 3), ('Lake County', 1)]\n",
      "Most Frequent Words in Persuasion:\n",
      " [('C', 3)]\n",
      "Most Frequent Words in Persuasion:\n",
      " [('Aurora', 3)]\n",
      "Most Frequent Words in Persuasion:\n",
      " [('6, Waldorf', 3)]\n",
      "Most Frequent Words in Persuasion:\n",
      " [('Marion County', 3)]\n",
      "Most Frequent Words in Persuasion:\n",
      " [('Sedgwick County', 2), ('Johnson County', 1)]\n",
      "Most Frequent Words in Persuasion:\n",
      " [('Denver', 3)]\n",
      "Most Frequent Words in Persuasion:\n",
      " [('Kamloops', 3)]\n",
      "Most Frequent Words in Persuasion:\n",
      " [('Toronto', 3)]\n",
      "Most Frequent Words in Persuasion:\n",
      " [('Snohomish County', 1), ('Cowlitz County', 1)]\n",
      "Most Frequent Words in Persuasion:\n",
      " [('Brooklyn', 2)]\n",
      "Most Frequent Words in Persuasion:\n",
      " [('Beavercreek Township', 2)]\n",
      "Most Frequent Words in Persuasion:\n",
      " [('Hollins', 2)]\n",
      "Most Frequent Words in Persuasion:\n",
      " [('1', 2)]\n",
      "Most Frequent Words in Persuasion:\n",
      " [('Ontario', 2)]\n",
      "Most Frequent Words in Persuasion:\n",
      " [('Sainte-Foy-Sillery-Cap-Rouge', 2)]\n",
      "Most Frequent Words in Persuasion:\n",
      " [('Washoe County', 2)]\n",
      "Most Frequent Words in Persuasion:\n",
      " [('Portland', 1)]\n",
      "Most Frequent Words in Persuasion:\n",
      " [('Norwich Township', 1)]\n",
      "Most Frequent Words in Persuasion:\n",
      " [('Friendship', 1)]\n",
      "Most Frequent Words in Persuasion:\n",
      " [('Downtown', 1)]\n",
      "Most Frequent Words in Persuasion:\n",
      " [('Three Chopt', 1)]\n",
      "Most Frequent Words in Persuasion:\n",
      " [('Northeast Seattle', 1)]\n",
      "Most Frequent Words in Persuasion:\n",
      " [('Central LA', 1)]\n"
     ]
    },
    {
     "ename": "AttributeError",
     "evalue": "'dict' object has no attribute 'size'",
     "output_type": "error",
     "traceback": [
      "\u001b[0;31m---------------------------------------------------------------------------\u001b[0m",
      "\u001b[0;31mAttributeError\u001b[0m                            Traceback (most recent call last)",
      "\u001b[0;32m<ipython-input-45-7fbed2e4f8a2>\u001b[0m in \u001b[0;36m<module>\u001b[0;34m()\u001b[0m\n\u001b[1;32m      6\u001b[0m     \u001b[0mdic_rank\u001b[0m\u001b[0;34m[\u001b[0m\u001b[0mcounty\u001b[0m\u001b[0;34m]\u001b[0m \u001b[0;34m=\u001b[0m \u001b[0;34m{\u001b[0m\u001b[0;34m'rank'\u001b[0m\u001b[0;34m:\u001b[0m\u001b[0mrank\u001b[0m\u001b[0;34m,\u001b[0m\u001b[0;34m'number'\u001b[0m\u001b[0;34m:\u001b[0m\u001b[0mx\u001b[0m\u001b[0;34m[\u001b[0m\u001b[0;36m1\u001b[0m\u001b[0;34m]\u001b[0m\u001b[0;34m,\u001b[0m\u001b[0;34m'hot_neighborhood'\u001b[0m\u001b[0;34m:\u001b[0m \u001b[0mcount_most\u001b[0m\u001b[0;34m(\u001b[0m\u001b[0mfind_neighbour\u001b[0m\u001b[0;34m(\u001b[0m\u001b[0mcounty\u001b[0m\u001b[0;34m)\u001b[0m\u001b[0;34m)\u001b[0m\u001b[0;34m}\u001b[0m\u001b[0;34m\u001b[0m\u001b[0m\n\u001b[1;32m      7\u001b[0m     \u001b[0mrank\u001b[0m \u001b[0;34m=\u001b[0m \u001b[0mrank\u001b[0m \u001b[0;34m+\u001b[0m \u001b[0;36m1\u001b[0m\u001b[0;34m\u001b[0m\u001b[0m\n\u001b[0;32m----> 8\u001b[0;31m \u001b[0mdic_rank\u001b[0m\u001b[0;34m.\u001b[0m\u001b[0msize\u001b[0m\u001b[0;34m(\u001b[0m\u001b[0;34m)\u001b[0m\u001b[0;34m\u001b[0m\u001b[0m\n\u001b[0m",
      "\u001b[0;31mAttributeError\u001b[0m: 'dict' object has no attribute 'size'"
     ]
    }
   ],
   "source": [
    "dic_rank = {}\n",
    "rank = 1\n",
    "for x in hot_county:\n",
    "    county = x[0]\n",
    "    number = x[1]\n",
    "    dic_rank[county] = {'rank':rank,'number':x[1],'hot_neighborhood': count_most(find_neighbour(county))}\n",
    "    rank = rank + 1"
   ]
  },
  {
   "cell_type": "code",
   "execution_count": 46,
   "metadata": {
    "collapsed": true
   },
   "outputs": [],
   "source": [
    "with open('ana_5_hot.json','w')as f:\n",
    "    json.dump(dic_rank, f)"
   ]
  },
  {
   "cell_type": "code",
   "execution_count": null,
   "metadata": {
    "collapsed": true
   },
   "outputs": [],
   "source": []
  }
 ],
 "metadata": {
  "kernelspec": {
   "display_name": "Python 3",
   "language": "python",
   "name": "python3"
  },
  "language_info": {
   "codemirror_mode": {
    "name": "ipython",
    "version": 3
   },
   "file_extension": ".py",
   "mimetype": "text/x-python",
   "name": "python",
   "nbconvert_exporter": "python",
   "pygments_lexer": "ipython3",
   "version": "3.6.0"
  }
 },
 "nbformat": 4,
 "nbformat_minor": 2
}
