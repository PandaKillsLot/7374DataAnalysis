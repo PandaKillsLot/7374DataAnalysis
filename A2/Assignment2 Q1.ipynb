{
 "cells": [
  {
   "cell_type": "markdown",
   "metadata": {},
   "source": [
    "# Question 1\n",
    "* Learn and understand Zipf’s Law. \n",
    "* Pick any file (or files) in NLTK package.\n",
    "* Prove if Zipf’s Law works in Natural Language or not. \n",
    "* REQUIREMNTS: (Must Do)\n",
    "* \n",
    "Use ’glob’ to open and read file. If read multiple files use LOOP to achieve. \n",
    "Create at least one function and one lambda function.\n",
    "Save your data as an CSV file contains (Word, Rank, Frequency) with TITLE and Sort it by RANK.\n",
    "Open your CSV file, generate a log-log figure according to the data you saved. \n",
    "Write a conclusion at the end of your code base on your figure.\n",
    "\n"
   ]
  },
  {
   "cell_type": "code",
   "execution_count": 1,
   "metadata": {
    "collapsed": true
   },
   "outputs": [],
   "source": [
    "import glob"
   ]
  },
  {
   "cell_type": "code",
   "execution_count": 3,
   "metadata": {
    "collapsed": false
   },
   "outputs": [],
   "source": [
    "import nltk"
   ]
  },
  {
   "cell_type": "code",
   "execution_count": 4,
   "metadata": {
    "collapsed": false
   },
   "outputs": [
    {
     "data": {
      "text/plain": [
       "'C:\\\\Users\\\\s\\\\AppData\\\\Roaming\\\\nltk_data'"
      ]
     },
     "execution_count": 4,
     "metadata": {},
     "output_type": "execute_result"
    }
   ],
   "source": [
    "# find package path\n",
    "dataStorage = nltk.data.path\n",
    "dataStorage[-1]"
   ]
  },
  {
   "cell_type": "code",
   "execution_count": 5,
   "metadata": {
    "collapsed": false
   },
   "outputs": [],
   "source": [
    "#use glob command to find all doc \n",
    "path = \"C:/Users/s/AppData/Roaming/nltk_data/*/*.txt\"\n",
    "txtList = glob.glob(r\"C:/Users/s/AppData/Roaming/nltk_data/corpora/gutenberg/*.txt\")"
   ]
  },
  {
   "cell_type": "code",
   "execution_count": 6,
   "metadata": {
    "collapsed": false
   },
   "outputs": [
    {
     "name": "stdout",
     "output_type": "stream",
     "text": [
      "C:/Users/s/AppData/Roaming/nltk_data/corpora/gutenberg\\austen-persuasion.txt\n"
     ]
    }
   ],
   "source": [
    "# choose one file as sample\n",
    "fileName = txtList[0]\n",
    "print(fileName)\n",
    "# C:\\Users\\s\\AppData\\Roaming\\nltk_data\\corpora\\gutenberg"
   ]
  },
  {
   "cell_type": "code",
   "execution_count": 7,
   "metadata": {
    "collapsed": false
   },
   "outputs": [
    {
     "name": "stdout",
     "output_type": "stream",
     "text": [
      "['[Sense', 'and', 'Sensibility', 'by', 'Jane', 'Austen', '1811]', '', '', '', 'CHAPTER', '1', '', '', '', '', '', 'The', 'family', 'of']\n"
     ]
    }
   ],
   "source": [
    "# split all contents in sample to works\n",
    "myfile = open('C:/Users/s/AppData/Roaming/nltk_data/corpora/gutenberg/austen-sense.txt','r')\n",
    "arr=[]\n",
    "for lines in myfile.readlines():\n",
    "    lines = lines.replace(\"\\n\",\" \")\n",
    "    lines = lines.replace(\",\",\" \")\n",
    "    lines = lines.split(\" \")\n",
    "    for words in lines:\n",
    "        word = words.split(\" \")\n",
    "        for cell in word:\n",
    "            arr.append(cell)\n",
    "\n",
    "print(arr[0:20])"
   ]
  },
  {
   "cell_type": "code",
   "execution_count": 8,
   "metadata": {
    "collapsed": false
   },
   "outputs": [],
   "source": [
    "import string"
   ]
  },
  {
   "cell_type": "code",
   "execution_count": 9,
   "metadata": {
    "collapsed": false
   },
   "outputs": [
    {
     "name": "stdout",
     "output_type": "stream",
     "text": [
      "{',', '=', '?', '\"', '}', ';', '~', '*', '|', ':', '@', '/', '%', '`', '^', '{', '[', '<', '-', '>', \"'\", '(', '#', '&', ']', ')', '!', '$', '+', '.', '\\\\', '_'}\n"
     ]
    }
   ],
   "source": [
    "#remove all punctuation\n",
    "punc = set(string.punctuation)\n",
    "print(punc)"
   ]
  },
  {
   "cell_type": "code",
   "execution_count": 10,
   "metadata": {
    "collapsed": false
   },
   "outputs": [],
   "source": [
    "#use a dic to hold pairs like\"word:frequency\"\n",
    "wordsList = { } \n",
    "for word in arr:      \n",
    "    if word.lower() not in punc:\n",
    "        if word.lower()in wordsList:\n",
    "            wordsList[word.lower()] = wordsList.get(word.lower(),-1) + 1\n",
    "        else :\n",
    "            wordsList[word.lower()] = 1\n",
    "            \n",
    "del wordsList[\"\"]"
   ]
  },
  {
   "cell_type": "code",
   "execution_count": 11,
   "metadata": {
    "collapsed": true
   },
   "outputs": [],
   "source": [
    "import operator"
   ]
  },
  {
   "cell_type": "code",
   "execution_count": 12,
   "metadata": {
    "collapsed": false
   },
   "outputs": [
    {
     "name": "stdout",
     "output_type": "stream",
     "text": [
      "[('the', 4073), ('to', 4055), ('of', 3549), ('and', 3334), ('her', 2386), ('a', 2035), ('in', 1908), ('was', 1822), ('i', 1687), ('she', 1542)]\n",
      "10768\n"
     ]
    }
   ],
   "source": [
    "#sort the dic\n",
    "sorted_freq_list = list(sorted(wordsList.items(), key=operator.itemgetter(1), reverse=True))\n",
    "print(sorted_freq_list[0:10])\n",
    "print(len(sorted_freq_list))"
   ]
  },
  {
   "cell_type": "code",
   "execution_count": 13,
   "metadata": {
    "collapsed": true
   },
   "outputs": [],
   "source": [
    "#use a lambda function to calculate frequncy\n",
    "f = lambda x, y, z: x * y / z"
   ]
  },
  {
   "cell_type": "code",
   "execution_count": 23,
   "metadata": {
    "collapsed": false
   },
   "outputs": [
    {
     "name": "stdout",
     "output_type": "stream",
     "text": [
      "Zif law : constant N = totalNumber / rank * frequency\n"
     ]
    }
   ],
   "source": [
    "# use a dic to hold pairs like\"word:constant\"\n",
    "print(\"Zif law : constant N = totalNumber / rank * frequency\")\n",
    "L = range(0,10768) \n",
    "resultofWords = { }\n",
    "resultofRank = { }\n",
    "for x in L:\n",
    "    resultofWords[sorted_freq_list[x][0]] = f(sorted_freq_list[x][1], x, 10768)\n",
    "    resultofRank[x] = sorted_freq_list[x][1]"
   ]
  },
  {
   "cell_type": "code",
   "execution_count": 24,
   "metadata": {
    "collapsed": false
   },
   "outputs": [
    {
     "name": "stdout",
     "output_type": "stream",
     "text": [
      "[('with', 1.8072065378900446), ('an', 1.799777117384844), ('no', 1.7964338781575038), ('or', 1.7838038632986628), ('will', 1.7672734026745913), ('their', 1.75037147102526), ('me', 1.75018573551263), ('you', 1.7433135215453195), ('such', 1.7325408618127787)]\n"
     ]
    }
   ],
   "source": [
    "#sort the dic\n",
    "sorted_Zipf_words = list(sorted(resultofWords.items(), key=operator.itemgetter(1), reverse=True))\n",
    "print(sorted_Zipf_words[1:10])\n",
    "sorted_Zipf_rank = list(sorted(resultofRank.items(), key=operator.itemgetter(1), reverse=True))"
   ]
  },
  {
   "cell_type": "code",
   "execution_count": 25,
   "metadata": {
    "collapsed": true
   },
   "outputs": [],
   "source": [
    "import csv"
   ]
  },
  {
   "cell_type": "code",
   "execution_count": 26,
   "metadata": {
    "collapsed": true
   },
   "outputs": [],
   "source": [
    "# write the reslut into csv\n",
    "out = open(\"ZIPF'sWords.csv\", 'w',errors = 'ignore')\n",
    "csv_writer = csv.writer(out)\n",
    "for x in sorted_Zipf_words:\n",
    "    csv_writer.writerow(x)\n",
    "out.close()"
   ]
  },
  {
   "cell_type": "code",
   "execution_count": 27,
   "metadata": {
    "collapsed": true
   },
   "outputs": [],
   "source": [
    "# write the reslut into csv\n",
    "out = open(\"ZIPF'sRank.csv\", 'w',errors = 'ignore')\n",
    "csv_writer = csv.writer(out)\n",
    "for x in sorted_Zipf_rank:\n",
    "    csv_writer.writerow(x)\n",
    "out.close()"
   ]
  },
  {
   "cell_type": "code",
   "execution_count": 28,
   "metadata": {
    "collapsed": false
   },
   "outputs": [
    {
     "name": "stdout",
     "output_type": "stream",
     "text": [
      "the constant number is around 1.0, so it's proved\n"
     ]
    }
   ],
   "source": [
    "print(\"the constant number is around 1.0, so it's proved\")"
   ]
  },
  {
   "cell_type": "code",
   "execution_count": null,
   "metadata": {
    "collapsed": true
   },
   "outputs": [],
   "source": []
  }
 ],
 "metadata": {
  "kernelspec": {
   "display_name": "Python 3",
   "language": "python",
   "name": "python3"
  },
  "language_info": {
   "codemirror_mode": {
    "name": "ipython",
    "version": 3
   },
   "file_extension": ".py",
   "mimetype": "text/x-python",
   "name": "python",
   "nbconvert_exporter": "python",
   "pygments_lexer": "ipython3",
   "version": "3.6.0"
  }
 },
 "nbformat": 4,
 "nbformat_minor": 2
}
